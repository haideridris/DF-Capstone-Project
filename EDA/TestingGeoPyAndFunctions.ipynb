{
 "cells": [
  {
   "cell_type": "markdown",
   "source": [
    "# Noticed that a lot of the addresses don't have the postcode in them\n",
    "\n",
    "- This is bad as I would like to have a column of postcode outcodes\n",
    "- Hence I am going to follow this tutorial on how to get Zip Code with given location using GeoPy in Python\n",
    "- I also used this file to play around with designing functions such as the find_postcode_in_address() function\n",
    "\n",
    "https://www.geeksforgeeks.org/get-zip-code-with-given-location-using-geopy-in-python/"
   ],
   "metadata": {
    "collapsed": false
   }
  },
  {
   "cell_type": "code",
   "execution_count": 192,
   "outputs": [],
   "source": [
    "# pip install geopy"
   ],
   "metadata": {
    "collapsed": false
   }
  },
  {
   "cell_type": "code",
   "execution_count": 206,
   "outputs": [],
   "source": [
    "# import module\n",
    "from geopy.geocoders import Nominatim\n",
    "from geopy.extra.rate_limiter import RateLimiter\n",
    "import re"
   ],
   "metadata": {
    "collapsed": false
   }
  },
  {
   "cell_type": "code",
   "execution_count": 200,
   "outputs": [],
   "source": [
    "# initialize Nominatim API\n",
    "geolocator = Nominatim(user_agent=\"myGeolocator\", timeout=None)\n",
    "geocode = RateLimiter(geolocator.geocode, min_delay_seconds=1.0, error_wait_seconds=2.0, swallow_exceptions=True, return_value_on_exception=None)"
   ],
   "metadata": {
    "collapsed": false
   }
  },
  {
   "cell_type": "code",
   "execution_count": 201,
   "outputs": [],
   "source": [
    "place = \"South Street, Normanton, WF6\"\n",
    "location = geolocator.geocode(place)"
   ],
   "metadata": {
    "collapsed": false
   }
  },
  {
   "cell_type": "code",
   "execution_count": 202,
   "outputs": [
    {
     "data": {
      "text/plain": "Location(South Street, Normanton, Warmfield, Wakefield, West Yorkshire, England, WF6 1EE, United Kingdom, (53.6879563, -1.4230688, 0.0))"
     },
     "execution_count": 202,
     "metadata": {},
     "output_type": "execute_result"
    }
   ],
   "source": [
    "location"
   ],
   "metadata": {
    "collapsed": false
   }
  },
  {
   "cell_type": "code",
   "execution_count": 203,
   "outputs": [
    {
     "name": "stdout",
     "output_type": "stream",
     "text": [
      "{'place_id': 115009476, 'licence': 'Data © OpenStreetMap contributors, ODbL 1.0. https://osm.org/copyright', 'osm_type': 'way', 'osm_id': 36892995, 'boundingbox': ['53.6875729', '53.6879619', '-1.4235386', '-1.4224892'], 'lat': '53.6879563', 'lon': '-1.4230688', 'display_name': 'South Street, Normanton, Warmfield, Wakefield, West Yorkshire, England, WF6 1EE, United Kingdom', 'class': 'highway', 'type': 'residential', 'importance': 0.51}\n"
     ]
    }
   ],
   "source": [
    "data = location.raw\n",
    "print(data)"
   ],
   "metadata": {
    "collapsed": false
   }
  },
  {
   "cell_type": "code",
   "execution_count": 204,
   "outputs": [
    {
     "name": "stdout",
     "output_type": "stream",
     "text": [
      "Full Location\n",
      "['South', 'Street,', 'Normanton,', 'Warmfield,', 'Wakefield,', 'West', 'Yorkshire,', 'England,', 'WF6', '1EE,', 'United', 'Kingdom']\n",
      "Out code :  WF6\n"
     ]
    }
   ],
   "source": [
    "loc_data = data['display_name'].split()\n",
    "print(\"Full Location\")\n",
    "print(loc_data)\n",
    "print(\"Out code : \",loc_data[-4])"
   ],
   "metadata": {
    "collapsed": false
   }
  },
  {
   "cell_type": "code",
   "execution_count": 251,
   "outputs": [],
   "source": [
    "import pandas as pd\n",
    "propertiescopy = pd.read_csv('../Data/properties_geocoded.csv')"
   ],
   "metadata": {
    "collapsed": false
   }
  },
  {
   "cell_type": "code",
   "execution_count": 252,
   "outputs": [
    {
     "data": {
      "text/plain": "                                                    url  \\\n0     https://www.rightmove.co.uk/properties/1315844...   \n1     https://www.rightmove.co.uk/properties/8604795...   \n2     https://www.rightmove.co.uk/properties/1326138...   \n3     https://www.rightmove.co.uk/properties/1311469...   \n4     https://www.rightmove.co.uk/properties/1322668...   \n...                                                 ...   \n4557  https://www.rightmove.co.uk/properties/1328121...   \n4558  https://www.rightmove.co.uk/properties/1328843...   \n4559  https://www.rightmove.co.uk/properties/1281187...   \n4560  https://www.rightmove.co.uk/properties/1328625...   \n4561  https://www.rightmove.co.uk/properties/1265926...   \n\n                                                address  property_type  \\\n0                                   Queen Square, Leeds       Detached   \n1                   Archery Road, Leeds, West Yorkshire       Terraced   \n2                                 Hanover Square, Leeds       Terraced   \n3                   Burley Wood Crescent, Burley, LEEDS       Terraced   \n4                     The Village Street, Burley, Leeds       Detached   \n...                                                 ...            ...   \n4557  Royds Avenue, New Mill, Holmfirth, West Yorksh...       Terraced   \n4558  Greenhill Bank Road, New Mill, Holmfirth, West...       Terraced   \n4559  Thick Hollins, Meltham, Holmfirth, West Yorksh...       Terraced   \n4560  Holmclose, Holmbridge, Holmfirth, West Yorkshi...  Semi-Detached   \n4561                France Hill, Honley, Holmfirth, HD9       Terraced   \n\n      bedrooms  bathrooms    tenure  nearest_station   price  \\\n0            5          2  Freehold              0.7  550000   \n1            5          1  Freehold              1.0  325000   \n2            6          3  Freehold              0.8  450000   \n3            3          1  Freehold              0.5  220000   \n4            5          2  Freehold              0.2  325000   \n...        ...        ...       ...              ...     ...   \n4557         3          1  Freehold              1.5  160000   \n4558         2          1  Freehold              1.6  150000   \n4559         2          1  Freehold              2.8  150000   \n4560         2          1  Freehold              3.4  150000   \n4561         2          1  Freehold              0.5  148000   \n\n                                        cleaned_address  \\\n0                                   Queen Square, Leeds   \n1                   Archery Road, Leeds, West Yorkshire   \n2                                 Hanover Square, Leeds   \n3                   Burley Wood Crescent, Burley, LEEDS   \n4                     The Village Street, Burley, Leeds   \n...                                                 ...   \n4557  Royds Avenue, New Mill, Holmfirth, West Yorksh...   \n4558  Greenhill Bank Road, New Mill, Holmfirth, West...   \n4559  Thick Hollins, Meltham, Holmfirth, West Yorksh...   \n4560  Holmclose, Holmbridge, Holmfirth, West Yorkshi...   \n4561                France Hill, Honley, Holmfirth, HD9   \n\n                                                  gcode  \n0     Queen Square, Arena Quarter, Lovell Park, Leed...  \n1     Archery Road, Arena Quarter, Woodhouse, Leeds,...  \n2     Hanover Square, Hyde Park, Leeds, West Yorkshi...  \n3     Burley Wood Crescent, Burley, Leeds, West York...  \n4     The Village Street, Burley, Leeds, West Yorksh...  \n...                                                 ...  \n4557                                                NaN  \n4558                                                NaN  \n4559                                                NaN  \n4560                                                NaN  \n4561                                                NaN  \n\n[4562 rows x 10 columns]",
      "text/html": "<div>\n<style scoped>\n    .dataframe tbody tr th:only-of-type {\n        vertical-align: middle;\n    }\n\n    .dataframe tbody tr th {\n        vertical-align: top;\n    }\n\n    .dataframe thead th {\n        text-align: right;\n    }\n</style>\n<table border=\"1\" class=\"dataframe\">\n  <thead>\n    <tr style=\"text-align: right;\">\n      <th></th>\n      <th>url</th>\n      <th>address</th>\n      <th>property_type</th>\n      <th>bedrooms</th>\n      <th>bathrooms</th>\n      <th>tenure</th>\n      <th>nearest_station</th>\n      <th>price</th>\n      <th>cleaned_address</th>\n      <th>gcode</th>\n    </tr>\n  </thead>\n  <tbody>\n    <tr>\n      <th>0</th>\n      <td>https://www.rightmove.co.uk/properties/1315844...</td>\n      <td>Queen Square, Leeds</td>\n      <td>Detached</td>\n      <td>5</td>\n      <td>2</td>\n      <td>Freehold</td>\n      <td>0.7</td>\n      <td>550000</td>\n      <td>Queen Square, Leeds</td>\n      <td>Queen Square, Arena Quarter, Lovell Park, Leed...</td>\n    </tr>\n    <tr>\n      <th>1</th>\n      <td>https://www.rightmove.co.uk/properties/8604795...</td>\n      <td>Archery Road, Leeds, West Yorkshire</td>\n      <td>Terraced</td>\n      <td>5</td>\n      <td>1</td>\n      <td>Freehold</td>\n      <td>1.0</td>\n      <td>325000</td>\n      <td>Archery Road, Leeds, West Yorkshire</td>\n      <td>Archery Road, Arena Quarter, Woodhouse, Leeds,...</td>\n    </tr>\n    <tr>\n      <th>2</th>\n      <td>https://www.rightmove.co.uk/properties/1326138...</td>\n      <td>Hanover Square, Leeds</td>\n      <td>Terraced</td>\n      <td>6</td>\n      <td>3</td>\n      <td>Freehold</td>\n      <td>0.8</td>\n      <td>450000</td>\n      <td>Hanover Square, Leeds</td>\n      <td>Hanover Square, Hyde Park, Leeds, West Yorkshi...</td>\n    </tr>\n    <tr>\n      <th>3</th>\n      <td>https://www.rightmove.co.uk/properties/1311469...</td>\n      <td>Burley Wood Crescent, Burley, LEEDS</td>\n      <td>Terraced</td>\n      <td>3</td>\n      <td>1</td>\n      <td>Freehold</td>\n      <td>0.5</td>\n      <td>220000</td>\n      <td>Burley Wood Crescent, Burley, LEEDS</td>\n      <td>Burley Wood Crescent, Burley, Leeds, West York...</td>\n    </tr>\n    <tr>\n      <th>4</th>\n      <td>https://www.rightmove.co.uk/properties/1322668...</td>\n      <td>The Village Street, Burley, Leeds</td>\n      <td>Detached</td>\n      <td>5</td>\n      <td>2</td>\n      <td>Freehold</td>\n      <td>0.2</td>\n      <td>325000</td>\n      <td>The Village Street, Burley, Leeds</td>\n      <td>The Village Street, Burley, Leeds, West Yorksh...</td>\n    </tr>\n    <tr>\n      <th>...</th>\n      <td>...</td>\n      <td>...</td>\n      <td>...</td>\n      <td>...</td>\n      <td>...</td>\n      <td>...</td>\n      <td>...</td>\n      <td>...</td>\n      <td>...</td>\n      <td>...</td>\n    </tr>\n    <tr>\n      <th>4557</th>\n      <td>https://www.rightmove.co.uk/properties/1328121...</td>\n      <td>Royds Avenue, New Mill, Holmfirth, West Yorksh...</td>\n      <td>Terraced</td>\n      <td>3</td>\n      <td>1</td>\n      <td>Freehold</td>\n      <td>1.5</td>\n      <td>160000</td>\n      <td>Royds Avenue, New Mill, Holmfirth, West Yorksh...</td>\n      <td>NaN</td>\n    </tr>\n    <tr>\n      <th>4558</th>\n      <td>https://www.rightmove.co.uk/properties/1328843...</td>\n      <td>Greenhill Bank Road, New Mill, Holmfirth, West...</td>\n      <td>Terraced</td>\n      <td>2</td>\n      <td>1</td>\n      <td>Freehold</td>\n      <td>1.6</td>\n      <td>150000</td>\n      <td>Greenhill Bank Road, New Mill, Holmfirth, West...</td>\n      <td>NaN</td>\n    </tr>\n    <tr>\n      <th>4559</th>\n      <td>https://www.rightmove.co.uk/properties/1281187...</td>\n      <td>Thick Hollins, Meltham, Holmfirth, West Yorksh...</td>\n      <td>Terraced</td>\n      <td>2</td>\n      <td>1</td>\n      <td>Freehold</td>\n      <td>2.8</td>\n      <td>150000</td>\n      <td>Thick Hollins, Meltham, Holmfirth, West Yorksh...</td>\n      <td>NaN</td>\n    </tr>\n    <tr>\n      <th>4560</th>\n      <td>https://www.rightmove.co.uk/properties/1328625...</td>\n      <td>Holmclose, Holmbridge, Holmfirth, West Yorkshi...</td>\n      <td>Semi-Detached</td>\n      <td>2</td>\n      <td>1</td>\n      <td>Freehold</td>\n      <td>3.4</td>\n      <td>150000</td>\n      <td>Holmclose, Holmbridge, Holmfirth, West Yorkshi...</td>\n      <td>NaN</td>\n    </tr>\n    <tr>\n      <th>4561</th>\n      <td>https://www.rightmove.co.uk/properties/1265926...</td>\n      <td>France Hill, Honley, Holmfirth, HD9</td>\n      <td>Terraced</td>\n      <td>2</td>\n      <td>1</td>\n      <td>Freehold</td>\n      <td>0.5</td>\n      <td>148000</td>\n      <td>France Hill, Honley, Holmfirth, HD9</td>\n      <td>NaN</td>\n    </tr>\n  </tbody>\n</table>\n<p>4562 rows × 10 columns</p>\n</div>"
     },
     "execution_count": 252,
     "metadata": {},
     "output_type": "execute_result"
    }
   ],
   "source": [
    "propertiescopy"
   ],
   "metadata": {
    "collapsed": false
   }
  },
  {
   "cell_type": "code",
   "execution_count": 253,
   "outputs": [],
   "source": [
    "def find_postcodes_in_address(data):\n",
    "    \"\"\"\n",
    "    A function that finds addresses that do have a postcode but the outcode column hasn't got a value for this due to geopcode method not being able to find it\n",
    "    :param data: A dataframe to apply the find_numerical_answers() function to\n",
    "    :return: A dataframe with a numerical_answer column and value for each row\n",
    "    \"\"\"\n",
    "    data['outcode_from_address'] = data.apply(match_postcodes_in_address, axis=1)\n",
    "    return data"
   ],
   "metadata": {
    "collapsed": false
   }
  },
  {
   "cell_type": "code",
   "execution_count": 254,
   "outputs": [],
   "source": [
    "def match_postcodes_in_address(row):\n",
    "    \"\"\"\n",
    "    Function to see if the cleaned address column for rows that don't have an outcode has the outcode\n",
    "    Then return that outcode and assign it to the row\n",
    "    :param row: A row of a dataframe\n",
    "    :return 1 or NaN: Returns a value of 1 to denote if an answer is numerical in nature\n",
    "    \"\"\"\n",
    "    address = row['cleaned_address']\n",
    "\n",
    "    # Regexes for outcodes for leeds, huddersfield\n",
    "    outcode_regexes = [r'LS\\d{1,2}', r'HD\\d{1,2}', r'HX\\d{1,2}', r'WF\\d{1,2}', r'BD\\d{1,2}']\n",
    "\n",
    "    ldsmatch = re.findall(outcode_regexes[0], address)\n",
    "    hudsmatch = re.findall(outcode_regexes[1], address)\n",
    "    hfxmatch = re.findall(outcode_regexes[2], address)\n",
    "    wfmatch = re.findall(outcode_regexes[3], address)\n",
    "    bdmatch = re.findall(outcode_regexes[4], address)\n",
    "\n",
    "    if ldsmatch:\n",
    "        return ldsmatch[0]\n",
    "    elif hudsmatch:\n",
    "        return hudsmatch[0]\n",
    "    elif hfxmatch:\n",
    "        return  hfxmatch[0]\n",
    "    elif wfmatch:\n",
    "        return wfmatch[0]\n",
    "    elif bdmatch:\n",
    "        return bdmatch[0]\n",
    "    else:\n",
    "        return None"
   ],
   "metadata": {
    "collapsed": false
   }
  },
  {
   "cell_type": "code",
   "execution_count": 255,
   "outputs": [],
   "source": [
    "# Let's see if I can reduce the number of null outcodes\n",
    "propertiescopy = find_postcodes_in_address(propertiescopy)"
   ],
   "metadata": {
    "collapsed": false
   }
  },
  {
   "cell_type": "code",
   "execution_count": 256,
   "outputs": [
    {
     "data": {
      "text/plain": "                                                    url  \\\n8     https://www.rightmove.co.uk/properties/1285506...   \n11    https://www.rightmove.co.uk/properties/1327622...   \n12    https://www.rightmove.co.uk/properties/1317795...   \n17    https://www.rightmove.co.uk/properties/1328079...   \n19    https://www.rightmove.co.uk/properties/1311390...   \n...                                                 ...   \n4557  https://www.rightmove.co.uk/properties/1328121...   \n4558  https://www.rightmove.co.uk/properties/1328843...   \n4559  https://www.rightmove.co.uk/properties/1281187...   \n4560  https://www.rightmove.co.uk/properties/1328625...   \n4561  https://www.rightmove.co.uk/properties/1265926...   \n\n                                                address  property_type  \\\n8             Lumley Avenue, Leeds, West Yorkshire, LS4       Terraced   \n11                      Kirkstall Road, Leeds, LS4 2QD   Semi-Detached   \n12                 Burley Wood Crescent, Leeds, LS4 2QQ       Terraced   \n17                            Haddon Avenue, Leeds, LS4       Terraced   \n19                             Morris Grove, Leeds, LS5       Terraced   \n...                                                 ...            ...   \n4557  Royds Avenue, New Mill, Holmfirth, West Yorksh...       Terraced   \n4558  Greenhill Bank Road, New Mill, Holmfirth, West...       Terraced   \n4559  Thick Hollins, Meltham, Holmfirth, West Yorksh...       Terraced   \n4560  Holmclose, Holmbridge, Holmfirth, West Yorkshi...  Semi-Detached   \n4561                France Hill, Honley, Holmfirth, HD9       Terraced   \n\n      bedrooms  bathrooms    tenure  nearest_station   price  \\\n8            4          2  Freehold              0.1  250000   \n11           3          1  Freehold              0.6  235000   \n12           3          1  Freehold              0.5  230000   \n17           2          1  Freehold              0.4  180000   \n19           2          1  Freehold              0.2  240000   \n...        ...        ...       ...              ...     ...   \n4557         3          1  Freehold              1.5  160000   \n4558         2          1  Freehold              1.6  150000   \n4559         2          1  Freehold              2.8  150000   \n4560         2          1  Freehold              3.4  150000   \n4561         2          1  Freehold              0.5  148000   \n\n                                        cleaned_address  \\\n8             Lumley Avenue, Leeds, West Yorkshire, LS4   \n11                       Kirkstall Road, Leeds, LS4 2QD   \n12                 Burley Wood Crescent, Leeds, LS4 2QQ   \n17                            Haddon Avenue, Leeds, LS4   \n19                             Morris Grove, Leeds, LS5   \n...                                                 ...   \n4557  Royds Avenue, New Mill, Holmfirth, West Yorksh...   \n4558  Greenhill Bank Road, New Mill, Holmfirth, West...   \n4559  Thick Hollins, Meltham, Holmfirth, West Yorksh...   \n4560  Holmclose, Holmbridge, Holmfirth, West Yorkshi...   \n4561                France Hill, Honley, Holmfirth, HD9   \n\n                                                  gcode outcode_from_address  \n8     Lumley Avenue, Burley, Leeds, West Yorkshire, ...                  LS4  \n11    Kirkstall Road, Burley, Leeds, West Yorkshire,...                  LS4  \n12    Burley Wood Crescent, Burley, Leeds, West York...                  LS4  \n17    Haddon Avenue, Burley, Leeds, West Yorkshire, ...                  LS4  \n19    Morris Grove, Kirkstall, Leeds, West Yorkshire...                  LS5  \n...                                                 ...                  ...  \n4557                                                NaN                  HD9  \n4558                                                NaN                  HD9  \n4559                                                NaN                  HD9  \n4560                                                NaN                  HD9  \n4561                                                NaN                  HD9  \n\n[2006 rows x 11 columns]",
      "text/html": "<div>\n<style scoped>\n    .dataframe tbody tr th:only-of-type {\n        vertical-align: middle;\n    }\n\n    .dataframe tbody tr th {\n        vertical-align: top;\n    }\n\n    .dataframe thead th {\n        text-align: right;\n    }\n</style>\n<table border=\"1\" class=\"dataframe\">\n  <thead>\n    <tr style=\"text-align: right;\">\n      <th></th>\n      <th>url</th>\n      <th>address</th>\n      <th>property_type</th>\n      <th>bedrooms</th>\n      <th>bathrooms</th>\n      <th>tenure</th>\n      <th>nearest_station</th>\n      <th>price</th>\n      <th>cleaned_address</th>\n      <th>gcode</th>\n      <th>outcode_from_address</th>\n    </tr>\n  </thead>\n  <tbody>\n    <tr>\n      <th>8</th>\n      <td>https://www.rightmove.co.uk/properties/1285506...</td>\n      <td>Lumley Avenue, Leeds, West Yorkshire, LS4</td>\n      <td>Terraced</td>\n      <td>4</td>\n      <td>2</td>\n      <td>Freehold</td>\n      <td>0.1</td>\n      <td>250000</td>\n      <td>Lumley Avenue, Leeds, West Yorkshire, LS4</td>\n      <td>Lumley Avenue, Burley, Leeds, West Yorkshire, ...</td>\n      <td>LS4</td>\n    </tr>\n    <tr>\n      <th>11</th>\n      <td>https://www.rightmove.co.uk/properties/1327622...</td>\n      <td>Kirkstall Road, Leeds, LS4 2QD</td>\n      <td>Semi-Detached</td>\n      <td>3</td>\n      <td>1</td>\n      <td>Freehold</td>\n      <td>0.6</td>\n      <td>235000</td>\n      <td>Kirkstall Road, Leeds, LS4 2QD</td>\n      <td>Kirkstall Road, Burley, Leeds, West Yorkshire,...</td>\n      <td>LS4</td>\n    </tr>\n    <tr>\n      <th>12</th>\n      <td>https://www.rightmove.co.uk/properties/1317795...</td>\n      <td>Burley Wood Crescent, Leeds, LS4 2QQ</td>\n      <td>Terraced</td>\n      <td>3</td>\n      <td>1</td>\n      <td>Freehold</td>\n      <td>0.5</td>\n      <td>230000</td>\n      <td>Burley Wood Crescent, Leeds, LS4 2QQ</td>\n      <td>Burley Wood Crescent, Burley, Leeds, West York...</td>\n      <td>LS4</td>\n    </tr>\n    <tr>\n      <th>17</th>\n      <td>https://www.rightmove.co.uk/properties/1328079...</td>\n      <td>Haddon Avenue, Leeds, LS4</td>\n      <td>Terraced</td>\n      <td>2</td>\n      <td>1</td>\n      <td>Freehold</td>\n      <td>0.4</td>\n      <td>180000</td>\n      <td>Haddon Avenue, Leeds, LS4</td>\n      <td>Haddon Avenue, Burley, Leeds, West Yorkshire, ...</td>\n      <td>LS4</td>\n    </tr>\n    <tr>\n      <th>19</th>\n      <td>https://www.rightmove.co.uk/properties/1311390...</td>\n      <td>Morris Grove, Leeds, LS5</td>\n      <td>Terraced</td>\n      <td>2</td>\n      <td>1</td>\n      <td>Freehold</td>\n      <td>0.2</td>\n      <td>240000</td>\n      <td>Morris Grove, Leeds, LS5</td>\n      <td>Morris Grove, Kirkstall, Leeds, West Yorkshire...</td>\n      <td>LS5</td>\n    </tr>\n    <tr>\n      <th>...</th>\n      <td>...</td>\n      <td>...</td>\n      <td>...</td>\n      <td>...</td>\n      <td>...</td>\n      <td>...</td>\n      <td>...</td>\n      <td>...</td>\n      <td>...</td>\n      <td>...</td>\n      <td>...</td>\n    </tr>\n    <tr>\n      <th>4557</th>\n      <td>https://www.rightmove.co.uk/properties/1328121...</td>\n      <td>Royds Avenue, New Mill, Holmfirth, West Yorksh...</td>\n      <td>Terraced</td>\n      <td>3</td>\n      <td>1</td>\n      <td>Freehold</td>\n      <td>1.5</td>\n      <td>160000</td>\n      <td>Royds Avenue, New Mill, Holmfirth, West Yorksh...</td>\n      <td>NaN</td>\n      <td>HD9</td>\n    </tr>\n    <tr>\n      <th>4558</th>\n      <td>https://www.rightmove.co.uk/properties/1328843...</td>\n      <td>Greenhill Bank Road, New Mill, Holmfirth, West...</td>\n      <td>Terraced</td>\n      <td>2</td>\n      <td>1</td>\n      <td>Freehold</td>\n      <td>1.6</td>\n      <td>150000</td>\n      <td>Greenhill Bank Road, New Mill, Holmfirth, West...</td>\n      <td>NaN</td>\n      <td>HD9</td>\n    </tr>\n    <tr>\n      <th>4559</th>\n      <td>https://www.rightmove.co.uk/properties/1281187...</td>\n      <td>Thick Hollins, Meltham, Holmfirth, West Yorksh...</td>\n      <td>Terraced</td>\n      <td>2</td>\n      <td>1</td>\n      <td>Freehold</td>\n      <td>2.8</td>\n      <td>150000</td>\n      <td>Thick Hollins, Meltham, Holmfirth, West Yorksh...</td>\n      <td>NaN</td>\n      <td>HD9</td>\n    </tr>\n    <tr>\n      <th>4560</th>\n      <td>https://www.rightmove.co.uk/properties/1328625...</td>\n      <td>Holmclose, Holmbridge, Holmfirth, West Yorkshi...</td>\n      <td>Semi-Detached</td>\n      <td>2</td>\n      <td>1</td>\n      <td>Freehold</td>\n      <td>3.4</td>\n      <td>150000</td>\n      <td>Holmclose, Holmbridge, Holmfirth, West Yorkshi...</td>\n      <td>NaN</td>\n      <td>HD9</td>\n    </tr>\n    <tr>\n      <th>4561</th>\n      <td>https://www.rightmove.co.uk/properties/1265926...</td>\n      <td>France Hill, Honley, Holmfirth, HD9</td>\n      <td>Terraced</td>\n      <td>2</td>\n      <td>1</td>\n      <td>Freehold</td>\n      <td>0.5</td>\n      <td>148000</td>\n      <td>France Hill, Honley, Holmfirth, HD9</td>\n      <td>NaN</td>\n      <td>HD9</td>\n    </tr>\n  </tbody>\n</table>\n<p>2006 rows × 11 columns</p>\n</div>"
     },
     "execution_count": 256,
     "metadata": {},
     "output_type": "execute_result"
    }
   ],
   "source": [
    "propertiescopy[propertiescopy['outcode_from_address'].notna()]"
   ],
   "metadata": {
    "collapsed": false
   }
  }
 ],
 "metadata": {
  "kernelspec": {
   "display_name": "Python 3",
   "language": "python",
   "name": "python3"
  },
  "language_info": {
   "codemirror_mode": {
    "name": "ipython",
    "version": 2
   },
   "file_extension": ".py",
   "mimetype": "text/x-python",
   "name": "python",
   "nbconvert_exporter": "python",
   "pygments_lexer": "ipython2",
   "version": "2.7.6"
  }
 },
 "nbformat": 4,
 "nbformat_minor": 0
}
