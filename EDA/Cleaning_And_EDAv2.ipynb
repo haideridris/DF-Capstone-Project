{
 "cells": [
  {
   "cell_type": "markdown",
   "source": [
    "# Cleaning and Exploratory Data Analysis\n",
    "\n",
    "- This notebook will detail my exploratory data analysis to understand the data\n",
    "- As the data has been scraped I will need to clean the data in order to be able to analyse it"
   ],
   "metadata": {
    "collapsed": false
   }
  },
  {
   "cell_type": "code",
   "execution_count": 1418,
   "outputs": [],
   "source": [
    "import pandas as pd\n",
    "import seaborn as sns # visualisation!\n",
    "import matplotlib.pyplot as plt # visualisation! ## parent library for seaborn to work\n",
    "import numpy as np # Used np arrays\n",
    "import re"
   ],
   "metadata": {
    "collapsed": false
   }
  },
  {
   "cell_type": "markdown",
   "source": [
    "# Combine all the scraped csv's into one csv\n",
    "\n",
    "The combined csv contains property information for all properties listed on rightmove.co.uk for sale within as of 25/03/2023:\n",
    "   1) Leeds\n",
    "2) Bradford\n",
    "3) Wakefield\n",
    "4) Halifax\n",
    "5) Huddersfield"
   ],
   "metadata": {
    "collapsed": false
   }
  },
  {
   "cell_type": "code",
   "execution_count": 1419,
   "outputs": [],
   "source": [
    "# Read in all the csvs as dataframes\n",
    "# leedspt1 = pd.read_csv('../Data/leeds_properties_pt1.csv')\n",
    "# leedspt2 = pd.read_csv('../Data/leeds_properties_pt2.csv')\n",
    "# bradford = pd.read_csv('../Data/bradford_properties.csv')\n",
    "# wakefieldpt1 = pd.read_csv('../Data/wakefield_properties_pt1.csv')\n",
    "# wakefieldpt2 = pd.read_csv('../Data/wakefield_properties_pt2.csv')\n",
    "# halifax = pd.read_csv('../Data/halifax_properties.csv')\n",
    "# huddersfieldpt1 = pd.read_csv('../Data/huddersfield_properties.csv')\n",
    "# huddersfieldpt2 = pd.read_csv('../Data/huds_properties_pt2.csv')"
   ],
   "metadata": {
    "collapsed": false
   }
  },
  {
   "cell_type": "code",
   "execution_count": 1420,
   "outputs": [],
   "source": [
    "# Combine all the dataframes into one dataframe\n",
    "# properties = pd.concat([leedspt1, leedspt2, bradford, wakefieldpt1, wakefieldpt2, halifax, huddersfieldpt1, huddersfieldpt2])\n",
    "# properties.reset_index(drop=True, inplace=True)"
   ],
   "metadata": {
    "collapsed": false
   }
  },
  {
   "cell_type": "code",
   "execution_count": 1421,
   "outputs": [],
   "source": [
    "# Save this dataframe to a csv\n",
    "# properties.to_csv('properties.csv', index=False)"
   ],
   "metadata": {
    "collapsed": false
   }
  },
  {
   "cell_type": "code",
   "execution_count": 1422,
   "outputs": [],
   "source": [
    "# Read in the properties from a csv\n",
    "properties = pd.read_csv('../Data/properties.csv')"
   ],
   "metadata": {
    "collapsed": false
   }
  },
  {
   "cell_type": "code",
   "execution_count": 1423,
   "outputs": [
    {
     "data": {
      "text/plain": "(11272, 9)"
     },
     "execution_count": 1423,
     "metadata": {},
     "output_type": "execute_result"
    }
   ],
   "source": [
    "# Before any cleaning there are 11272 property listings that have been scraped\n",
    "properties.shape"
   ],
   "metadata": {
    "collapsed": false
   }
  },
  {
   "cell_type": "code",
   "execution_count": 1424,
   "outputs": [
    {
     "data": {
      "text/plain": "                                                 url  \\\n0  https://www.rightmove.co.uk/properties/1319880...   \n1  https://www.rightmove.co.uk/properties/1272674...   \n2  https://www.rightmove.co.uk/properties/1325839...   \n3  https://www.rightmove.co.uk/properties/1325839...   \n4  https://www.rightmove.co.uk/properties/1325839...   \n\n                                             address property_type bedrooms  \\\n0  The Quays, 3 Concordia Street, Leeds, West Yor...     Apartment       ×1   \n1         Grade II Apartments, Alexander Street, LS1     Apartment       ×3   \n2                        LS1 Buy to Let Flats, Leeds     Apartment       ×2   \n3                        LS1 Buy to Let Flats, Leeds     Apartment       ×2   \n4                        LS1 Buy to Let Flats, Leeds     Apartment       ×2   \n\n  bathrooms size_sq_ft     tenure nearest_station     price  \n0        ×1        NaN  Leasehold       0.1 miles  £180,000  \n1        ×3        NaN  Ask agent       0.5 miles  £741,175  \n2        ×2        NaN  Leasehold       0.3 miles  £449,995  \n3        ×2        NaN  Leasehold       0.3 miles  £425,000  \n4        ×2        NaN  Leasehold       0.3 miles  £424,995  ",
      "text/html": "<div>\n<style scoped>\n    .dataframe tbody tr th:only-of-type {\n        vertical-align: middle;\n    }\n\n    .dataframe tbody tr th {\n        vertical-align: top;\n    }\n\n    .dataframe thead th {\n        text-align: right;\n    }\n</style>\n<table border=\"1\" class=\"dataframe\">\n  <thead>\n    <tr style=\"text-align: right;\">\n      <th></th>\n      <th>url</th>\n      <th>address</th>\n      <th>property_type</th>\n      <th>bedrooms</th>\n      <th>bathrooms</th>\n      <th>size_sq_ft</th>\n      <th>tenure</th>\n      <th>nearest_station</th>\n      <th>price</th>\n    </tr>\n  </thead>\n  <tbody>\n    <tr>\n      <th>0</th>\n      <td>https://www.rightmove.co.uk/properties/1319880...</td>\n      <td>The Quays, 3 Concordia Street, Leeds, West Yor...</td>\n      <td>Apartment</td>\n      <td>×1</td>\n      <td>×1</td>\n      <td>NaN</td>\n      <td>Leasehold</td>\n      <td>0.1 miles</td>\n      <td>£180,000</td>\n    </tr>\n    <tr>\n      <th>1</th>\n      <td>https://www.rightmove.co.uk/properties/1272674...</td>\n      <td>Grade II Apartments, Alexander Street, LS1</td>\n      <td>Apartment</td>\n      <td>×3</td>\n      <td>×3</td>\n      <td>NaN</td>\n      <td>Ask agent</td>\n      <td>0.5 miles</td>\n      <td>£741,175</td>\n    </tr>\n    <tr>\n      <th>2</th>\n      <td>https://www.rightmove.co.uk/properties/1325839...</td>\n      <td>LS1 Buy to Let Flats, Leeds</td>\n      <td>Apartment</td>\n      <td>×2</td>\n      <td>×2</td>\n      <td>NaN</td>\n      <td>Leasehold</td>\n      <td>0.3 miles</td>\n      <td>£449,995</td>\n    </tr>\n    <tr>\n      <th>3</th>\n      <td>https://www.rightmove.co.uk/properties/1325839...</td>\n      <td>LS1 Buy to Let Flats, Leeds</td>\n      <td>Apartment</td>\n      <td>×2</td>\n      <td>×2</td>\n      <td>NaN</td>\n      <td>Leasehold</td>\n      <td>0.3 miles</td>\n      <td>£425,000</td>\n    </tr>\n    <tr>\n      <th>4</th>\n      <td>https://www.rightmove.co.uk/properties/1325839...</td>\n      <td>LS1 Buy to Let Flats, Leeds</td>\n      <td>Apartment</td>\n      <td>×2</td>\n      <td>×2</td>\n      <td>NaN</td>\n      <td>Leasehold</td>\n      <td>0.3 miles</td>\n      <td>£424,995</td>\n    </tr>\n  </tbody>\n</table>\n</div>"
     },
     "execution_count": 1424,
     "metadata": {},
     "output_type": "execute_result"
    }
   ],
   "source": [
    "# Look at the head of the properties\n",
    "properties.head()"
   ],
   "metadata": {
    "collapsed": false
   }
  },
  {
   "cell_type": "code",
   "execution_count": 1425,
   "outputs": [
    {
     "data": {
      "text/plain": "                                                     url  \\\n11267  https://www.rightmove.co.uk/properties/1328843...   \n11268  https://www.rightmove.co.uk/properties/1281187...   \n11269  https://www.rightmove.co.uk/properties/1328625...   \n11270  https://www.rightmove.co.uk/properties/1265926...   \n11271  https://www.rightmove.co.uk/properties/1327196...   \n\n                                                 address  property_type  \\\n11267  Greenhill Bank Road, New Mill, Holmfirth, West...       Terraced   \n11268  Thick Hollins, Meltham, Holmfirth, West Yorksh...       Terraced   \n11269  Holmclose, Holmbridge, Holmfirth, West Yorkshi...  Semi-Detached   \n11270                France Hill, Honley, Holmfirth, HD9       Terraced   \n11271          Upper Sunny Bank Mews, Meltham, Holmfirth      Apartment   \n\n      bedrooms bathrooms size_sq_ft     tenure nearest_station     price  \n11267       ×2        ×1        NaN   Freehold       1.6 miles  £150,000  \n11268       ×2        ×1        NaN   Freehold       2.8 miles  £150,000  \n11269       ×2        ×1        NaN   Freehold       3.4 miles  £150,000  \n11270       ×2        ×1        NaN   Freehold       0.5 miles  £148,000  \n11271       ×2        ×1        NaN  Leasehold       2.2 miles  £140,000  ",
      "text/html": "<div>\n<style scoped>\n    .dataframe tbody tr th:only-of-type {\n        vertical-align: middle;\n    }\n\n    .dataframe tbody tr th {\n        vertical-align: top;\n    }\n\n    .dataframe thead th {\n        text-align: right;\n    }\n</style>\n<table border=\"1\" class=\"dataframe\">\n  <thead>\n    <tr style=\"text-align: right;\">\n      <th></th>\n      <th>url</th>\n      <th>address</th>\n      <th>property_type</th>\n      <th>bedrooms</th>\n      <th>bathrooms</th>\n      <th>size_sq_ft</th>\n      <th>tenure</th>\n      <th>nearest_station</th>\n      <th>price</th>\n    </tr>\n  </thead>\n  <tbody>\n    <tr>\n      <th>11267</th>\n      <td>https://www.rightmove.co.uk/properties/1328843...</td>\n      <td>Greenhill Bank Road, New Mill, Holmfirth, West...</td>\n      <td>Terraced</td>\n      <td>×2</td>\n      <td>×1</td>\n      <td>NaN</td>\n      <td>Freehold</td>\n      <td>1.6 miles</td>\n      <td>£150,000</td>\n    </tr>\n    <tr>\n      <th>11268</th>\n      <td>https://www.rightmove.co.uk/properties/1281187...</td>\n      <td>Thick Hollins, Meltham, Holmfirth, West Yorksh...</td>\n      <td>Terraced</td>\n      <td>×2</td>\n      <td>×1</td>\n      <td>NaN</td>\n      <td>Freehold</td>\n      <td>2.8 miles</td>\n      <td>£150,000</td>\n    </tr>\n    <tr>\n      <th>11269</th>\n      <td>https://www.rightmove.co.uk/properties/1328625...</td>\n      <td>Holmclose, Holmbridge, Holmfirth, West Yorkshi...</td>\n      <td>Semi-Detached</td>\n      <td>×2</td>\n      <td>×1</td>\n      <td>NaN</td>\n      <td>Freehold</td>\n      <td>3.4 miles</td>\n      <td>£150,000</td>\n    </tr>\n    <tr>\n      <th>11270</th>\n      <td>https://www.rightmove.co.uk/properties/1265926...</td>\n      <td>France Hill, Honley, Holmfirth, HD9</td>\n      <td>Terraced</td>\n      <td>×2</td>\n      <td>×1</td>\n      <td>NaN</td>\n      <td>Freehold</td>\n      <td>0.5 miles</td>\n      <td>£148,000</td>\n    </tr>\n    <tr>\n      <th>11271</th>\n      <td>https://www.rightmove.co.uk/properties/1327196...</td>\n      <td>Upper Sunny Bank Mews, Meltham, Holmfirth</td>\n      <td>Apartment</td>\n      <td>×2</td>\n      <td>×1</td>\n      <td>NaN</td>\n      <td>Leasehold</td>\n      <td>2.2 miles</td>\n      <td>£140,000</td>\n    </tr>\n  </tbody>\n</table>\n</div>"
     },
     "execution_count": 1425,
     "metadata": {},
     "output_type": "execute_result"
    }
   ],
   "source": [
    "# Look at the tail of the properties\n",
    "properties.tail()"
   ],
   "metadata": {
    "collapsed": false
   }
  },
  {
   "cell_type": "code",
   "execution_count": 1426,
   "outputs": [
    {
     "data": {
      "text/plain": "url                object\naddress            object\nproperty_type      object\nbedrooms           object\nbathrooms          object\nsize_sq_ft         object\ntenure             object\nnearest_station    object\nprice              object\ndtype: object"
     },
     "execution_count": 1426,
     "metadata": {},
     "output_type": "execute_result"
    }
   ],
   "source": [
    "# Look at the data types of the columns\n",
    "# All object types, I will have to convert types later\n",
    "properties.dtypes"
   ],
   "metadata": {
    "collapsed": false
   }
  },
  {
   "cell_type": "code",
   "execution_count": 1427,
   "outputs": [
    {
     "data": {
      "text/plain": "11272"
     },
     "execution_count": 1427,
     "metadata": {},
     "output_type": "execute_result"
    }
   ],
   "source": [
    "# Number of rows now in the data\n",
    "properties.shape[0]"
   ],
   "metadata": {
    "collapsed": false
   }
  },
  {
   "cell_type": "markdown",
   "source": [
    "# Let's have a look at the nulls"
   ],
   "metadata": {
    "collapsed": false
   }
  },
  {
   "cell_type": "code",
   "execution_count": 1428,
   "outputs": [],
   "source": [
    "# Define a function that shows the count and percentage of nulls per feature\n",
    "def null_vals(dataframe):\n",
    "    '''function to show both number of nulls and the percentage of nulls in the whole column'''\n",
    "    null_vals = dataframe.isnull().sum()\n",
    "    total_cnt = len(dataframe)\n",
    "    null_vals = pd.DataFrame(null_vals,columns=['null'])\n",
    "    null_vals['percent'] = round((null_vals['null']/total_cnt)*100,3)\n",
    "    return null_vals.sort_values('percent', ascending=False)"
   ],
   "metadata": {
    "collapsed": false
   }
  },
  {
   "cell_type": "code",
   "execution_count": 1429,
   "outputs": [
    {
     "data": {
      "text/plain": "                  null  percent\nsize_sq_ft       10408   92.335\nbathrooms         1277   11.329\nbedrooms           215    1.907\ntenure             145    1.286\nproperty_type       50    0.444\nnearest_station     12    0.106\naddress             11    0.098\nprice               11    0.098\nurl                  0    0.000",
      "text/html": "<div>\n<style scoped>\n    .dataframe tbody tr th:only-of-type {\n        vertical-align: middle;\n    }\n\n    .dataframe tbody tr th {\n        vertical-align: top;\n    }\n\n    .dataframe thead th {\n        text-align: right;\n    }\n</style>\n<table border=\"1\" class=\"dataframe\">\n  <thead>\n    <tr style=\"text-align: right;\">\n      <th></th>\n      <th>null</th>\n      <th>percent</th>\n    </tr>\n  </thead>\n  <tbody>\n    <tr>\n      <th>size_sq_ft</th>\n      <td>10408</td>\n      <td>92.335</td>\n    </tr>\n    <tr>\n      <th>bathrooms</th>\n      <td>1277</td>\n      <td>11.329</td>\n    </tr>\n    <tr>\n      <th>bedrooms</th>\n      <td>215</td>\n      <td>1.907</td>\n    </tr>\n    <tr>\n      <th>tenure</th>\n      <td>145</td>\n      <td>1.286</td>\n    </tr>\n    <tr>\n      <th>property_type</th>\n      <td>50</td>\n      <td>0.444</td>\n    </tr>\n    <tr>\n      <th>nearest_station</th>\n      <td>12</td>\n      <td>0.106</td>\n    </tr>\n    <tr>\n      <th>address</th>\n      <td>11</td>\n      <td>0.098</td>\n    </tr>\n    <tr>\n      <th>price</th>\n      <td>11</td>\n      <td>0.098</td>\n    </tr>\n    <tr>\n      <th>url</th>\n      <td>0</td>\n      <td>0.000</td>\n    </tr>\n  </tbody>\n</table>\n</div>"
     },
     "execution_count": 1429,
     "metadata": {},
     "output_type": "execute_result"
    }
   ],
   "source": [
    "# Call function\n",
    "null_vals(properties)"
   ],
   "metadata": {
    "collapsed": false
   }
  },
  {
   "cell_type": "markdown",
   "source": [
    "- Really high amount of nulls for size_sq_ft - This relates to the size of a property but sometimes the listings display land for sale which details the number of square feet land there is (I will drop this column when modelling as the percentage of nulls is really high 90+%) - can't really compute this for other properties\n",
    "- Around 10% of the data has null values for bathrooms\n",
    "- Around 2% of the data has null values for bedrooms\n",
    "- Around 2% of the data has null values for tenure\n",
    "- Potentially can drop the rows with null values for bedrooms and tenure as they are a low percentage\n",
    "- Need to consider how I will approach the nulls for bathrooms, one assumption that could be made is that a property has at least 1 bathroom so replace nulls with a value for 1\n",
    "- Less than 1% nulls for property_type - Will drop these nulls as I need values for property_type to train model\n",
    "- Less than 1% nulls for nearest_station - Will drop these nulls as it's a very small percentage of the dataset\n",
    "- Less than 1% nulls for address and price - Will drop these, these listings have been scraped from as the estate agent has removed the listing from rightmove hence the address and price are not available but the url is still active"
   ],
   "metadata": {
    "collapsed": false
   }
  },
  {
   "cell_type": "code",
   "execution_count": 1430,
   "outputs": [
    {
     "data": {
      "text/plain": "                                                    url address property_type  \\\n1062  https://www.rightmove.co.uk/properties/1323461...     NaN           NaN   \n1390  https://www.rightmove.co.uk/properties/1326137...     NaN           NaN   \n2522  https://www.rightmove.co.uk/properties/1280695...     NaN           NaN   \n3010  https://www.rightmove.co.uk/properties/1317521...     NaN           NaN   \n3305  https://www.rightmove.co.uk/properties/1295441...     NaN           NaN   \n3705  https://www.rightmove.co.uk/properties/1328530...     NaN           NaN   \n5541  https://www.rightmove.co.uk/properties/1324628...     NaN           NaN   \n5821  https://www.rightmove.co.uk/properties/1328376...     NaN           NaN   \n6070  https://www.rightmove.co.uk/properties/1328524...     NaN           NaN   \n9326  https://www.rightmove.co.uk/properties/1280205...     NaN           NaN   \n9618  https://www.rightmove.co.uk/properties/1320862...     NaN           NaN   \n\n     bedrooms bathrooms size_sq_ft tenure nearest_station price  \n1062      NaN       NaN        NaN    NaN             NaN   NaN  \n1390      NaN       NaN        NaN    NaN             NaN   NaN  \n2522      NaN       NaN        NaN    NaN             NaN   NaN  \n3010      NaN       NaN        NaN    NaN             NaN   NaN  \n3305      NaN       NaN        NaN    NaN             NaN   NaN  \n3705      NaN       NaN        NaN    NaN             NaN   NaN  \n5541      NaN       NaN        NaN    NaN             NaN   NaN  \n5821      NaN       NaN        NaN    NaN             NaN   NaN  \n6070      NaN       NaN        NaN    NaN             NaN   NaN  \n9326      NaN       NaN        NaN    NaN             NaN   NaN  \n9618      NaN       NaN        NaN    NaN             NaN   NaN  ",
      "text/html": "<div>\n<style scoped>\n    .dataframe tbody tr th:only-of-type {\n        vertical-align: middle;\n    }\n\n    .dataframe tbody tr th {\n        vertical-align: top;\n    }\n\n    .dataframe thead th {\n        text-align: right;\n    }\n</style>\n<table border=\"1\" class=\"dataframe\">\n  <thead>\n    <tr style=\"text-align: right;\">\n      <th></th>\n      <th>url</th>\n      <th>address</th>\n      <th>property_type</th>\n      <th>bedrooms</th>\n      <th>bathrooms</th>\n      <th>size_sq_ft</th>\n      <th>tenure</th>\n      <th>nearest_station</th>\n      <th>price</th>\n    </tr>\n  </thead>\n  <tbody>\n    <tr>\n      <th>1062</th>\n      <td>https://www.rightmove.co.uk/properties/1323461...</td>\n      <td>NaN</td>\n      <td>NaN</td>\n      <td>NaN</td>\n      <td>NaN</td>\n      <td>NaN</td>\n      <td>NaN</td>\n      <td>NaN</td>\n      <td>NaN</td>\n    </tr>\n    <tr>\n      <th>1390</th>\n      <td>https://www.rightmove.co.uk/properties/1326137...</td>\n      <td>NaN</td>\n      <td>NaN</td>\n      <td>NaN</td>\n      <td>NaN</td>\n      <td>NaN</td>\n      <td>NaN</td>\n      <td>NaN</td>\n      <td>NaN</td>\n    </tr>\n    <tr>\n      <th>2522</th>\n      <td>https://www.rightmove.co.uk/properties/1280695...</td>\n      <td>NaN</td>\n      <td>NaN</td>\n      <td>NaN</td>\n      <td>NaN</td>\n      <td>NaN</td>\n      <td>NaN</td>\n      <td>NaN</td>\n      <td>NaN</td>\n    </tr>\n    <tr>\n      <th>3010</th>\n      <td>https://www.rightmove.co.uk/properties/1317521...</td>\n      <td>NaN</td>\n      <td>NaN</td>\n      <td>NaN</td>\n      <td>NaN</td>\n      <td>NaN</td>\n      <td>NaN</td>\n      <td>NaN</td>\n      <td>NaN</td>\n    </tr>\n    <tr>\n      <th>3305</th>\n      <td>https://www.rightmove.co.uk/properties/1295441...</td>\n      <td>NaN</td>\n      <td>NaN</td>\n      <td>NaN</td>\n      <td>NaN</td>\n      <td>NaN</td>\n      <td>NaN</td>\n      <td>NaN</td>\n      <td>NaN</td>\n    </tr>\n    <tr>\n      <th>3705</th>\n      <td>https://www.rightmove.co.uk/properties/1328530...</td>\n      <td>NaN</td>\n      <td>NaN</td>\n      <td>NaN</td>\n      <td>NaN</td>\n      <td>NaN</td>\n      <td>NaN</td>\n      <td>NaN</td>\n      <td>NaN</td>\n    </tr>\n    <tr>\n      <th>5541</th>\n      <td>https://www.rightmove.co.uk/properties/1324628...</td>\n      <td>NaN</td>\n      <td>NaN</td>\n      <td>NaN</td>\n      <td>NaN</td>\n      <td>NaN</td>\n      <td>NaN</td>\n      <td>NaN</td>\n      <td>NaN</td>\n    </tr>\n    <tr>\n      <th>5821</th>\n      <td>https://www.rightmove.co.uk/properties/1328376...</td>\n      <td>NaN</td>\n      <td>NaN</td>\n      <td>NaN</td>\n      <td>NaN</td>\n      <td>NaN</td>\n      <td>NaN</td>\n      <td>NaN</td>\n      <td>NaN</td>\n    </tr>\n    <tr>\n      <th>6070</th>\n      <td>https://www.rightmove.co.uk/properties/1328524...</td>\n      <td>NaN</td>\n      <td>NaN</td>\n      <td>NaN</td>\n      <td>NaN</td>\n      <td>NaN</td>\n      <td>NaN</td>\n      <td>NaN</td>\n      <td>NaN</td>\n    </tr>\n    <tr>\n      <th>9326</th>\n      <td>https://www.rightmove.co.uk/properties/1280205...</td>\n      <td>NaN</td>\n      <td>NaN</td>\n      <td>NaN</td>\n      <td>NaN</td>\n      <td>NaN</td>\n      <td>NaN</td>\n      <td>NaN</td>\n      <td>NaN</td>\n    </tr>\n    <tr>\n      <th>9618</th>\n      <td>https://www.rightmove.co.uk/properties/1320862...</td>\n      <td>NaN</td>\n      <td>NaN</td>\n      <td>NaN</td>\n      <td>NaN</td>\n      <td>NaN</td>\n      <td>NaN</td>\n      <td>NaN</td>\n      <td>NaN</td>\n    </tr>\n  </tbody>\n</table>\n</div>"
     },
     "execution_count": 1430,
     "metadata": {},
     "output_type": "execute_result"
    }
   ],
   "source": [
    "# Looking at the urls below, you can see that the listing has been removed by the agent when address is null\n",
    "properties[properties['address'].isnull()]"
   ],
   "metadata": {
    "collapsed": false
   }
  },
  {
   "cell_type": "code",
   "execution_count": 1431,
   "outputs": [
    {
     "data": {
      "text/plain": "                                                    url address property_type  \\\n1062  https://www.rightmove.co.uk/properties/1323461...     NaN           NaN   \n1390  https://www.rightmove.co.uk/properties/1326137...     NaN           NaN   \n2522  https://www.rightmove.co.uk/properties/1280695...     NaN           NaN   \n3010  https://www.rightmove.co.uk/properties/1317521...     NaN           NaN   \n3305  https://www.rightmove.co.uk/properties/1295441...     NaN           NaN   \n3705  https://www.rightmove.co.uk/properties/1328530...     NaN           NaN   \n5541  https://www.rightmove.co.uk/properties/1324628...     NaN           NaN   \n5821  https://www.rightmove.co.uk/properties/1328376...     NaN           NaN   \n6070  https://www.rightmove.co.uk/properties/1328524...     NaN           NaN   \n9326  https://www.rightmove.co.uk/properties/1280205...     NaN           NaN   \n9618  https://www.rightmove.co.uk/properties/1320862...     NaN           NaN   \n\n     bedrooms bathrooms size_sq_ft tenure nearest_station price  \n1062      NaN       NaN        NaN    NaN             NaN   NaN  \n1390      NaN       NaN        NaN    NaN             NaN   NaN  \n2522      NaN       NaN        NaN    NaN             NaN   NaN  \n3010      NaN       NaN        NaN    NaN             NaN   NaN  \n3305      NaN       NaN        NaN    NaN             NaN   NaN  \n3705      NaN       NaN        NaN    NaN             NaN   NaN  \n5541      NaN       NaN        NaN    NaN             NaN   NaN  \n5821      NaN       NaN        NaN    NaN             NaN   NaN  \n6070      NaN       NaN        NaN    NaN             NaN   NaN  \n9326      NaN       NaN        NaN    NaN             NaN   NaN  \n9618      NaN       NaN        NaN    NaN             NaN   NaN  ",
      "text/html": "<div>\n<style scoped>\n    .dataframe tbody tr th:only-of-type {\n        vertical-align: middle;\n    }\n\n    .dataframe tbody tr th {\n        vertical-align: top;\n    }\n\n    .dataframe thead th {\n        text-align: right;\n    }\n</style>\n<table border=\"1\" class=\"dataframe\">\n  <thead>\n    <tr style=\"text-align: right;\">\n      <th></th>\n      <th>url</th>\n      <th>address</th>\n      <th>property_type</th>\n      <th>bedrooms</th>\n      <th>bathrooms</th>\n      <th>size_sq_ft</th>\n      <th>tenure</th>\n      <th>nearest_station</th>\n      <th>price</th>\n    </tr>\n  </thead>\n  <tbody>\n    <tr>\n      <th>1062</th>\n      <td>https://www.rightmove.co.uk/properties/1323461...</td>\n      <td>NaN</td>\n      <td>NaN</td>\n      <td>NaN</td>\n      <td>NaN</td>\n      <td>NaN</td>\n      <td>NaN</td>\n      <td>NaN</td>\n      <td>NaN</td>\n    </tr>\n    <tr>\n      <th>1390</th>\n      <td>https://www.rightmove.co.uk/properties/1326137...</td>\n      <td>NaN</td>\n      <td>NaN</td>\n      <td>NaN</td>\n      <td>NaN</td>\n      <td>NaN</td>\n      <td>NaN</td>\n      <td>NaN</td>\n      <td>NaN</td>\n    </tr>\n    <tr>\n      <th>2522</th>\n      <td>https://www.rightmove.co.uk/properties/1280695...</td>\n      <td>NaN</td>\n      <td>NaN</td>\n      <td>NaN</td>\n      <td>NaN</td>\n      <td>NaN</td>\n      <td>NaN</td>\n      <td>NaN</td>\n      <td>NaN</td>\n    </tr>\n    <tr>\n      <th>3010</th>\n      <td>https://www.rightmove.co.uk/properties/1317521...</td>\n      <td>NaN</td>\n      <td>NaN</td>\n      <td>NaN</td>\n      <td>NaN</td>\n      <td>NaN</td>\n      <td>NaN</td>\n      <td>NaN</td>\n      <td>NaN</td>\n    </tr>\n    <tr>\n      <th>3305</th>\n      <td>https://www.rightmove.co.uk/properties/1295441...</td>\n      <td>NaN</td>\n      <td>NaN</td>\n      <td>NaN</td>\n      <td>NaN</td>\n      <td>NaN</td>\n      <td>NaN</td>\n      <td>NaN</td>\n      <td>NaN</td>\n    </tr>\n    <tr>\n      <th>3705</th>\n      <td>https://www.rightmove.co.uk/properties/1328530...</td>\n      <td>NaN</td>\n      <td>NaN</td>\n      <td>NaN</td>\n      <td>NaN</td>\n      <td>NaN</td>\n      <td>NaN</td>\n      <td>NaN</td>\n      <td>NaN</td>\n    </tr>\n    <tr>\n      <th>5541</th>\n      <td>https://www.rightmove.co.uk/properties/1324628...</td>\n      <td>NaN</td>\n      <td>NaN</td>\n      <td>NaN</td>\n      <td>NaN</td>\n      <td>NaN</td>\n      <td>NaN</td>\n      <td>NaN</td>\n      <td>NaN</td>\n    </tr>\n    <tr>\n      <th>5821</th>\n      <td>https://www.rightmove.co.uk/properties/1328376...</td>\n      <td>NaN</td>\n      <td>NaN</td>\n      <td>NaN</td>\n      <td>NaN</td>\n      <td>NaN</td>\n      <td>NaN</td>\n      <td>NaN</td>\n      <td>NaN</td>\n    </tr>\n    <tr>\n      <th>6070</th>\n      <td>https://www.rightmove.co.uk/properties/1328524...</td>\n      <td>NaN</td>\n      <td>NaN</td>\n      <td>NaN</td>\n      <td>NaN</td>\n      <td>NaN</td>\n      <td>NaN</td>\n      <td>NaN</td>\n      <td>NaN</td>\n    </tr>\n    <tr>\n      <th>9326</th>\n      <td>https://www.rightmove.co.uk/properties/1280205...</td>\n      <td>NaN</td>\n      <td>NaN</td>\n      <td>NaN</td>\n      <td>NaN</td>\n      <td>NaN</td>\n      <td>NaN</td>\n      <td>NaN</td>\n      <td>NaN</td>\n    </tr>\n    <tr>\n      <th>9618</th>\n      <td>https://www.rightmove.co.uk/properties/1320862...</td>\n      <td>NaN</td>\n      <td>NaN</td>\n      <td>NaN</td>\n      <td>NaN</td>\n      <td>NaN</td>\n      <td>NaN</td>\n      <td>NaN</td>\n      <td>NaN</td>\n    </tr>\n  </tbody>\n</table>\n</div>"
     },
     "execution_count": 1431,
     "metadata": {},
     "output_type": "execute_result"
    }
   ],
   "source": [
    "# This is the same listing as above\n",
    "properties[properties['price'].isnull()]"
   ],
   "metadata": {
    "collapsed": false
   }
  },
  {
   "cell_type": "code",
   "execution_count": 1432,
   "outputs": [],
   "source": [
    "# I need to remove all rows where address or price is null as they are useless rows of data\n",
    "# Remove rows with nulls for nearest station as it is only twelve nulls\n",
    "# Remove rows with nulls for tenure and property_type as they are less than 2% of the data\n",
    "properties.dropna(\n",
    "    axis = 0,\n",
    "    how = 'any',\n",
    "    subset = ['address', 'price', 'nearest_station', 'tenure', 'property_type'],\n",
    "    inplace = True\n",
    ")"
   ],
   "metadata": {
    "collapsed": false
   }
  },
  {
   "cell_type": "code",
   "execution_count": 1433,
   "outputs": [
    {
     "data": {
      "text/plain": "                  null  percent\nsize_sq_ft       10267   92.495\nbathrooms         1135   10.225\nbedrooms            86    0.775\nurl                  0    0.000\naddress              0    0.000\nproperty_type        0    0.000\ntenure               0    0.000\nnearest_station      0    0.000\nprice                0    0.000",
      "text/html": "<div>\n<style scoped>\n    .dataframe tbody tr th:only-of-type {\n        vertical-align: middle;\n    }\n\n    .dataframe tbody tr th {\n        vertical-align: top;\n    }\n\n    .dataframe thead th {\n        text-align: right;\n    }\n</style>\n<table border=\"1\" class=\"dataframe\">\n  <thead>\n    <tr style=\"text-align: right;\">\n      <th></th>\n      <th>null</th>\n      <th>percent</th>\n    </tr>\n  </thead>\n  <tbody>\n    <tr>\n      <th>size_sq_ft</th>\n      <td>10267</td>\n      <td>92.495</td>\n    </tr>\n    <tr>\n      <th>bathrooms</th>\n      <td>1135</td>\n      <td>10.225</td>\n    </tr>\n    <tr>\n      <th>bedrooms</th>\n      <td>86</td>\n      <td>0.775</td>\n    </tr>\n    <tr>\n      <th>url</th>\n      <td>0</td>\n      <td>0.000</td>\n    </tr>\n    <tr>\n      <th>address</th>\n      <td>0</td>\n      <td>0.000</td>\n    </tr>\n    <tr>\n      <th>property_type</th>\n      <td>0</td>\n      <td>0.000</td>\n    </tr>\n    <tr>\n      <th>tenure</th>\n      <td>0</td>\n      <td>0.000</td>\n    </tr>\n    <tr>\n      <th>nearest_station</th>\n      <td>0</td>\n      <td>0.000</td>\n    </tr>\n    <tr>\n      <th>price</th>\n      <td>0</td>\n      <td>0.000</td>\n    </tr>\n  </tbody>\n</table>\n</div>"
     },
     "execution_count": 1433,
     "metadata": {},
     "output_type": "execute_result"
    }
   ],
   "source": [
    "# Check nulls now\n",
    "null_vals(properties)"
   ],
   "metadata": {
    "collapsed": false
   }
  },
  {
   "cell_type": "markdown",
   "source": [
    "# Let's look at the features one by one"
   ],
   "metadata": {
    "collapsed": false
   }
  },
  {
   "cell_type": "markdown",
   "source": [
    "## Look at the address column\n",
    "- Assure that the rows are unique i.e. the same number as the number of rows in the dataframe"
   ],
   "metadata": {
    "collapsed": false
   }
  },
  {
   "cell_type": "code",
   "execution_count": 1434,
   "outputs": [
    {
     "data": {
      "text/plain": "False"
     },
     "execution_count": 1434,
     "metadata": {},
     "output_type": "execute_result"
    }
   ],
   "source": [
    "# Check if the number of unique addresses is the same as the number of addresses in the dataframe\n",
    "properties.shape[0] == properties['address'].nunique()"
   ],
   "metadata": {
    "collapsed": false
   }
  },
  {
   "cell_type": "code",
   "execution_count": 1435,
   "outputs": [
    {
     "data": {
      "text/plain": "9092"
     },
     "execution_count": 1435,
     "metadata": {},
     "output_type": "execute_result"
    }
   ],
   "source": [
    "# Number of unique addresses\n",
    "properties['address'].nunique()"
   ],
   "metadata": {
    "collapsed": false
   }
  },
  {
   "cell_type": "code",
   "execution_count": 1436,
   "outputs": [
    {
     "data": {
      "text/plain": "2008"
     },
     "execution_count": 1436,
     "metadata": {},
     "output_type": "execute_result"
    }
   ],
   "source": [
    "# Get the number of rows with address duplicated\n",
    "len(properties[properties['address'].duplicated() == True])"
   ],
   "metadata": {
    "collapsed": false
   }
  },
  {
   "cell_type": "code",
   "execution_count": 1437,
   "outputs": [
    {
     "data": {
      "text/plain": "                                                     url  \\\n3      https://www.rightmove.co.uk/properties/1325839...   \n4      https://www.rightmove.co.uk/properties/1325839...   \n5      https://www.rightmove.co.uk/properties/1325839...   \n6      https://www.rightmove.co.uk/properties/1325840...   \n9      https://www.rightmove.co.uk/properties/1324187...   \n...                                                  ...   \n11241  https://www.rightmove.co.uk/properties/1241920...   \n11242  https://www.rightmove.co.uk/properties/1302035...   \n11249  https://www.rightmove.co.uk/properties/1286018...   \n11260  https://www.rightmove.co.uk/properties/1313671...   \n11266  https://www.rightmove.co.uk/properties/1326995...   \n\n                                           address  property_type bedrooms  \\\n3                      LS1 Buy to Let Flats, Leeds      Apartment       ×2   \n4                      LS1 Buy to Let Flats, Leeds      Apartment       ×2   \n5                      LS1 Buy to Let Flats, Leeds      Apartment       ×2   \n6                      LS1 Buy to Let Flats, Leeds      Apartment       ×2   \n9                      LS1 Buy to Let Flats, Leeds      Apartment       ×2   \n...                                            ...            ...      ...   \n11241             Wilshaw Road, Meltham, Holmfirth       Detached       ×5   \n11242  Bank Street, Jackson Bridge, Holmfirth, HD9        Cottage       ×3   \n11249                      Off Helme Lane, Meltham  Semi-Detached       ×2   \n11260                      Dunford Road, Holmfirth      Apartment       ×2   \n11266         New Mill Road, Brockholes, Holmfirth  Semi-Detached       ×4   \n\n      bathrooms size_sq_ft     tenure nearest_station     price  \n3            ×2        NaN  Leasehold       0.3 miles  £425,000  \n4            ×2        NaN  Leasehold       0.3 miles  £424,995  \n5            ×2        NaN  Leasehold       0.3 miles  £399,995  \n6            ×2        NaN  Leasehold       0.3 miles  £375,000  \n9            ×2        NaN  Leasehold       0.3 miles  £374,995  \n...         ...        ...        ...             ...       ...  \n11241        ×3        NaN   Freehold       2.4 miles  £825,000  \n11242        ×1        NaN   Freehold       2.4 miles  £184,000  \n11249        ×1        NaN   Freehold       2.2 miles  £179,500  \n11260        ×1        NaN   Freehold       2.2 miles  £160,000  \n11266        ×2        NaN   Freehold       0.3 miles  £340,000  \n\n[2008 rows x 9 columns]",
      "text/html": "<div>\n<style scoped>\n    .dataframe tbody tr th:only-of-type {\n        vertical-align: middle;\n    }\n\n    .dataframe tbody tr th {\n        vertical-align: top;\n    }\n\n    .dataframe thead th {\n        text-align: right;\n    }\n</style>\n<table border=\"1\" class=\"dataframe\">\n  <thead>\n    <tr style=\"text-align: right;\">\n      <th></th>\n      <th>url</th>\n      <th>address</th>\n      <th>property_type</th>\n      <th>bedrooms</th>\n      <th>bathrooms</th>\n      <th>size_sq_ft</th>\n      <th>tenure</th>\n      <th>nearest_station</th>\n      <th>price</th>\n    </tr>\n  </thead>\n  <tbody>\n    <tr>\n      <th>3</th>\n      <td>https://www.rightmove.co.uk/properties/1325839...</td>\n      <td>LS1 Buy to Let Flats, Leeds</td>\n      <td>Apartment</td>\n      <td>×2</td>\n      <td>×2</td>\n      <td>NaN</td>\n      <td>Leasehold</td>\n      <td>0.3 miles</td>\n      <td>£425,000</td>\n    </tr>\n    <tr>\n      <th>4</th>\n      <td>https://www.rightmove.co.uk/properties/1325839...</td>\n      <td>LS1 Buy to Let Flats, Leeds</td>\n      <td>Apartment</td>\n      <td>×2</td>\n      <td>×2</td>\n      <td>NaN</td>\n      <td>Leasehold</td>\n      <td>0.3 miles</td>\n      <td>£424,995</td>\n    </tr>\n    <tr>\n      <th>5</th>\n      <td>https://www.rightmove.co.uk/properties/1325839...</td>\n      <td>LS1 Buy to Let Flats, Leeds</td>\n      <td>Apartment</td>\n      <td>×2</td>\n      <td>×2</td>\n      <td>NaN</td>\n      <td>Leasehold</td>\n      <td>0.3 miles</td>\n      <td>£399,995</td>\n    </tr>\n    <tr>\n      <th>6</th>\n      <td>https://www.rightmove.co.uk/properties/1325840...</td>\n      <td>LS1 Buy to Let Flats, Leeds</td>\n      <td>Apartment</td>\n      <td>×2</td>\n      <td>×2</td>\n      <td>NaN</td>\n      <td>Leasehold</td>\n      <td>0.3 miles</td>\n      <td>£375,000</td>\n    </tr>\n    <tr>\n      <th>9</th>\n      <td>https://www.rightmove.co.uk/properties/1324187...</td>\n      <td>LS1 Buy to Let Flats, Leeds</td>\n      <td>Apartment</td>\n      <td>×2</td>\n      <td>×2</td>\n      <td>NaN</td>\n      <td>Leasehold</td>\n      <td>0.3 miles</td>\n      <td>£374,995</td>\n    </tr>\n    <tr>\n      <th>...</th>\n      <td>...</td>\n      <td>...</td>\n      <td>...</td>\n      <td>...</td>\n      <td>...</td>\n      <td>...</td>\n      <td>...</td>\n      <td>...</td>\n      <td>...</td>\n    </tr>\n    <tr>\n      <th>11241</th>\n      <td>https://www.rightmove.co.uk/properties/1241920...</td>\n      <td>Wilshaw Road, Meltham, Holmfirth</td>\n      <td>Detached</td>\n      <td>×5</td>\n      <td>×3</td>\n      <td>NaN</td>\n      <td>Freehold</td>\n      <td>2.4 miles</td>\n      <td>£825,000</td>\n    </tr>\n    <tr>\n      <th>11242</th>\n      <td>https://www.rightmove.co.uk/properties/1302035...</td>\n      <td>Bank Street, Jackson Bridge, Holmfirth, HD9</td>\n      <td>Cottage</td>\n      <td>×3</td>\n      <td>×1</td>\n      <td>NaN</td>\n      <td>Freehold</td>\n      <td>2.4 miles</td>\n      <td>£184,000</td>\n    </tr>\n    <tr>\n      <th>11249</th>\n      <td>https://www.rightmove.co.uk/properties/1286018...</td>\n      <td>Off Helme Lane, Meltham</td>\n      <td>Semi-Detached</td>\n      <td>×2</td>\n      <td>×1</td>\n      <td>NaN</td>\n      <td>Freehold</td>\n      <td>2.2 miles</td>\n      <td>£179,500</td>\n    </tr>\n    <tr>\n      <th>11260</th>\n      <td>https://www.rightmove.co.uk/properties/1313671...</td>\n      <td>Dunford Road, Holmfirth</td>\n      <td>Apartment</td>\n      <td>×2</td>\n      <td>×1</td>\n      <td>NaN</td>\n      <td>Freehold</td>\n      <td>2.2 miles</td>\n      <td>£160,000</td>\n    </tr>\n    <tr>\n      <th>11266</th>\n      <td>https://www.rightmove.co.uk/properties/1326995...</td>\n      <td>New Mill Road, Brockholes, Holmfirth</td>\n      <td>Semi-Detached</td>\n      <td>×4</td>\n      <td>×2</td>\n      <td>NaN</td>\n      <td>Freehold</td>\n      <td>0.3 miles</td>\n      <td>£340,000</td>\n    </tr>\n  </tbody>\n</table>\n<p>2008 rows × 9 columns</p>\n</div>"
     },
     "execution_count": 1437,
     "metadata": {},
     "output_type": "execute_result"
    }
   ],
   "source": [
    "# Display the rows where the address is duplicated\n",
    "properties[properties['address'].duplicated() == True]\n",
    "# Looking at this, some properties often Apartments and Flats have the same address which is okay and makes sense\n",
    "# Furthermore, sometimes the exact same property can be seen to be listed twice or multiple time e.g. rows 1704 and 1705 below\n",
    "# I believe this is the case as the property listings may be displayed multiple times on the page of results for a postcode outcode\n",
    "# Hence the url for this property would be scraped multiple times and then the property details would be scraped and appended to the csv multiple times"
   ],
   "metadata": {
    "collapsed": false
   }
  },
  {
   "cell_type": "markdown",
   "source": [
    "## Dealing with property listings that have been scraped multiple times and have hence become duplicated data\n",
    "\n",
    "As mentioned previously, sometimes the exact same property can be seen to be listed twice or multiple times e.g. rows 1704 and 1705 in the results for the cell above\n",
    "I believe this is the case as the property listings may be displayed multiple times on the page of results for a postcode outcode, as rightmove.co.uk try to highlight or feature that listing as a marketing ploy\n",
    "Hence the url for this property would be scraped multiple times and then the property details would be scraped and appended to the csv multiple times\n",
    "\n",
    "I need to keep only the first occurrence of a duplicated row of data, this will be done before progressing any further"
   ],
   "metadata": {
    "collapsed": false
   }
  },
  {
   "cell_type": "code",
   "execution_count": 1438,
   "outputs": [
    {
     "data": {
      "text/plain": "                                                     url  \\\n0      https://www.rightmove.co.uk/properties/1319880...   \n1      https://www.rightmove.co.uk/properties/1272674...   \n2      https://www.rightmove.co.uk/properties/1325839...   \n3      https://www.rightmove.co.uk/properties/1325839...   \n4      https://www.rightmove.co.uk/properties/1325839...   \n...                                                  ...   \n10474  https://www.rightmove.co.uk/properties/1328843...   \n10475  https://www.rightmove.co.uk/properties/1281187...   \n10476  https://www.rightmove.co.uk/properties/1328625...   \n10477  https://www.rightmove.co.uk/properties/1265926...   \n10478  https://www.rightmove.co.uk/properties/1327196...   \n\n                                                 address  property_type  \\\n0      The Quays, 3 Concordia Street, Leeds, West Yor...      Apartment   \n1             Grade II Apartments, Alexander Street, LS1      Apartment   \n2                            LS1 Buy to Let Flats, Leeds      Apartment   \n3                            LS1 Buy to Let Flats, Leeds      Apartment   \n4                            LS1 Buy to Let Flats, Leeds      Apartment   \n...                                                  ...            ...   \n10474  Greenhill Bank Road, New Mill, Holmfirth, West...       Terraced   \n10475  Thick Hollins, Meltham, Holmfirth, West Yorksh...       Terraced   \n10476  Holmclose, Holmbridge, Holmfirth, West Yorkshi...  Semi-Detached   \n10477                France Hill, Honley, Holmfirth, HD9       Terraced   \n10478          Upper Sunny Bank Mews, Meltham, Holmfirth      Apartment   \n\n      bedrooms bathrooms size_sq_ft     tenure nearest_station     price  \n0           ×1        ×1        NaN  Leasehold       0.1 miles  £180,000  \n1           ×3        ×3        NaN  Ask agent       0.5 miles  £741,175  \n2           ×2        ×2        NaN  Leasehold       0.3 miles  £449,995  \n3           ×2        ×2        NaN  Leasehold       0.3 miles  £425,000  \n4           ×2        ×2        NaN  Leasehold       0.3 miles  £424,995  \n...        ...       ...        ...        ...             ...       ...  \n10474       ×2        ×1        NaN   Freehold       1.6 miles  £150,000  \n10475       ×2        ×1        NaN   Freehold       2.8 miles  £150,000  \n10476       ×2        ×1        NaN   Freehold       3.4 miles  £150,000  \n10477       ×2        ×1        NaN   Freehold       0.5 miles  £148,000  \n10478       ×2        ×1        NaN  Leasehold       2.2 miles  £140,000  \n\n[10479 rows x 9 columns]",
      "text/html": "<div>\n<style scoped>\n    .dataframe tbody tr th:only-of-type {\n        vertical-align: middle;\n    }\n\n    .dataframe tbody tr th {\n        vertical-align: top;\n    }\n\n    .dataframe thead th {\n        text-align: right;\n    }\n</style>\n<table border=\"1\" class=\"dataframe\">\n  <thead>\n    <tr style=\"text-align: right;\">\n      <th></th>\n      <th>url</th>\n      <th>address</th>\n      <th>property_type</th>\n      <th>bedrooms</th>\n      <th>bathrooms</th>\n      <th>size_sq_ft</th>\n      <th>tenure</th>\n      <th>nearest_station</th>\n      <th>price</th>\n    </tr>\n  </thead>\n  <tbody>\n    <tr>\n      <th>0</th>\n      <td>https://www.rightmove.co.uk/properties/1319880...</td>\n      <td>The Quays, 3 Concordia Street, Leeds, West Yor...</td>\n      <td>Apartment</td>\n      <td>×1</td>\n      <td>×1</td>\n      <td>NaN</td>\n      <td>Leasehold</td>\n      <td>0.1 miles</td>\n      <td>£180,000</td>\n    </tr>\n    <tr>\n      <th>1</th>\n      <td>https://www.rightmove.co.uk/properties/1272674...</td>\n      <td>Grade II Apartments, Alexander Street, LS1</td>\n      <td>Apartment</td>\n      <td>×3</td>\n      <td>×3</td>\n      <td>NaN</td>\n      <td>Ask agent</td>\n      <td>0.5 miles</td>\n      <td>£741,175</td>\n    </tr>\n    <tr>\n      <th>2</th>\n      <td>https://www.rightmove.co.uk/properties/1325839...</td>\n      <td>LS1 Buy to Let Flats, Leeds</td>\n      <td>Apartment</td>\n      <td>×2</td>\n      <td>×2</td>\n      <td>NaN</td>\n      <td>Leasehold</td>\n      <td>0.3 miles</td>\n      <td>£449,995</td>\n    </tr>\n    <tr>\n      <th>3</th>\n      <td>https://www.rightmove.co.uk/properties/1325839...</td>\n      <td>LS1 Buy to Let Flats, Leeds</td>\n      <td>Apartment</td>\n      <td>×2</td>\n      <td>×2</td>\n      <td>NaN</td>\n      <td>Leasehold</td>\n      <td>0.3 miles</td>\n      <td>£425,000</td>\n    </tr>\n    <tr>\n      <th>4</th>\n      <td>https://www.rightmove.co.uk/properties/1325839...</td>\n      <td>LS1 Buy to Let Flats, Leeds</td>\n      <td>Apartment</td>\n      <td>×2</td>\n      <td>×2</td>\n      <td>NaN</td>\n      <td>Leasehold</td>\n      <td>0.3 miles</td>\n      <td>£424,995</td>\n    </tr>\n    <tr>\n      <th>...</th>\n      <td>...</td>\n      <td>...</td>\n      <td>...</td>\n      <td>...</td>\n      <td>...</td>\n      <td>...</td>\n      <td>...</td>\n      <td>...</td>\n      <td>...</td>\n    </tr>\n    <tr>\n      <th>10474</th>\n      <td>https://www.rightmove.co.uk/properties/1328843...</td>\n      <td>Greenhill Bank Road, New Mill, Holmfirth, West...</td>\n      <td>Terraced</td>\n      <td>×2</td>\n      <td>×1</td>\n      <td>NaN</td>\n      <td>Freehold</td>\n      <td>1.6 miles</td>\n      <td>£150,000</td>\n    </tr>\n    <tr>\n      <th>10475</th>\n      <td>https://www.rightmove.co.uk/properties/1281187...</td>\n      <td>Thick Hollins, Meltham, Holmfirth, West Yorksh...</td>\n      <td>Terraced</td>\n      <td>×2</td>\n      <td>×1</td>\n      <td>NaN</td>\n      <td>Freehold</td>\n      <td>2.8 miles</td>\n      <td>£150,000</td>\n    </tr>\n    <tr>\n      <th>10476</th>\n      <td>https://www.rightmove.co.uk/properties/1328625...</td>\n      <td>Holmclose, Holmbridge, Holmfirth, West Yorkshi...</td>\n      <td>Semi-Detached</td>\n      <td>×2</td>\n      <td>×1</td>\n      <td>NaN</td>\n      <td>Freehold</td>\n      <td>3.4 miles</td>\n      <td>£150,000</td>\n    </tr>\n    <tr>\n      <th>10477</th>\n      <td>https://www.rightmove.co.uk/properties/1265926...</td>\n      <td>France Hill, Honley, Holmfirth, HD9</td>\n      <td>Terraced</td>\n      <td>×2</td>\n      <td>×1</td>\n      <td>NaN</td>\n      <td>Freehold</td>\n      <td>0.5 miles</td>\n      <td>£148,000</td>\n    </tr>\n    <tr>\n      <th>10478</th>\n      <td>https://www.rightmove.co.uk/properties/1327196...</td>\n      <td>Upper Sunny Bank Mews, Meltham, Holmfirth</td>\n      <td>Apartment</td>\n      <td>×2</td>\n      <td>×1</td>\n      <td>NaN</td>\n      <td>Leasehold</td>\n      <td>2.2 miles</td>\n      <td>£140,000</td>\n    </tr>\n  </tbody>\n</table>\n<p>10479 rows × 9 columns</p>\n</div>"
     },
     "execution_count": 1438,
     "metadata": {},
     "output_type": "execute_result"
    }
   ],
   "source": [
    "# Drop the duplicates and keep the first occurrence of a property listing\n",
    "properties = properties.drop_duplicates(\n",
    "    subset = ['address', 'property_type', 'bedrooms', 'bathrooms', 'size_sq_ft', 'tenure', 'nearest_station', 'price'],\n",
    "    keep = 'first').reset_index(drop = True)\n",
    "properties"
   ],
   "metadata": {
    "collapsed": false
   }
  },
  {
   "cell_type": "code",
   "execution_count": 1439,
   "outputs": [
    {
     "data": {
      "text/plain": "10479"
     },
     "execution_count": 1439,
     "metadata": {},
     "output_type": "execute_result"
    }
   ],
   "source": [
    "# Number of rows remaining now that duplicates removed and first occurrence retained\n",
    "properties.shape[0]"
   ],
   "metadata": {
    "collapsed": false
   }
  },
  {
   "cell_type": "markdown",
   "source": [
    "## Look at property_type column"
   ],
   "metadata": {
    "collapsed": false
   }
  },
  {
   "cell_type": "code",
   "execution_count": 1440,
   "outputs": [
    {
     "data": {
      "text/plain": "array(['Apartment', 'Flat', 'Penthouse', 'Parking', 'Terraced',\n       'Detached', 'End of Terrace', 'Studio', 'Town House',\n       'Semi-Detached', 'Link Detached House', 'Duplex', 'House',\n       'Semi-Detached Bungalow', 'Retirement Property', 'Ground Flat',\n       'House of Multiple Occupation', 'Bungalow', 'Block of Apartments',\n       'Maisonette', 'Barn Conversion', 'Park Home', 'Detached Bungalow',\n       'Terraced Bungalow', 'Equestrian Facility', 'Cottage',\n       'Coach House', 'Character Property', 'Mobile Home',\n       'Country House', 'Farm House', 'Mews', 'Barn', 'Chalet',\n       'Cluster House', 'Villa', 'House Share', 'Lodge', 'Caravan',\n       'Manor House'], dtype=object)"
     },
     "execution_count": 1440,
     "metadata": {},
     "output_type": "execute_result"
    }
   ],
   "source": [
    "# Look at the unique values for property_type column\n",
    "properties['property_type'].unique()"
   ],
   "metadata": {
    "collapsed": false
   }
  },
  {
   "cell_type": "code",
   "execution_count": 1441,
   "outputs": [
    {
     "data": {
      "text/plain": "40"
     },
     "execution_count": 1441,
     "metadata": {},
     "output_type": "execute_result"
    }
   ],
   "source": [
    "# Get the number of unique values for the property_type column\n",
    "# There is a considerably high amount of unique values for the property type\n",
    "properties['property_type'].nunique()"
   ],
   "metadata": {
    "collapsed": false
   }
  },
  {
   "cell_type": "code",
   "execution_count": 1442,
   "outputs": [
    {
     "data": {
      "text/plain": "Detached                        2435\nSemi-Detached                   2415\nTerraced                        1663\nApartment                       1071\nEnd of Terrace                   574\nFlat                             439\nBungalow                         359\nTown House                       294\nDetached Bungalow                266\nSemi-Detached Bungalow           231\nHouse                            209\nCottage                          125\nBarn Conversion                   63\nLink Detached House               49\nCharacter Property                37\nPark Home                         33\nGround Flat                       32\nRetirement Property               32\nStudio                            29\nPenthouse                         20\nDuplex                            18\nTerraced Bungalow                 10\nFarm House                         9\nMews                               9\nMaisonette                         9\nBlock of Apartments                6\nEquestrian Facility                5\nCountry House                      5\nHouse of Multiple Occupation       5\nBarn                               4\nCaravan                            4\nLodge                              3\nManor House                        3\nParking                            3\nChalet                             2\nCluster House                      2\nHouse Share                        2\nMobile Home                        2\nVilla                              1\nCoach House                        1\nName: property_type, dtype: int64"
     },
     "execution_count": 1442,
     "metadata": {},
     "output_type": "execute_result"
    }
   ],
   "source": [
    "# Get a value count for each type of property\n",
    "properties['property_type'].value_counts()"
   ],
   "metadata": {
    "collapsed": false
   }
  },
  {
   "cell_type": "code",
   "execution_count": 1443,
   "outputs": [
    {
     "data": {
      "text/plain": "<Figure size 1440x720 with 1 Axes>",
      "image/png": "[encoded data removed]"
     },
     "metadata": {},
     "output_type": "display_data"
    }
   ],
   "source": [
    "# Look at a count plot of each type of property in the data\n",
    "plt.figure(figsize = (20, 10))\n",
    "sns.barplot(y = properties['property_type'].value_counts(), x = properties['property_type'].value_counts().index)\n",
    "plt.xticks(rotation = 45, horizontalalignment = 'right', fontweight = 'light', fontsize = 'large')\n",
    "plt.show()\n",
    "# Can see that Detached, Semi-Detached, Terraced and Apartment account for about 72% of the data"
   ],
   "metadata": {
    "collapsed": false
   }
  },
  {
   "cell_type": "markdown",
   "source": [
    "## Looking at the tenure column"
   ],
   "metadata": {
    "collapsed": false
   }
  },
  {
   "cell_type": "code",
   "execution_count": 1444,
   "outputs": [
    {
     "data": {
      "text/plain": "array(['Leasehold', 'Ask agent', 'Freehold', 'Share of Freehold',\n       'Ask developer'], dtype=object)"
     },
     "execution_count": 1444,
     "metadata": {},
     "output_type": "execute_result"
    }
   ],
   "source": [
    "# Look at the unique values for tenure column\n",
    "# There are 6 values - in the interest of my model I would like it to make predictions for Freehold properties\n",
    "# There are some properties that have no value for tenure, will check the nulls for this\n",
    "properties['tenure'].unique()"
   ],
   "metadata": {
    "collapsed": false
   }
  },
  {
   "cell_type": "code",
   "execution_count": 1445,
   "outputs": [
    {
     "data": {
      "text/plain": "Freehold             7678\nLeasehold            1754\nAsk agent             690\nAsk developer         332\nShare of Freehold      25\nName: tenure, dtype: int64"
     },
     "execution_count": 1445,
     "metadata": {},
     "output_type": "execute_result"
    }
   ],
   "source": [
    "# Do a value count for the tenures\n",
    "properties['tenure'].value_counts()\n",
    "# Can see that freehold makes up 75% of the data"
   ],
   "metadata": {
    "collapsed": false
   }
  },
  {
   "cell_type": "code",
   "execution_count": 1446,
   "outputs": [
    {
     "data": {
      "text/plain": "<Figure size 1440x720 with 1 Axes>",
      "image/png": "[encoded data removed]"
     },
     "metadata": {},
     "output_type": "display_data"
    }
   ],
   "source": [
    "# Look at the count plot of each type of tenure in the data\n",
    "plt.figure(figsize = (20, 10))\n",
    "sns.barplot(y = properties['tenure'].value_counts(), x = properties['tenure'].value_counts().index)\n",
    "plt.xticks(rotation = 45, horizontalalignment = 'right', fontweight = 'light', fontsize = 'large')\n",
    "plt.show()\n",
    "# Can see that Freehold accounts for almost 75% of the data"
   ],
   "metadata": {
    "collapsed": false
   }
  },
  {
   "cell_type": "markdown",
   "source": [
    "# See if I can determine what property types I could cut the dataset down to\n",
    "- They need to also be Freehold properties\n",
    "- Looking at the plot below a sensible approach would be to cut down the data to be properties of Detached, Semi-detached and Terraced type\n",
    "- There was previously an argument to include Apartments also but the tenure type for apartments is predominantly Leasehold which is what I am trying to avoid"
   ],
   "metadata": {
    "collapsed": false
   }
  },
  {
   "cell_type": "code",
   "execution_count": 1447,
   "outputs": [
    {
     "data": {
      "text/plain": "<Figure size 1440x720 with 1 Axes>",
      "image/png": "[encoded data removed]"
     },
     "metadata": {},
     "output_type": "display_data"
    }
   ],
   "source": [
    "plt.figure(figsize = (20, 10))\n",
    "sns.countplot(x=properties['property_type'], hue='tenure', data=properties, order=properties.property_type.value_counts().iloc[:10].index, palette='rocket_r')\n",
    "plt.show()"
   ],
   "metadata": {
    "collapsed": false
   }
  },
  {
   "cell_type": "code",
   "execution_count": 1448,
   "outputs": [
    {
     "data": {
      "text/plain": "5636"
     },
     "execution_count": 1448,
     "metadata": {},
     "output_type": "execute_result"
    }
   ],
   "source": [
    "# Find the number of rows that would be classed as Freehold and Detached/Semi-Detached/Terraced\n",
    "check = properties[properties['tenure'] == 'Freehold'] #Only freehold properties\n",
    "# Only Detached, Semi-Detached or Terraced\n",
    "check = check[(check['property_type'] == 'Detached') | (check['property_type'] == 'Semi-Detached') | (check['property_type'] == 'Terraced')]\n",
    "len(check)"
   ],
   "metadata": {
    "collapsed": false
   }
  },
  {
   "cell_type": "markdown",
   "source": [
    "## Handling converting the numerical features into an appropriate type\n",
    "\n",
    "- Within this section null cleaning may happen in order to successfully convert the type of the column\n",
    "- You can not convert the type of a column to a numberical type with nulls present in the column"
   ],
   "metadata": {
    "collapsed": false
   }
  },
  {
   "cell_type": "code",
   "execution_count": 1449,
   "outputs": [],
   "source": [
    "# Removing £, and ', symbol from the column\n",
    "properties['price'] = properties['price'].str.replace('£','').str.replace(',', '')"
   ],
   "metadata": {
    "collapsed": false
   }
  },
  {
   "cell_type": "code",
   "execution_count": 1450,
   "outputs": [
    {
     "data": {
      "text/plain": "                                                     url  \\\n1384   https://www.rightmove.co.uk/properties/1322204...   \n1523   https://www.rightmove.co.uk/properties/1283883...   \n1524   https://www.rightmove.co.uk/properties/1283895...   \n1600   https://www.rightmove.co.uk/properties/1283874...   \n1683   https://www.rightmove.co.uk/properties/1283697...   \n3664   https://www.rightmove.co.uk/properties/1308317...   \n4629   https://www.rightmove.co.uk/properties/1327076...   \n4643   https://www.rightmove.co.uk/properties/1327075...   \n5813   https://www.rightmove.co.uk/properties/1290788...   \n10307  https://www.rightmove.co.uk/properties/1321128...   \n\n                                                 address  property_type  \\\n1384                      Seacroft\\r\\nLeeds,\\r\\nLS14 6FU  Semi-Detached   \n1523                   Manston Lane\\r\\nLeeds\\r\\nLS15 8ST       Detached   \n1524                   Manston Lane\\r\\nLeeds\\r\\nLS15 8ST  Semi-Detached   \n1600                   Manston Lane\\r\\nLeeds\\r\\nLS15 8ST  Semi-Detached   \n1683                   Manston Lane\\r\\nLeeds\\r\\nLS15 8ST     Town House   \n3664               Bingley Road,\\r\\nMenston,\\r\\nLS29 6BA  Semi-Detached   \n4629   New School Lane,\\r\\nCullingworth,\\r\\nBradford,...       Detached   \n4643   New School Lane,\\r\\nCullingworth,\\r\\nBradford,...  Semi-Detached   \n5813            Hawbank Field, \\r\\nSkipton, \\r\\nBD23 6XD       Detached   \n10307                Plot 1 at Marsh Gardens, Honley HD9          House   \n\n      bedrooms bathrooms     size_sq_ft         tenure nearest_station  \\\n1384        ×4       NaN  1,356 sq. ft.  Ask developer       1.0 miles   \n1523        ×4        ×2            NaN       Freehold       0.9 miles   \n1524        ×4        ×2            NaN       Freehold       0.9 miles   \n1600        ×3        ×2            NaN       Freehold       0.9 miles   \n1683        ×2        ×2            NaN       Freehold       0.9 miles   \n3664        ×3       NaN  1,123 sq. ft.       Freehold       0.6 miles   \n4629        ×3       NaN            NaN  Ask developer       3.0 miles   \n4643        ×3       NaN            NaN  Ask developer       3.0 miles   \n5813        ×4       NaN            NaN       Freehold       1.2 miles   \n10307       ×4        ×2  2,000 sq. ft.       Freehold       0.6 miles   \n\n             price  \n1384   Coming Soon  \n1523   Coming Soon  \n1524   Coming Soon  \n1600   Coming Soon  \n1683   Coming Soon  \n3664   Coming Soon  \n4629   Coming Soon  \n4643   Coming Soon  \n5813   Coming Soon  \n10307  Coming Soon  ",
      "text/html": "<div>\n<style scoped>\n    .dataframe tbody tr th:only-of-type {\n        vertical-align: middle;\n    }\n\n    .dataframe tbody tr th {\n        vertical-align: top;\n    }\n\n    .dataframe thead th {\n        text-align: right;\n    }\n</style>\n<table border=\"1\" class=\"dataframe\">\n  <thead>\n    <tr style=\"text-align: right;\">\n      <th></th>\n      <th>url</th>\n      <th>address</th>\n      <th>property_type</th>\n      <th>bedrooms</th>\n      <th>bathrooms</th>\n      <th>size_sq_ft</th>\n      <th>tenure</th>\n      <th>nearest_station</th>\n      <th>price</th>\n    </tr>\n  </thead>\n  <tbody>\n    <tr>\n      <th>1384</th>\n      <td>https://www.rightmove.co.uk/properties/1322204...</td>\n      <td>Seacroft\\r\\nLeeds,\\r\\nLS14 6FU</td>\n      <td>Semi-Detached</td>\n      <td>×4</td>\n      <td>NaN</td>\n      <td>1,356 sq. ft.</td>\n      <td>Ask developer</td>\n      <td>1.0 miles</td>\n      <td>Coming Soon</td>\n    </tr>\n    <tr>\n      <th>1523</th>\n      <td>https://www.rightmove.co.uk/properties/1283883...</td>\n      <td>Manston Lane\\r\\nLeeds\\r\\nLS15 8ST</td>\n      <td>Detached</td>\n      <td>×4</td>\n      <td>×2</td>\n      <td>NaN</td>\n      <td>Freehold</td>\n      <td>0.9 miles</td>\n      <td>Coming Soon</td>\n    </tr>\n    <tr>\n      <th>1524</th>\n      <td>https://www.rightmove.co.uk/properties/1283895...</td>\n      <td>Manston Lane\\r\\nLeeds\\r\\nLS15 8ST</td>\n      <td>Semi-Detached</td>\n      <td>×4</td>\n      <td>×2</td>\n      <td>NaN</td>\n      <td>Freehold</td>\n      <td>0.9 miles</td>\n      <td>Coming Soon</td>\n    </tr>\n    <tr>\n      <th>1600</th>\n      <td>https://www.rightmove.co.uk/properties/1283874...</td>\n      <td>Manston Lane\\r\\nLeeds\\r\\nLS15 8ST</td>\n      <td>Semi-Detached</td>\n      <td>×3</td>\n      <td>×2</td>\n      <td>NaN</td>\n      <td>Freehold</td>\n      <td>0.9 miles</td>\n      <td>Coming Soon</td>\n    </tr>\n    <tr>\n      <th>1683</th>\n      <td>https://www.rightmove.co.uk/properties/1283697...</td>\n      <td>Manston Lane\\r\\nLeeds\\r\\nLS15 8ST</td>\n      <td>Town House</td>\n      <td>×2</td>\n      <td>×2</td>\n      <td>NaN</td>\n      <td>Freehold</td>\n      <td>0.9 miles</td>\n      <td>Coming Soon</td>\n    </tr>\n    <tr>\n      <th>3664</th>\n      <td>https://www.rightmove.co.uk/properties/1308317...</td>\n      <td>Bingley Road,\\r\\nMenston,\\r\\nLS29 6BA</td>\n      <td>Semi-Detached</td>\n      <td>×3</td>\n      <td>NaN</td>\n      <td>1,123 sq. ft.</td>\n      <td>Freehold</td>\n      <td>0.6 miles</td>\n      <td>Coming Soon</td>\n    </tr>\n    <tr>\n      <th>4629</th>\n      <td>https://www.rightmove.co.uk/properties/1327076...</td>\n      <td>New School Lane,\\r\\nCullingworth,\\r\\nBradford,...</td>\n      <td>Detached</td>\n      <td>×3</td>\n      <td>NaN</td>\n      <td>NaN</td>\n      <td>Ask developer</td>\n      <td>3.0 miles</td>\n      <td>Coming Soon</td>\n    </tr>\n    <tr>\n      <th>4643</th>\n      <td>https://www.rightmove.co.uk/properties/1327075...</td>\n      <td>New School Lane,\\r\\nCullingworth,\\r\\nBradford,...</td>\n      <td>Semi-Detached</td>\n      <td>×3</td>\n      <td>NaN</td>\n      <td>NaN</td>\n      <td>Ask developer</td>\n      <td>3.0 miles</td>\n      <td>Coming Soon</td>\n    </tr>\n    <tr>\n      <th>5813</th>\n      <td>https://www.rightmove.co.uk/properties/1290788...</td>\n      <td>Hawbank Field, \\r\\nSkipton, \\r\\nBD23 6XD</td>\n      <td>Detached</td>\n      <td>×4</td>\n      <td>NaN</td>\n      <td>NaN</td>\n      <td>Freehold</td>\n      <td>1.2 miles</td>\n      <td>Coming Soon</td>\n    </tr>\n    <tr>\n      <th>10307</th>\n      <td>https://www.rightmove.co.uk/properties/1321128...</td>\n      <td>Plot 1 at Marsh Gardens, Honley HD9</td>\n      <td>House</td>\n      <td>×4</td>\n      <td>×2</td>\n      <td>2,000 sq. ft.</td>\n      <td>Freehold</td>\n      <td>0.6 miles</td>\n      <td>Coming Soon</td>\n    </tr>\n  </tbody>\n</table>\n</div>"
     },
     "execution_count": 1450,
     "metadata": {},
     "output_type": "execute_result"
    }
   ],
   "source": [
    "# 10 rows where the value of the price is not given but instead 'Coming Soon' is written on a listing\n",
    "properties[properties['price'] == 'Coming Soon']"
   ],
   "metadata": {
    "collapsed": false
   }
  },
  {
   "cell_type": "code",
   "execution_count": 1451,
   "outputs": [],
   "source": [
    "# Row which doesn't have a value for price, replace with a value of 0\n",
    "properties['price'] = properties['price'].str.replace('Coming Soon', '£0')"
   ],
   "metadata": {
    "collapsed": false
   }
  },
  {
   "cell_type": "code",
   "execution_count": 1452,
   "outputs": [],
   "source": [
    "# Row which doesn't have a value for price, replace with a value of 0\n",
    "properties['price'] = properties['price'].str.replace('Sale by Tender', '£0')"
   ],
   "metadata": {
    "collapsed": false
   }
  },
  {
   "cell_type": "code",
   "execution_count": 1453,
   "outputs": [],
   "source": [
    "# Row which doesn't have a value for price, replace with a value of 0\n",
    "properties['price'] = properties['price'].str.replace('POA', '£0')"
   ],
   "metadata": {
    "collapsed": false
   }
  },
  {
   "cell_type": "code",
   "execution_count": 1454,
   "outputs": [],
   "source": [
    "# Remove rows with a literal string '£'\n",
    "properties = properties[properties['price'] != '£0']"
   ],
   "metadata": {
    "collapsed": false
   }
  },
  {
   "cell_type": "code",
   "execution_count": 1455,
   "outputs": [
    {
     "name": "stderr",
     "output_type": "stream",
     "text": [
      "C:\\Users\\haide\\AppData\\Local\\Temp/ipykernel_68452/2713565680.py:2: SettingWithCopyWarning: \n",
      "A value is trying to be set on a copy of a slice from a DataFrame.\n",
      "Try using .loc[row_indexer,col_indexer] = value instead\n",
      "\n",
      "See the caveats in the documentation: https://pandas.pydata.org/pandas-docs/stable/user_guide/indexing.html#returning-a-view-versus-a-copy\n",
      "  properties['price'] = properties['price'].astype('int')\n"
     ]
    }
   ],
   "source": [
    "# Change the type of this column to an integer\n",
    "properties['price'] = properties['price'].astype('int')"
   ],
   "metadata": {
    "collapsed": false
   }
  },
  {
   "cell_type": "code",
   "execution_count": 1456,
   "outputs": [
    {
     "name": "stderr",
     "output_type": "stream",
     "text": [
      "C:\\Users\\haide\\AppData\\Local\\Temp/ipykernel_68452/4186229156.py:2: SettingWithCopyWarning: \n",
      "A value is trying to be set on a copy of a slice from a DataFrame.\n",
      "Try using .loc[row_indexer,col_indexer] = value instead\n",
      "\n",
      "See the caveats in the documentation: https://pandas.pydata.org/pandas-docs/stable/user_guide/indexing.html#returning-a-view-versus-a-copy\n",
      "  properties['bedrooms'] = properties['bedrooms'].str.replace('×', '')\n"
     ]
    }
   ],
   "source": [
    "# Removing x symbol from the column\n",
    "properties['bedrooms'] = properties['bedrooms'].str.replace('×', '')"
   ],
   "metadata": {
    "collapsed": false
   }
  },
  {
   "cell_type": "code",
   "execution_count": 1457,
   "outputs": [
    {
     "name": "stderr",
     "output_type": "stream",
     "text": [
      "C:\\Users\\haide\\anaconda3\\lib\\site-packages\\pandas\\util\\_decorators.py:311: SettingWithCopyWarning: \n",
      "A value is trying to be set on a copy of a slice from a DataFrame\n",
      "\n",
      "See the caveats in the documentation: https://pandas.pydata.org/pandas-docs/stable/user_guide/indexing.html#returning-a-view-versus-a-copy\n",
      "  return func(*args, **kwargs)\n"
     ]
    }
   ],
   "source": [
    "# I need the drops with nulls from bedrooms - low percentage this is okay\n",
    "properties.dropna(\n",
    "    axis = 0,\n",
    "    how = 'any',\n",
    "    subset = ['bedrooms'],\n",
    "    inplace = True\n",
    ")"
   ],
   "metadata": {
    "collapsed": false
   }
  },
  {
   "cell_type": "code",
   "execution_count": 1458,
   "outputs": [
    {
     "name": "stderr",
     "output_type": "stream",
     "text": [
      "C:\\Users\\haide\\AppData\\Local\\Temp/ipykernel_68452/4170719804.py:2: SettingWithCopyWarning: \n",
      "A value is trying to be set on a copy of a slice from a DataFrame.\n",
      "Try using .loc[row_indexer,col_indexer] = value instead\n",
      "\n",
      "See the caveats in the documentation: https://pandas.pydata.org/pandas-docs/stable/user_guide/indexing.html#returning-a-view-versus-a-copy\n",
      "  properties['bedrooms'] = properties['bedrooms'].astype('int')\n"
     ]
    }
   ],
   "source": [
    "# Change the type of this column to an integer\n",
    "properties['bedrooms'] = properties['bedrooms'].astype('int')"
   ],
   "metadata": {
    "collapsed": false
   }
  },
  {
   "cell_type": "code",
   "execution_count": 1459,
   "outputs": [
    {
     "data": {
      "text/plain": "                                                     url  \\\n105    https://www.rightmove.co.uk/properties/1323958...   \n150    https://www.rightmove.co.uk/properties/1144877...   \n153    https://www.rightmove.co.uk/properties/1312088...   \n157    https://www.rightmove.co.uk/properties/1309141...   \n158    https://www.rightmove.co.uk/properties/1233297...   \n...                                                  ...   \n10396  https://www.rightmove.co.uk/properties/1319520...   \n10415  https://www.rightmove.co.uk/properties/1313398...   \n10434  https://www.rightmove.co.uk/properties/1315925...   \n10471  https://www.rightmove.co.uk/properties/1329067...   \n10472  https://www.rightmove.co.uk/properties/1291774...   \n\n                                                 address   property_type  \\\n105      Great George Street, Leeds, West Yorkshire, LS1            Flat   \n150                                  North Street, Leeds            Flat   \n153    Millwright Apartments, 47 Byron Street, Leeds,...            Flat   \n157    Citispace South, 11 Regent Street, Leeds, West...            Flat   \n158        The Chandlers, Leeds, West Yorkshire, LS2 7EZ            Flat   \n...                                                  ...             ...   \n10396              20 Town End Avenue, Holmfirth HD9 1QW        Detached   \n10415          Poppy Gardens, Meltham, Holmfirth HD9 5AU   Semi-Detached   \n10434  New Mill Road, Brockholes, Holmfirth, West Yor...        Bungalow   \n10471             New Street, Meltham, Holmfirth HD9 5NT  End of Terrace   \n10472          Copley Avenue, Meltham, Holmfirth HD9 5LS        Terraced   \n\n       bedrooms bathrooms size_sq_ft     tenure nearest_station   price  \n105           1       NaN        NaN  Leasehold       0.6 miles   97500  \n150           1       NaN        NaN  Leasehold       0.7 miles  127000  \n153           2       NaN        NaN  Leasehold       0.8 miles  110000  \n157           1       NaN        NaN  Leasehold       0.8 miles   95000  \n158           1       NaN        NaN  Leasehold       0.5 miles   95000  \n...         ...       ...        ...        ...             ...     ...  \n10396         4       NaN        NaN   Freehold       1.4 miles  320000  \n10415         3       NaN        NaN   Freehold       2.4 miles  275000  \n10434         3       NaN        NaN   Freehold       0.4 miles  220000  \n10471         3       NaN        NaN   Freehold       2.5 miles  155000  \n10472         3       NaN        NaN   Freehold       2.2 miles  155000  \n\n[947 rows x 9 columns]",
      "text/html": "<div>\n<style scoped>\n    .dataframe tbody tr th:only-of-type {\n        vertical-align: middle;\n    }\n\n    .dataframe tbody tr th {\n        vertical-align: top;\n    }\n\n    .dataframe thead th {\n        text-align: right;\n    }\n</style>\n<table border=\"1\" class=\"dataframe\">\n  <thead>\n    <tr style=\"text-align: right;\">\n      <th></th>\n      <th>url</th>\n      <th>address</th>\n      <th>property_type</th>\n      <th>bedrooms</th>\n      <th>bathrooms</th>\n      <th>size_sq_ft</th>\n      <th>tenure</th>\n      <th>nearest_station</th>\n      <th>price</th>\n    </tr>\n  </thead>\n  <tbody>\n    <tr>\n      <th>105</th>\n      <td>https://www.rightmove.co.uk/properties/1323958...</td>\n      <td>Great George Street, Leeds, West Yorkshire, LS1</td>\n      <td>Flat</td>\n      <td>1</td>\n      <td>NaN</td>\n      <td>NaN</td>\n      <td>Leasehold</td>\n      <td>0.6 miles</td>\n      <td>97500</td>\n    </tr>\n    <tr>\n      <th>150</th>\n      <td>https://www.rightmove.co.uk/properties/1144877...</td>\n      <td>North Street, Leeds</td>\n      <td>Flat</td>\n      <td>1</td>\n      <td>NaN</td>\n      <td>NaN</td>\n      <td>Leasehold</td>\n      <td>0.7 miles</td>\n      <td>127000</td>\n    </tr>\n    <tr>\n      <th>153</th>\n      <td>https://www.rightmove.co.uk/properties/1312088...</td>\n      <td>Millwright Apartments, 47 Byron Street, Leeds,...</td>\n      <td>Flat</td>\n      <td>2</td>\n      <td>NaN</td>\n      <td>NaN</td>\n      <td>Leasehold</td>\n      <td>0.8 miles</td>\n      <td>110000</td>\n    </tr>\n    <tr>\n      <th>157</th>\n      <td>https://www.rightmove.co.uk/properties/1309141...</td>\n      <td>Citispace South, 11 Regent Street, Leeds, West...</td>\n      <td>Flat</td>\n      <td>1</td>\n      <td>NaN</td>\n      <td>NaN</td>\n      <td>Leasehold</td>\n      <td>0.8 miles</td>\n      <td>95000</td>\n    </tr>\n    <tr>\n      <th>158</th>\n      <td>https://www.rightmove.co.uk/properties/1233297...</td>\n      <td>The Chandlers, Leeds, West Yorkshire, LS2 7EZ</td>\n      <td>Flat</td>\n      <td>1</td>\n      <td>NaN</td>\n      <td>NaN</td>\n      <td>Leasehold</td>\n      <td>0.5 miles</td>\n      <td>95000</td>\n    </tr>\n    <tr>\n      <th>...</th>\n      <td>...</td>\n      <td>...</td>\n      <td>...</td>\n      <td>...</td>\n      <td>...</td>\n      <td>...</td>\n      <td>...</td>\n      <td>...</td>\n      <td>...</td>\n    </tr>\n    <tr>\n      <th>10396</th>\n      <td>https://www.rightmove.co.uk/properties/1319520...</td>\n      <td>20 Town End Avenue, Holmfirth HD9 1QW</td>\n      <td>Detached</td>\n      <td>4</td>\n      <td>NaN</td>\n      <td>NaN</td>\n      <td>Freehold</td>\n      <td>1.4 miles</td>\n      <td>320000</td>\n    </tr>\n    <tr>\n      <th>10415</th>\n      <td>https://www.rightmove.co.uk/properties/1313398...</td>\n      <td>Poppy Gardens, Meltham, Holmfirth HD9 5AU</td>\n      <td>Semi-Detached</td>\n      <td>3</td>\n      <td>NaN</td>\n      <td>NaN</td>\n      <td>Freehold</td>\n      <td>2.4 miles</td>\n      <td>275000</td>\n    </tr>\n    <tr>\n      <th>10434</th>\n      <td>https://www.rightmove.co.uk/properties/1315925...</td>\n      <td>New Mill Road, Brockholes, Holmfirth, West Yor...</td>\n      <td>Bungalow</td>\n      <td>3</td>\n      <td>NaN</td>\n      <td>NaN</td>\n      <td>Freehold</td>\n      <td>0.4 miles</td>\n      <td>220000</td>\n    </tr>\n    <tr>\n      <th>10471</th>\n      <td>https://www.rightmove.co.uk/properties/1329067...</td>\n      <td>New Street, Meltham, Holmfirth HD9 5NT</td>\n      <td>End of Terrace</td>\n      <td>3</td>\n      <td>NaN</td>\n      <td>NaN</td>\n      <td>Freehold</td>\n      <td>2.5 miles</td>\n      <td>155000</td>\n    </tr>\n    <tr>\n      <th>10472</th>\n      <td>https://www.rightmove.co.uk/properties/1291774...</td>\n      <td>Copley Avenue, Meltham, Holmfirth HD9 5LS</td>\n      <td>Terraced</td>\n      <td>3</td>\n      <td>NaN</td>\n      <td>NaN</td>\n      <td>Freehold</td>\n      <td>2.2 miles</td>\n      <td>155000</td>\n    </tr>\n  </tbody>\n</table>\n<p>947 rows × 9 columns</p>\n</div>"
     },
     "execution_count": 1459,
     "metadata": {},
     "output_type": "execute_result"
    }
   ],
   "source": [
    "# Look at the rows where bathrooms is null\n",
    "properties[properties['bathrooms'].isnull()]"
   ],
   "metadata": {
    "collapsed": false
   }
  },
  {
   "cell_type": "code",
   "execution_count": 1460,
   "outputs": [],
   "source": [
    "# Assumption made that all properties will have at least one bathroom so fill nulls with a value of 1\n",
    "# After handling the data whilst changing this, it produced results that don't seem correct\n",
    "# Will not replace the rows where the value for bathrooms is null with 1 anymore\n",
    "# properties['bathrooms'].fillna('×1', inplace=True)"
   ],
   "metadata": {
    "collapsed": false
   }
  },
  {
   "cell_type": "code",
   "execution_count": 1461,
   "outputs": [
    {
     "name": "stderr",
     "output_type": "stream",
     "text": [
      "C:\\Users\\haide\\anaconda3\\lib\\site-packages\\pandas\\util\\_decorators.py:311: SettingWithCopyWarning: \n",
      "A value is trying to be set on a copy of a slice from a DataFrame\n",
      "\n",
      "See the caveats in the documentation: https://pandas.pydata.org/pandas-docs/stable/user_guide/indexing.html#returning-a-view-versus-a-copy\n",
      "  return func(*args, **kwargs)\n"
     ]
    }
   ],
   "source": [
    "# I don't believe there is a way I can confidently impute the number of bathrooms a property will have so I will drop the rows which have a null value for bathrooms\n",
    "properties.dropna(\n",
    "    axis = 0,\n",
    "    how = 'any',\n",
    "    subset = ['bathrooms'],\n",
    "    inplace = True\n",
    ")"
   ],
   "metadata": {
    "collapsed": false
   }
  },
  {
   "cell_type": "code",
   "execution_count": 1462,
   "outputs": [
    {
     "data": {
      "text/plain": "                 null  percent\nsize_sq_ft       8694   92.127\nurl                 0    0.000\naddress             0    0.000\nproperty_type       0    0.000\nbedrooms            0    0.000\nbathrooms           0    0.000\ntenure              0    0.000\nnearest_station     0    0.000\nprice               0    0.000",
      "text/html": "<div>\n<style scoped>\n    .dataframe tbody tr th:only-of-type {\n        vertical-align: middle;\n    }\n\n    .dataframe tbody tr th {\n        vertical-align: top;\n    }\n\n    .dataframe thead th {\n        text-align: right;\n    }\n</style>\n<table border=\"1\" class=\"dataframe\">\n  <thead>\n    <tr style=\"text-align: right;\">\n      <th></th>\n      <th>null</th>\n      <th>percent</th>\n    </tr>\n  </thead>\n  <tbody>\n    <tr>\n      <th>size_sq_ft</th>\n      <td>8694</td>\n      <td>92.127</td>\n    </tr>\n    <tr>\n      <th>url</th>\n      <td>0</td>\n      <td>0.000</td>\n    </tr>\n    <tr>\n      <th>address</th>\n      <td>0</td>\n      <td>0.000</td>\n    </tr>\n    <tr>\n      <th>property_type</th>\n      <td>0</td>\n      <td>0.000</td>\n    </tr>\n    <tr>\n      <th>bedrooms</th>\n      <td>0</td>\n      <td>0.000</td>\n    </tr>\n    <tr>\n      <th>bathrooms</th>\n      <td>0</td>\n      <td>0.000</td>\n    </tr>\n    <tr>\n      <th>tenure</th>\n      <td>0</td>\n      <td>0.000</td>\n    </tr>\n    <tr>\n      <th>nearest_station</th>\n      <td>0</td>\n      <td>0.000</td>\n    </tr>\n    <tr>\n      <th>price</th>\n      <td>0</td>\n      <td>0.000</td>\n    </tr>\n  </tbody>\n</table>\n</div>"
     },
     "execution_count": 1462,
     "metadata": {},
     "output_type": "execute_result"
    }
   ],
   "source": [
    "# Check for nulls\n",
    "null_vals(properties)"
   ],
   "metadata": {
    "collapsed": false
   }
  },
  {
   "cell_type": "code",
   "execution_count": 1463,
   "outputs": [
    {
     "name": "stderr",
     "output_type": "stream",
     "text": [
      "C:\\Users\\haide\\AppData\\Local\\Temp/ipykernel_68452/4124309760.py:2: SettingWithCopyWarning: \n",
      "A value is trying to be set on a copy of a slice from a DataFrame.\n",
      "Try using .loc[row_indexer,col_indexer] = value instead\n",
      "\n",
      "See the caveats in the documentation: https://pandas.pydata.org/pandas-docs/stable/user_guide/indexing.html#returning-a-view-versus-a-copy\n",
      "  properties['bathrooms'] = properties['bathrooms'].str.replace('×','')\n"
     ]
    }
   ],
   "source": [
    "# Removing x symbol from the column\n",
    "properties['bathrooms'] = properties['bathrooms'].str.replace('×','')"
   ],
   "metadata": {
    "collapsed": false
   }
  },
  {
   "cell_type": "code",
   "execution_count": 1464,
   "outputs": [
    {
     "name": "stderr",
     "output_type": "stream",
     "text": [
      "C:\\Users\\haide\\AppData\\Local\\Temp/ipykernel_68452/1661169606.py:2: SettingWithCopyWarning: \n",
      "A value is trying to be set on a copy of a slice from a DataFrame.\n",
      "Try using .loc[row_indexer,col_indexer] = value instead\n",
      "\n",
      "See the caveats in the documentation: https://pandas.pydata.org/pandas-docs/stable/user_guide/indexing.html#returning-a-view-versus-a-copy\n",
      "  properties['bathrooms'] = properties['bathrooms'].astype('int')\n"
     ]
    }
   ],
   "source": [
    "# Change the type of this column to an integer\n",
    "properties['bathrooms'] = properties['bathrooms'].astype('int')"
   ],
   "metadata": {
    "collapsed": false
   }
  },
  {
   "cell_type": "code",
   "execution_count": 1465,
   "outputs": [
    {
     "name": "stderr",
     "output_type": "stream",
     "text": [
      "C:\\Users\\haide\\AppData\\Local\\Temp/ipykernel_68452/1915993214.py:2: SettingWithCopyWarning: \n",
      "A value is trying to be set on a copy of a slice from a DataFrame.\n",
      "Try using .loc[row_indexer,col_indexer] = value instead\n",
      "\n",
      "See the caveats in the documentation: https://pandas.pydata.org/pandas-docs/stable/user_guide/indexing.html#returning-a-view-versus-a-copy\n",
      "  properties['nearest_station'] = properties['nearest_station'].str.replace(' miles','')\n"
     ]
    }
   ],
   "source": [
    "# Removing ' miles' symbol from the nearest station column\n",
    "properties['nearest_station'] = properties['nearest_station'].str.replace(' miles','')"
   ],
   "metadata": {
    "collapsed": false
   }
  },
  {
   "cell_type": "code",
   "execution_count": 1466,
   "outputs": [
    {
     "name": "stderr",
     "output_type": "stream",
     "text": [
      "C:\\Users\\haide\\AppData\\Local\\Temp/ipykernel_68452/456575014.py:2: SettingWithCopyWarning: \n",
      "A value is trying to be set on a copy of a slice from a DataFrame.\n",
      "Try using .loc[row_indexer,col_indexer] = value instead\n",
      "\n",
      "See the caveats in the documentation: https://pandas.pydata.org/pandas-docs/stable/user_guide/indexing.html#returning-a-view-versus-a-copy\n",
      "  properties['nearest_station'] = properties['nearest_station'].astype('float')\n"
     ]
    }
   ],
   "source": [
    "# Change the type of this column to a float\n",
    "properties['nearest_station'] = properties['nearest_station'].astype('float')"
   ],
   "metadata": {
    "collapsed": false
   }
  },
  {
   "cell_type": "code",
   "execution_count": 1467,
   "outputs": [
    {
     "data": {
      "text/plain": "                 null  percent\nsize_sq_ft       8694   92.127\nurl                 0    0.000\naddress             0    0.000\nproperty_type       0    0.000\nbedrooms            0    0.000\nbathrooms           0    0.000\ntenure              0    0.000\nnearest_station     0    0.000\nprice               0    0.000",
      "text/html": "<div>\n<style scoped>\n    .dataframe tbody tr th:only-of-type {\n        vertical-align: middle;\n    }\n\n    .dataframe tbody tr th {\n        vertical-align: top;\n    }\n\n    .dataframe thead th {\n        text-align: right;\n    }\n</style>\n<table border=\"1\" class=\"dataframe\">\n  <thead>\n    <tr style=\"text-align: right;\">\n      <th></th>\n      <th>null</th>\n      <th>percent</th>\n    </tr>\n  </thead>\n  <tbody>\n    <tr>\n      <th>size_sq_ft</th>\n      <td>8694</td>\n      <td>92.127</td>\n    </tr>\n    <tr>\n      <th>url</th>\n      <td>0</td>\n      <td>0.000</td>\n    </tr>\n    <tr>\n      <th>address</th>\n      <td>0</td>\n      <td>0.000</td>\n    </tr>\n    <tr>\n      <th>property_type</th>\n      <td>0</td>\n      <td>0.000</td>\n    </tr>\n    <tr>\n      <th>bedrooms</th>\n      <td>0</td>\n      <td>0.000</td>\n    </tr>\n    <tr>\n      <th>bathrooms</th>\n      <td>0</td>\n      <td>0.000</td>\n    </tr>\n    <tr>\n      <th>tenure</th>\n      <td>0</td>\n      <td>0.000</td>\n    </tr>\n    <tr>\n      <th>nearest_station</th>\n      <td>0</td>\n      <td>0.000</td>\n    </tr>\n    <tr>\n      <th>price</th>\n      <td>0</td>\n      <td>0.000</td>\n    </tr>\n  </tbody>\n</table>\n</div>"
     },
     "execution_count": 1467,
     "metadata": {},
     "output_type": "execute_result"
    }
   ],
   "source": [
    "# Check nulls for size_sq_ft\n",
    "null_vals(properties)"
   ],
   "metadata": {
    "collapsed": false
   }
  },
  {
   "cell_type": "code",
   "execution_count": 1468,
   "outputs": [
    {
     "name": "stderr",
     "output_type": "stream",
     "text": [
      "C:\\Users\\haide\\anaconda3\\lib\\site-packages\\pandas\\core\\frame.py:4906: SettingWithCopyWarning: \n",
      "A value is trying to be set on a copy of a slice from a DataFrame\n",
      "\n",
      "See the caveats in the documentation: https://pandas.pydata.org/pandas-docs/stable/user_guide/indexing.html#returning-a-view-versus-a-copy\n",
      "  return super().drop(\n"
     ]
    }
   ],
   "source": [
    "# Considered handling the size_sq_ft column but it has a very high % of nulls - around 90% of the data\n",
    "# No way to impute this value for rows with a null\n",
    "# Drop size_sq_ft column (high percentage of nulls)\n",
    "properties.drop(columns=['size_sq_ft'], inplace=True)"
   ],
   "metadata": {
    "collapsed": false
   }
  },
  {
   "cell_type": "code",
   "execution_count": 1469,
   "outputs": [
    {
     "name": "stdout",
     "output_type": "stream",
     "text": [
      "<class 'pandas.core.frame.DataFrame'>\n",
      "Int64Index: 9437 entries, 0 to 10478\n",
      "Data columns (total 8 columns):\n",
      " #   Column           Non-Null Count  Dtype  \n",
      "---  ------           --------------  -----  \n",
      " 0   url              9437 non-null   object \n",
      " 1   address          9437 non-null   object \n",
      " 2   property_type    9437 non-null   object \n",
      " 3   bedrooms         9437 non-null   int32  \n",
      " 4   bathrooms        9437 non-null   int32  \n",
      " 5   tenure           9437 non-null   object \n",
      " 6   nearest_station  9437 non-null   float64\n",
      " 7   price            9437 non-null   int32  \n",
      "dtypes: float64(1), int32(3), object(4)\n",
      "memory usage: 552.9+ KB\n"
     ]
    }
   ],
   "source": [
    "# Check the types and number of nulls per column now\n",
    "# Check if the types have changed and there are no nulls in the data\n",
    "properties.info()"
   ],
   "metadata": {
    "collapsed": false
   }
  },
  {
   "cell_type": "code",
   "execution_count": 1470,
   "outputs": [
    {
     "data": {
      "text/plain": "                 null  percent\nurl                 0      0.0\naddress             0      0.0\nproperty_type       0      0.0\nbedrooms            0      0.0\nbathrooms           0      0.0\ntenure              0      0.0\nnearest_station     0      0.0\nprice               0      0.0",
      "text/html": "<div>\n<style scoped>\n    .dataframe tbody tr th:only-of-type {\n        vertical-align: middle;\n    }\n\n    .dataframe tbody tr th {\n        vertical-align: top;\n    }\n\n    .dataframe thead th {\n        text-align: right;\n    }\n</style>\n<table border=\"1\" class=\"dataframe\">\n  <thead>\n    <tr style=\"text-align: right;\">\n      <th></th>\n      <th>null</th>\n      <th>percent</th>\n    </tr>\n  </thead>\n  <tbody>\n    <tr>\n      <th>url</th>\n      <td>0</td>\n      <td>0.0</td>\n    </tr>\n    <tr>\n      <th>address</th>\n      <td>0</td>\n      <td>0.0</td>\n    </tr>\n    <tr>\n      <th>property_type</th>\n      <td>0</td>\n      <td>0.0</td>\n    </tr>\n    <tr>\n      <th>bedrooms</th>\n      <td>0</td>\n      <td>0.0</td>\n    </tr>\n    <tr>\n      <th>bathrooms</th>\n      <td>0</td>\n      <td>0.0</td>\n    </tr>\n    <tr>\n      <th>tenure</th>\n      <td>0</td>\n      <td>0.0</td>\n    </tr>\n    <tr>\n      <th>nearest_station</th>\n      <td>0</td>\n      <td>0.0</td>\n    </tr>\n    <tr>\n      <th>price</th>\n      <td>0</td>\n      <td>0.0</td>\n    </tr>\n  </tbody>\n</table>\n</div>"
     },
     "execution_count": 1470,
     "metadata": {},
     "output_type": "execute_result"
    }
   ],
   "source": [
    "# No nulls in the data\n",
    "null_vals(properties)"
   ],
   "metadata": {
    "collapsed": false
   }
  },
  {
   "cell_type": "code",
   "execution_count": 1471,
   "outputs": [
    {
     "data": {
      "text/plain": "                                                 url  \\\n0  https://www.rightmove.co.uk/properties/1319880...   \n1  https://www.rightmove.co.uk/properties/1272674...   \n2  https://www.rightmove.co.uk/properties/1325839...   \n3  https://www.rightmove.co.uk/properties/1325839...   \n4  https://www.rightmove.co.uk/properties/1325839...   \n\n                                             address property_type  bedrooms  \\\n0  The Quays, 3 Concordia Street, Leeds, West Yor...     Apartment         1   \n1         Grade II Apartments, Alexander Street, LS1     Apartment         3   \n2                        LS1 Buy to Let Flats, Leeds     Apartment         2   \n3                        LS1 Buy to Let Flats, Leeds     Apartment         2   \n4                        LS1 Buy to Let Flats, Leeds     Apartment         2   \n\n   bathrooms     tenure  nearest_station   price  \n0          1  Leasehold              0.1  180000  \n1          3  Ask agent              0.5  741175  \n2          2  Leasehold              0.3  449995  \n3          2  Leasehold              0.3  425000  \n4          2  Leasehold              0.3  424995  ",
      "text/html": "<div>\n<style scoped>\n    .dataframe tbody tr th:only-of-type {\n        vertical-align: middle;\n    }\n\n    .dataframe tbody tr th {\n        vertical-align: top;\n    }\n\n    .dataframe thead th {\n        text-align: right;\n    }\n</style>\n<table border=\"1\" class=\"dataframe\">\n  <thead>\n    <tr style=\"text-align: right;\">\n      <th></th>\n      <th>url</th>\n      <th>address</th>\n      <th>property_type</th>\n      <th>bedrooms</th>\n      <th>bathrooms</th>\n      <th>tenure</th>\n      <th>nearest_station</th>\n      <th>price</th>\n    </tr>\n  </thead>\n  <tbody>\n    <tr>\n      <th>0</th>\n      <td>https://www.rightmove.co.uk/properties/1319880...</td>\n      <td>The Quays, 3 Concordia Street, Leeds, West Yor...</td>\n      <td>Apartment</td>\n      <td>1</td>\n      <td>1</td>\n      <td>Leasehold</td>\n      <td>0.1</td>\n      <td>180000</td>\n    </tr>\n    <tr>\n      <th>1</th>\n      <td>https://www.rightmove.co.uk/properties/1272674...</td>\n      <td>Grade II Apartments, Alexander Street, LS1</td>\n      <td>Apartment</td>\n      <td>3</td>\n      <td>3</td>\n      <td>Ask agent</td>\n      <td>0.5</td>\n      <td>741175</td>\n    </tr>\n    <tr>\n      <th>2</th>\n      <td>https://www.rightmove.co.uk/properties/1325839...</td>\n      <td>LS1 Buy to Let Flats, Leeds</td>\n      <td>Apartment</td>\n      <td>2</td>\n      <td>2</td>\n      <td>Leasehold</td>\n      <td>0.3</td>\n      <td>449995</td>\n    </tr>\n    <tr>\n      <th>3</th>\n      <td>https://www.rightmove.co.uk/properties/1325839...</td>\n      <td>LS1 Buy to Let Flats, Leeds</td>\n      <td>Apartment</td>\n      <td>2</td>\n      <td>2</td>\n      <td>Leasehold</td>\n      <td>0.3</td>\n      <td>425000</td>\n    </tr>\n    <tr>\n      <th>4</th>\n      <td>https://www.rightmove.co.uk/properties/1325839...</td>\n      <td>LS1 Buy to Let Flats, Leeds</td>\n      <td>Apartment</td>\n      <td>2</td>\n      <td>2</td>\n      <td>Leasehold</td>\n      <td>0.3</td>\n      <td>424995</td>\n    </tr>\n  </tbody>\n</table>\n</div>"
     },
     "execution_count": 1471,
     "metadata": {},
     "output_type": "execute_result"
    }
   ],
   "source": [
    "# Observe the changes made\n",
    "properties.head()"
   ],
   "metadata": {
    "collapsed": false
   }
  },
  {
   "cell_type": "markdown",
   "source": [
    "# Looking at the bedrooms feature"
   ],
   "metadata": {
    "collapsed": false
   }
  },
  {
   "cell_type": "code",
   "execution_count": 1472,
   "outputs": [
    {
     "data": {
      "text/plain": "<Figure size 432x288 with 1 Axes>",
      "image/png": "[encoded data removed]"
     },
     "metadata": {},
     "output_type": "display_data"
    }
   ],
   "source": [
    "# Do a histogram plot for bedrooms\n",
    "sns.histplot(properties, x='bedrooms', binwidth=1)\n",
    "plt.show()"
   ],
   "metadata": {
    "collapsed": false
   }
  },
  {
   "cell_type": "code",
   "execution_count": 1473,
   "outputs": [
    {
     "data": {
      "text/plain": "<Figure size 432x288 with 1 Axes>",
      "image/png": "[encoded data removed]"
     },
     "metadata": {},
     "output_type": "display_data"
    }
   ],
   "source": [
    "# Do a box plot for bedrooms - Clear outliers of properties with more than 7 bedrooms\n",
    "sns.boxplot(data=properties, x='bedrooms')\n",
    "plt.show()"
   ],
   "metadata": {
    "collapsed": false
   }
  },
  {
   "cell_type": "code",
   "execution_count": 1474,
   "outputs": [],
   "source": [
    "# What does histogram look like when removing the outliers\n",
    "removebedroomoutlier = properties[properties['bedrooms'] <= 7]\n",
    "# Histogram plot again"
   ],
   "metadata": {
    "collapsed": false
   }
  },
  {
   "cell_type": "code",
   "execution_count": 1475,
   "outputs": [
    {
     "data": {
      "text/plain": "<Figure size 432x288 with 1 Axes>",
      "image/png": "[encoded data removed]"
     },
     "metadata": {},
     "output_type": "display_data"
    }
   ],
   "source": [
    "# Can see the majority of properties have between 1 and 6 bedrooms\n",
    "# Can see a near normal distribution of bedrooms\n",
    "sns.histplot(removebedroomoutlier, x='bedrooms', binwidth=1)\n",
    "plt.show()"
   ],
   "metadata": {
    "collapsed": false
   }
  },
  {
   "cell_type": "code",
   "execution_count": 1476,
   "outputs": [
    {
     "data": {
      "text/plain": "<Figure size 432x288 with 1 Axes>",
      "image/png": "[encoded data removed]"
     },
     "metadata": {},
     "output_type": "display_data"
    }
   ],
   "source": [
    "# Boxplot again with outlier removed\n",
    "# The IQR is between the LQ of 2 bedrooms and UQ of 4 bedrooms, with a median of 3 bedrooms\n",
    "sns.boxplot(data=removebedroomoutlier, x='bedrooms')\n",
    "plt.show()"
   ],
   "metadata": {
    "collapsed": false
   }
  },
  {
   "cell_type": "markdown",
   "source": [
    "# Looking at the bathrooms feature"
   ],
   "metadata": {
    "collapsed": false
   }
  },
  {
   "cell_type": "code",
   "execution_count": 1477,
   "outputs": [
    {
     "data": {
      "text/plain": "<Figure size 432x288 with 1 Axes>",
      "image/png": "[encoded data removed]"
     },
     "metadata": {},
     "output_type": "display_data"
    }
   ],
   "source": [
    "# Do a histogram plot for bathrooms\n",
    "# Presents a right skew, more than 2/3 the properties have 1-2 bathrooms, nearly a third have 3 bathrooms\n",
    "# May get the model to predict from 1-5 bathrooms\n",
    "sns.histplot(properties, x='bathrooms', binwidth=1)\n",
    "plt.show()"
   ],
   "metadata": {
    "collapsed": false
   }
  },
  {
   "cell_type": "code",
   "execution_count": 1478,
   "outputs": [
    {
     "data": {
      "text/plain": "<Figure size 432x288 with 1 Axes>",
      "image/png": "[encoded data removed]"
     },
     "metadata": {},
     "output_type": "display_data"
    }
   ],
   "source": [
    "# Do a box plot for bathrooms - Shows a lot of outliers above 3 bathrooms\n",
    "sns.boxplot(data=properties, x='bathrooms')\n",
    "plt.show()"
   ],
   "metadata": {
    "collapsed": false
   }
  },
  {
   "cell_type": "code",
   "execution_count": 1479,
   "outputs": [
    {
     "data": {
      "text/plain": "1     5682\n2     2700\n3      822\n4      162\n5       40\n6       15\n7        7\n8        4\n9        2\n12       1\n10       1\n11       1\nName: bathrooms, dtype: int64"
     },
     "execution_count": 1479,
     "metadata": {},
     "output_type": "execute_result"
    }
   ],
   "source": [
    "# Do a value count and see what number of properties have more than 3 bathrooms\n",
    "properties['bathrooms'].value_counts()\n",
    "# Hardly anyone has more than 3 bathrooms, need to make a decision about whether to remove these properties\n",
    "# 1-3 bathrooms accounts for around 98% of the data"
   ],
   "metadata": {
    "collapsed": false
   }
  },
  {
   "cell_type": "code",
   "execution_count": 1480,
   "outputs": [],
   "source": [
    "# What does histogram look like when removing the outliers\n",
    "removebathroommoutlier = properties[properties['bathrooms'] <= 4]\n",
    "# Histogram plot again"
   ],
   "metadata": {
    "collapsed": false
   }
  },
  {
   "cell_type": "code",
   "execution_count": 1481,
   "outputs": [
    {
     "data": {
      "text/plain": "<Figure size 432x288 with 1 Axes>",
      "image/png": "[encoded data removed]"
     },
     "metadata": {},
     "output_type": "display_data"
    }
   ],
   "source": [
    "# Do a box plot for bathrooms - Shows an outlier of a property with 4 bathrooms\n",
    "# Can see most properties have 1-3 bathrooms\n",
    "sns.boxplot(data=removebathroommoutlier, x='bathrooms')\n",
    "plt.show()"
   ],
   "metadata": {
    "collapsed": false
   }
  },
  {
   "cell_type": "code",
   "execution_count": 1482,
   "outputs": [
    {
     "data": {
      "text/plain": "1    5682\n2    2700\n3     822\n4     162\nName: bathrooms, dtype: int64"
     },
     "execution_count": 1482,
     "metadata": {},
     "output_type": "execute_result"
    }
   ],
   "source": [
    "# Do a value count and see what number of properties have more than 3 bathrooms\n",
    "# Very small amount\n",
    "# Will go with 1-3 bathrooms\n",
    "removebathroommoutlier['bathrooms'].value_counts()"
   ],
   "metadata": {
    "collapsed": false
   }
  },
  {
   "cell_type": "markdown",
   "source": [
    "# Looking at the nearest station feature (nearest train station)"
   ],
   "metadata": {
    "collapsed": false
   }
  },
  {
   "cell_type": "code",
   "execution_count": 1483,
   "outputs": [
    {
     "data": {
      "text/plain": "<Figure size 432x288 with 1 Axes>",
      "image/png": "[encoded data removed]"
     },
     "metadata": {},
     "output_type": "display_data"
    }
   ],
   "source": [
    "# Do a box plot for bathrooms - Shows a lot of outliers, let's look at this at a more granular level\n",
    "sns.boxplot(data=properties, x='nearest_station')\n",
    "plt.show()"
   ],
   "metadata": {
    "collapsed": false
   }
  },
  {
   "cell_type": "code",
   "execution_count": 1484,
   "outputs": [
    {
     "data": {
      "text/plain": "                                                     url  \\\n10266  https://www.rightmove.co.uk/properties/1302738...   \n\n                                                 address property_type  \\\n10266  The Park, Kirkburton, Huddersfield, West Yorks...     Apartment   \n\n       bedrooms  bathrooms     tenure  nearest_station  price  \n10266         1          1  Leasehold           3443.0  70000  ",
      "text/html": "<div>\n<style scoped>\n    .dataframe tbody tr th:only-of-type {\n        vertical-align: middle;\n    }\n\n    .dataframe tbody tr th {\n        vertical-align: top;\n    }\n\n    .dataframe thead th {\n        text-align: right;\n    }\n</style>\n<table border=\"1\" class=\"dataframe\">\n  <thead>\n    <tr style=\"text-align: right;\">\n      <th></th>\n      <th>url</th>\n      <th>address</th>\n      <th>property_type</th>\n      <th>bedrooms</th>\n      <th>bathrooms</th>\n      <th>tenure</th>\n      <th>nearest_station</th>\n      <th>price</th>\n    </tr>\n  </thead>\n  <tbody>\n    <tr>\n      <th>10266</th>\n      <td>https://www.rightmove.co.uk/properties/1302738...</td>\n      <td>The Park, Kirkburton, Huddersfield, West Yorks...</td>\n      <td>Apartment</td>\n      <td>1</td>\n      <td>1</td>\n      <td>Leasehold</td>\n      <td>3443.0</td>\n      <td>70000</td>\n    </tr>\n  </tbody>\n</table>\n</div>"
     },
     "execution_count": 1484,
     "metadata": {},
     "output_type": "execute_result"
    }
   ],
   "source": [
    "# One outlier it seems that is way out of scale, extremely high distant to the nearest station\n",
    "properties[properties['nearest_station'] > 3000]"
   ],
   "metadata": {
    "collapsed": false
   }
  },
  {
   "cell_type": "code",
   "execution_count": 1485,
   "outputs": [],
   "source": [
    "# What does boxplot look like when removing the outlier (Will remove outliers at the end)\n",
    "removesstationoutlier = properties[properties['nearest_station'] < 3000]\n",
    "# Boxplot plot again"
   ],
   "metadata": {
    "collapsed": false
   }
  },
  {
   "cell_type": "code",
   "execution_count": 1486,
   "outputs": [
    {
     "data": {
      "text/plain": "<Figure size 432x288 with 1 Axes>",
      "image/png": "[encoded data removed]"
     },
     "metadata": {},
     "output_type": "display_data"
    }
   ],
   "source": [
    "# There are more distant rail stations, this won't be the case in West Yorkshire\n",
    "sns.boxplot(data=removesstationoutlier, x='nearest_station')\n",
    "plt.show()"
   ],
   "metadata": {
    "collapsed": false
   }
  },
  {
   "cell_type": "code",
   "execution_count": 1487,
   "outputs": [],
   "source": [
    "# Remove outliers further\n",
    "removesstationoutlier = removesstationoutlier[removesstationoutlier['nearest_station'] < 17.5]"
   ],
   "metadata": {
    "collapsed": false
   }
  },
  {
   "cell_type": "code",
   "execution_count": 1488,
   "outputs": [
    {
     "data": {
      "text/plain": "<Figure size 432x288 with 1 Axes>",
      "image/png": "[encoded data removed]"
     },
     "metadata": {},
     "output_type": "display_data"
    }
   ],
   "source": [
    "# There are more distant rail stations, this won't be the case in West Yorkshire\n",
    "sns.boxplot(data=removesstationoutlier, x='nearest_station')\n",
    "plt.show()\n",
    "# Looking at this box plot it may be a good idea to remove rows which have a distance of less than 12 miles to the nearest train station\n",
    "# i.e. classing any property with a distance more than 17.5 miles from a train station as an outlier"
   ],
   "metadata": {
    "collapsed": false
   }
  },
  {
   "cell_type": "code",
   "execution_count": 1489,
   "outputs": [],
   "source": [
    "# Remove outliers completely\n",
    "removesstationoutlier = removesstationoutlier[removesstationoutlier['nearest_station'] <= 4]"
   ],
   "metadata": {
    "collapsed": false
   }
  },
  {
   "cell_type": "code",
   "execution_count": 1490,
   "outputs": [
    {
     "data": {
      "text/plain": "<Figure size 432x288 with 1 Axes>",
      "image/png": "[encoded data removed]"
     },
     "metadata": {},
     "output_type": "display_data"
    }
   ],
   "source": [
    "# There are more distant rail stations, this won't be the case in West Yorkshire\n",
    "sns.boxplot(data=removesstationoutlier, x='nearest_station')\n",
    "plt.show()"
   ],
   "metadata": {
    "collapsed": false
   }
  },
  {
   "cell_type": "markdown",
   "source": [
    "# Looking at the price feature"
   ],
   "metadata": {
    "collapsed": false
   }
  },
  {
   "cell_type": "code",
   "execution_count": 1491,
   "outputs": [
    {
     "data": {
      "text/plain": "<Figure size 432x288 with 1 Axes>",
      "image/png": "[encoded data removed]"
     },
     "metadata": {},
     "output_type": "display_data"
    }
   ],
   "source": [
    "# Do a box plot for price\n",
    "sns.boxplot(data=properties, x='price')\n",
    "plt.show()"
   ],
   "metadata": {
    "collapsed": false
   }
  },
  {
   "cell_type": "code",
   "execution_count": 1492,
   "outputs": [
    {
     "data": {
      "text/plain": "                                                     url  \\\n271    https://www.rightmove.co.uk/properties/1280839...   \n272    https://www.rightmove.co.uk/properties/8591946...   \n474    https://www.rightmove.co.uk/properties/1302825...   \n475    https://www.rightmove.co.uk/properties/1317840...   \n902    https://www.rightmove.co.uk/properties/1129282...   \n...                                                  ...   \n10272  https://www.rightmove.co.uk/properties/1275544...   \n10273  https://www.rightmove.co.uk/properties/1232333...   \n10274  https://www.rightmove.co.uk/properties/1214078...   \n10275  https://www.rightmove.co.uk/properties/1327531...   \n10276  https://www.rightmove.co.uk/properties/1324379...   \n\n                                                 address  property_type  \\\n271                               Headingley Lane, Leeds  Semi-Detached   \n272                Hyde Park Road, Leeds, West Yorkshire      Apartment   \n474       Old Park Road, Roundhay, Leeds, West Yorkshire       Detached   \n475                    Wedgewood Drive, Roundhay , Leeds       Detached   \n902    SKY GARDENS, Silver Street, Water Lane, Leeds,...           Flat   \n...                                                  ...            ...   \n10272                           Westgate, Holmfirth, HD9  Country House   \n10273  Knowle Top, Wood Nook Between Honley And Melth...       Detached   \n10274                            Heys Road, Thongsbridge       Detached   \n10275                              Binns Lane, Holmfirth       Detached   \n10276        Coldhill Lane, New Mill, Holmfirth, HD9 7JX       Detached   \n\n       bedrooms  bathrooms     tenure  nearest_station    price  \n271          12         12   Freehold              0.5  1175000  \n272          11          1   Freehold              0.6  1050000  \n474           7          3   Freehold              3.2  1600000  \n475           6          2   Freehold              3.3  1350000  \n902          10          1  Ask agent              0.4  1837700  \n...         ...        ...        ...              ...      ...  \n10272         4          2   Freehold              0.6  1300000  \n10273         4          2   Freehold              2.3  1295000  \n10274         4          4   Freehold              1.1  1200000  \n10275         5          2   Freehold              2.1  1150000  \n10276         5          5   Freehold              1.4  1150000  \n\n[138 rows x 8 columns]",
      "text/html": "<div>\n<style scoped>\n    .dataframe tbody tr th:only-of-type {\n        vertical-align: middle;\n    }\n\n    .dataframe tbody tr th {\n        vertical-align: top;\n    }\n\n    .dataframe thead th {\n        text-align: right;\n    }\n</style>\n<table border=\"1\" class=\"dataframe\">\n  <thead>\n    <tr style=\"text-align: right;\">\n      <th></th>\n      <th>url</th>\n      <th>address</th>\n      <th>property_type</th>\n      <th>bedrooms</th>\n      <th>bathrooms</th>\n      <th>tenure</th>\n      <th>nearest_station</th>\n      <th>price</th>\n    </tr>\n  </thead>\n  <tbody>\n    <tr>\n      <th>271</th>\n      <td>https://www.rightmove.co.uk/properties/1280839...</td>\n      <td>Headingley Lane, Leeds</td>\n      <td>Semi-Detached</td>\n      <td>12</td>\n      <td>12</td>\n      <td>Freehold</td>\n      <td>0.5</td>\n      <td>1175000</td>\n    </tr>\n    <tr>\n      <th>272</th>\n      <td>https://www.rightmove.co.uk/properties/8591946...</td>\n      <td>Hyde Park Road, Leeds, West Yorkshire</td>\n      <td>Apartment</td>\n      <td>11</td>\n      <td>1</td>\n      <td>Freehold</td>\n      <td>0.6</td>\n      <td>1050000</td>\n    </tr>\n    <tr>\n      <th>474</th>\n      <td>https://www.rightmove.co.uk/properties/1302825...</td>\n      <td>Old Park Road, Roundhay, Leeds, West Yorkshire</td>\n      <td>Detached</td>\n      <td>7</td>\n      <td>3</td>\n      <td>Freehold</td>\n      <td>3.2</td>\n      <td>1600000</td>\n    </tr>\n    <tr>\n      <th>475</th>\n      <td>https://www.rightmove.co.uk/properties/1317840...</td>\n      <td>Wedgewood Drive, Roundhay , Leeds</td>\n      <td>Detached</td>\n      <td>6</td>\n      <td>2</td>\n      <td>Freehold</td>\n      <td>3.3</td>\n      <td>1350000</td>\n    </tr>\n    <tr>\n      <th>902</th>\n      <td>https://www.rightmove.co.uk/properties/1129282...</td>\n      <td>SKY GARDENS, Silver Street, Water Lane, Leeds,...</td>\n      <td>Flat</td>\n      <td>10</td>\n      <td>1</td>\n      <td>Ask agent</td>\n      <td>0.4</td>\n      <td>1837700</td>\n    </tr>\n    <tr>\n      <th>...</th>\n      <td>...</td>\n      <td>...</td>\n      <td>...</td>\n      <td>...</td>\n      <td>...</td>\n      <td>...</td>\n      <td>...</td>\n      <td>...</td>\n    </tr>\n    <tr>\n      <th>10272</th>\n      <td>https://www.rightmove.co.uk/properties/1275544...</td>\n      <td>Westgate, Holmfirth, HD9</td>\n      <td>Country House</td>\n      <td>4</td>\n      <td>2</td>\n      <td>Freehold</td>\n      <td>0.6</td>\n      <td>1300000</td>\n    </tr>\n    <tr>\n      <th>10273</th>\n      <td>https://www.rightmove.co.uk/properties/1232333...</td>\n      <td>Knowle Top, Wood Nook Between Honley And Melth...</td>\n      <td>Detached</td>\n      <td>4</td>\n      <td>2</td>\n      <td>Freehold</td>\n      <td>2.3</td>\n      <td>1295000</td>\n    </tr>\n    <tr>\n      <th>10274</th>\n      <td>https://www.rightmove.co.uk/properties/1214078...</td>\n      <td>Heys Road, Thongsbridge</td>\n      <td>Detached</td>\n      <td>4</td>\n      <td>4</td>\n      <td>Freehold</td>\n      <td>1.1</td>\n      <td>1200000</td>\n    </tr>\n    <tr>\n      <th>10275</th>\n      <td>https://www.rightmove.co.uk/properties/1327531...</td>\n      <td>Binns Lane, Holmfirth</td>\n      <td>Detached</td>\n      <td>5</td>\n      <td>2</td>\n      <td>Freehold</td>\n      <td>2.1</td>\n      <td>1150000</td>\n    </tr>\n    <tr>\n      <th>10276</th>\n      <td>https://www.rightmove.co.uk/properties/1324379...</td>\n      <td>Coldhill Lane, New Mill, Holmfirth, HD9 7JX</td>\n      <td>Detached</td>\n      <td>5</td>\n      <td>5</td>\n      <td>Freehold</td>\n      <td>1.4</td>\n      <td>1150000</td>\n    </tr>\n  </tbody>\n</table>\n<p>138 rows × 8 columns</p>\n</div>"
     },
     "execution_count": 1492,
     "metadata": {},
     "output_type": "execute_result"
    }
   ],
   "source": [
    "# Can see there are 145 properties with a value equal or well over 1 million\n",
    "properties[properties['price'] >= 1000000]"
   ],
   "metadata": {
    "collapsed": false
   }
  },
  {
   "cell_type": "code",
   "execution_count": 1493,
   "outputs": [],
   "source": [
    "# Look at the boxplot with rows removed with a value greater than 1000000\n",
    "removepriceoutlier = properties[properties['price'] < 1000000]"
   ],
   "metadata": {
    "collapsed": false
   }
  },
  {
   "cell_type": "code",
   "execution_count": 1494,
   "outputs": [
    {
     "data": {
      "text/plain": "<Figure size 432x288 with 1 Axes>",
      "image/png": "[encoded data removed]"
     },
     "metadata": {},
     "output_type": "display_data"
    }
   ],
   "source": [
    "# Do a box plot for price\n",
    "sns.boxplot(data=removepriceoutlier, x='price')\n",
    "plt.show()"
   ],
   "metadata": {
    "collapsed": false
   }
  },
  {
   "cell_type": "code",
   "execution_count": 1495,
   "outputs": [],
   "source": [
    "# Look at the boxplot with rows removed with a value greater than 575000\n",
    "removepriceoutlier = properties[properties['price'] < 575000]"
   ],
   "metadata": {
    "collapsed": false
   }
  },
  {
   "cell_type": "code",
   "execution_count": 1496,
   "outputs": [
    {
     "data": {
      "text/plain": "<Figure size 432x288 with 1 Axes>",
      "image/png": "[encoded data removed]"
     },
     "metadata": {},
     "output_type": "display_data"
    }
   ],
   "source": [
    "# Do a box plot for price - prices with no outliers\n",
    "sns.boxplot(data=removepriceoutlier, x='price')\n",
    "plt.show()"
   ],
   "metadata": {
    "collapsed": false
   }
  },
  {
   "cell_type": "markdown",
   "source": [
    "# Let's look deeper into the numerical features (before outlier removal)"
   ],
   "metadata": {
    "collapsed": false
   }
  },
  {
   "cell_type": "code",
   "execution_count": 1497,
   "outputs": [
    {
     "data": {
      "text/plain": "          bedrooms    bathrooms  nearest_station         price\ncount  9437.000000  9437.000000      9437.000000  9.437000e+03\nmean      2.995655     1.549009         1.868835  3.010687e+05\nstd       1.167909     0.829625        35.476413  2.502477e+05\nmin       1.000000     1.000000         0.000000  5.000000e+03\n25%       2.000000     1.000000         0.600000  1.650000e+05\n50%       3.000000     1.000000         1.200000  2.450000e+05\n75%       4.000000     2.000000         2.000000  3.600000e+05\nmax      13.000000    12.000000      3443.000000  6.500000e+06",
      "text/html": "<div>\n<style scoped>\n    .dataframe tbody tr th:only-of-type {\n        vertical-align: middle;\n    }\n\n    .dataframe tbody tr th {\n        vertical-align: top;\n    }\n\n    .dataframe thead th {\n        text-align: right;\n    }\n</style>\n<table border=\"1\" class=\"dataframe\">\n  <thead>\n    <tr style=\"text-align: right;\">\n      <th></th>\n      <th>bedrooms</th>\n      <th>bathrooms</th>\n      <th>nearest_station</th>\n      <th>price</th>\n    </tr>\n  </thead>\n  <tbody>\n    <tr>\n      <th>count</th>\n      <td>9437.000000</td>\n      <td>9437.000000</td>\n      <td>9437.000000</td>\n      <td>9.437000e+03</td>\n    </tr>\n    <tr>\n      <th>mean</th>\n      <td>2.995655</td>\n      <td>1.549009</td>\n      <td>1.868835</td>\n      <td>3.010687e+05</td>\n    </tr>\n    <tr>\n      <th>std</th>\n      <td>1.167909</td>\n      <td>0.829625</td>\n      <td>35.476413</td>\n      <td>2.502477e+05</td>\n    </tr>\n    <tr>\n      <th>min</th>\n      <td>1.000000</td>\n      <td>1.000000</td>\n      <td>0.000000</td>\n      <td>5.000000e+03</td>\n    </tr>\n    <tr>\n      <th>25%</th>\n      <td>2.000000</td>\n      <td>1.000000</td>\n      <td>0.600000</td>\n      <td>1.650000e+05</td>\n    </tr>\n    <tr>\n      <th>50%</th>\n      <td>3.000000</td>\n      <td>1.000000</td>\n      <td>1.200000</td>\n      <td>2.450000e+05</td>\n    </tr>\n    <tr>\n      <th>75%</th>\n      <td>4.000000</td>\n      <td>2.000000</td>\n      <td>2.000000</td>\n      <td>3.600000e+05</td>\n    </tr>\n    <tr>\n      <th>max</th>\n      <td>13.000000</td>\n      <td>12.000000</td>\n      <td>3443.000000</td>\n      <td>6.500000e+06</td>\n    </tr>\n  </tbody>\n</table>\n</div>"
     },
     "execution_count": 1497,
     "metadata": {},
     "output_type": "execute_result"
    }
   ],
   "source": [
    "# Get further insight regarding each feature\n",
    "properties.describe()"
   ],
   "metadata": {
    "collapsed": false
   }
  },
  {
   "cell_type": "code",
   "execution_count": 1498,
   "outputs": [
    {
     "data": {
      "text/plain": "<Figure size 1080x720 with 2 Axes>",
      "image/png": "[encoded data removed]"
     },
     "metadata": {},
     "output_type": "display_data"
    }
   ],
   "source": [
    "# Plot a correlation heatmap\n",
    "plt.figure(figsize = (15, 10))\n",
    "sns.heatmap(properties.corr(), annot = True)\n",
    "plt.show()\n",
    "# Can see both price and bedroom have a strong positive correlation with the price but are also strong correlated hence there is multicollinearity between them\n",
    "# Strangely, bathrooms has a stronger correlation with price then bathrooms does"
   ],
   "metadata": {
    "collapsed": false
   }
  },
  {
   "cell_type": "code",
   "execution_count": 1499,
   "outputs": [
    {
     "data": {
      "text/plain": "<Figure size 432x288 with 1 Axes>",
      "image/png": "[encoded data removed]"
     },
     "metadata": {},
     "output_type": "display_data"
    }
   ],
   "source": [
    "# Plot a scatterplot of bedrooms against price with no outliers removed\n",
    "sns.scatterplot(x='price',\n",
    "                y = 'bedrooms',\n",
    "                data = properties)\n",
    "plt.show()"
   ],
   "metadata": {
    "collapsed": false
   }
  },
  {
   "cell_type": "code",
   "execution_count": 1500,
   "outputs": [
    {
     "data": {
      "text/plain": "<Figure size 432x288 with 1 Axes>",
      "image/png": "[encoded data removed]"
     },
     "metadata": {},
     "output_type": "display_data"
    }
   ],
   "source": [
    "# Plot a scatterplot of bathrooms against price with no outliers removed\n",
    "sns.scatterplot(x='price',\n",
    "                y = 'bathrooms',\n",
    "                data = properties)\n",
    "plt.show()"
   ],
   "metadata": {
    "collapsed": false
   }
  },
  {
   "cell_type": "markdown",
   "source": [
    "# Look at the data with outlier removal"
   ],
   "metadata": {
    "collapsed": false
   }
  },
  {
   "cell_type": "code",
   "execution_count": 1501,
   "outputs": [],
   "source": [
    "# Create a dataframe that removes outliers in the ways mentioned above then plot the same to correlation matrix and scatterplots\n",
    "removedoutliers = properties[(properties['price'] < 575000) & (properties['nearest_station'] <=4 ) & (properties['bedrooms'] <= 6) &(properties['bathrooms'] <= 3)]\n",
    "# No properties greater than 575000\n",
    "# No properties that have a station more than 4 miles away\n",
    "# No properties that have more than 6 bedrooms and more than 3 bathrooms"
   ],
   "metadata": {
    "collapsed": false
   }
  },
  {
   "cell_type": "code",
   "execution_count": 1502,
   "outputs": [
    {
     "data": {
      "text/plain": "<Figure size 1080x720 with 2 Axes>",
      "image/png": "[encoded data removed]"
     },
     "metadata": {},
     "output_type": "display_data"
    }
   ],
   "source": [
    "# Plot a correlation heatmap with specified outliers removed\n",
    "plt.figure(figsize = (15, 10))\n",
    "sns.heatmap(removedoutliers.corr(), annot = True)\n",
    "plt.show()"
   ],
   "metadata": {
    "collapsed": false
   }
  },
  {
   "cell_type": "code",
   "execution_count": 1503,
   "outputs": [
    {
     "data": {
      "text/plain": "<Figure size 432x288 with 1 Axes>",
      "image/png": "[encoded data removed]"
     },
     "metadata": {},
     "output_type": "display_data"
    }
   ],
   "source": [
    "# Plot a scatterplot of bedrooms against price with no outliers removed\n",
    "sns.scatterplot(x='price',\n",
    "                y = 'bedrooms',\n",
    "                data = removedoutliers)\n",
    "plt.show()"
   ],
   "metadata": {
    "collapsed": false
   }
  },
  {
   "cell_type": "code",
   "execution_count": 1504,
   "outputs": [
    {
     "data": {
      "text/plain": "<Figure size 432x288 with 1 Axes>",
      "image/png": "[encoded data removed]"
     },
     "metadata": {},
     "output_type": "display_data"
    }
   ],
   "source": [
    "# Plot a scatterplot of bedrooms against price with no outliers removed\n",
    "sns.scatterplot(x='price',\n",
    "                y = 'bathrooms',\n",
    "                data = removedoutliers)\n",
    "plt.show()"
   ],
   "metadata": {
    "collapsed": false
   }
  },
  {
   "cell_type": "markdown",
   "source": [
    "## Capping the following outliers decreases the correlation between bedrooms and price, whilst also decreasing the correlation between bathrooms and price"
   ],
   "metadata": {
    "collapsed": false
   }
  },
  {
   "cell_type": "markdown",
   "source": [
    "## Further boxing the data/model\n",
    "\n",
    "- I want this model to make predictions for the prices of Detached, Semi-detached and Terraced properties which are Freehold\n",
    "- Need to change the data to reflect this further\n",
    "- Furthermore, the location of the property currently can't be utilised by this model\n",
    "- I'm going to acquire all the postcode outcodes for each address so that they can be one hot encoded and carrying significance when training the model\n",
    "- The data means the model will make price predictions for properties with a value between £0-£575000, have a station 0 upto 4 miles away, have between 1 and 6 bedrooms and between 1 and 3 bathrooms"
   ],
   "metadata": {
    "collapsed": false
   }
  },
  {
   "cell_type": "code",
   "execution_count": 1505,
   "outputs": [
    {
     "data": {
      "text/plain": "                                                     url  \\\n110    https://www.rightmove.co.uk/properties/1315844...   \n120    https://www.rightmove.co.uk/properties/8604795...   \n175    https://www.rightmove.co.uk/properties/1326138...   \n198    https://www.rightmove.co.uk/properties/1311469...   \n199    https://www.rightmove.co.uk/properties/1322668...   \n...                                                  ...   \n10470  https://www.rightmove.co.uk/properties/1328121...   \n10474  https://www.rightmove.co.uk/properties/1328843...   \n10475  https://www.rightmove.co.uk/properties/1281187...   \n10476  https://www.rightmove.co.uk/properties/1328625...   \n10477  https://www.rightmove.co.uk/properties/1265926...   \n\n                                                 address  property_type  \\\n110                                  Queen Square, Leeds       Detached   \n120                  Archery Road, Leeds, West Yorkshire       Terraced   \n175                                Hanover Square, Leeds       Terraced   \n198                  Burley Wood Crescent, Burley, LEEDS       Terraced   \n199                    The Village Street, Burley, Leeds       Detached   \n...                                                  ...            ...   \n10470  Royds Avenue, New Mill, Holmfirth, West Yorksh...       Terraced   \n10474  Greenhill Bank Road, New Mill, Holmfirth, West...       Terraced   \n10475  Thick Hollins, Meltham, Holmfirth, West Yorksh...       Terraced   \n10476  Holmclose, Holmbridge, Holmfirth, West Yorkshi...  Semi-Detached   \n10477                France Hill, Honley, Holmfirth, HD9       Terraced   \n\n       bedrooms  bathrooms    tenure  nearest_station   price  \n110           5          2  Freehold              0.7  550000  \n120           5          1  Freehold              1.0  325000  \n175           6          3  Freehold              0.8  450000  \n198           3          1  Freehold              0.5  220000  \n199           5          2  Freehold              0.2  325000  \n...         ...        ...       ...              ...     ...  \n10470         3          1  Freehold              1.5  160000  \n10474         2          1  Freehold              1.6  150000  \n10475         2          1  Freehold              2.8  150000  \n10476         2          1  Freehold              3.4  150000  \n10477         2          1  Freehold              0.5  148000  \n\n[4562 rows x 8 columns]",
      "text/html": "<div>\n<style scoped>\n    .dataframe tbody tr th:only-of-type {\n        vertical-align: middle;\n    }\n\n    .dataframe tbody tr th {\n        vertical-align: top;\n    }\n\n    .dataframe thead th {\n        text-align: right;\n    }\n</style>\n<table border=\"1\" class=\"dataframe\">\n  <thead>\n    <tr style=\"text-align: right;\">\n      <th></th>\n      <th>url</th>\n      <th>address</th>\n      <th>property_type</th>\n      <th>bedrooms</th>\n      <th>bathrooms</th>\n      <th>tenure</th>\n      <th>nearest_station</th>\n      <th>price</th>\n    </tr>\n  </thead>\n  <tbody>\n    <tr>\n      <th>110</th>\n      <td>https://www.rightmove.co.uk/properties/1315844...</td>\n      <td>Queen Square, Leeds</td>\n      <td>Detached</td>\n      <td>5</td>\n      <td>2</td>\n      <td>Freehold</td>\n      <td>0.7</td>\n      <td>550000</td>\n    </tr>\n    <tr>\n      <th>120</th>\n      <td>https://www.rightmove.co.uk/properties/8604795...</td>\n      <td>Archery Road, Leeds, West Yorkshire</td>\n      <td>Terraced</td>\n      <td>5</td>\n      <td>1</td>\n      <td>Freehold</td>\n      <td>1.0</td>\n      <td>325000</td>\n    </tr>\n    <tr>\n      <th>175</th>\n      <td>https://www.rightmove.co.uk/properties/1326138...</td>\n      <td>Hanover Square, Leeds</td>\n      <td>Terraced</td>\n      <td>6</td>\n      <td>3</td>\n      <td>Freehold</td>\n      <td>0.8</td>\n      <td>450000</td>\n    </tr>\n    <tr>\n      <th>198</th>\n      <td>https://www.rightmove.co.uk/properties/1311469...</td>\n      <td>Burley Wood Crescent, Burley, LEEDS</td>\n      <td>Terraced</td>\n      <td>3</td>\n      <td>1</td>\n      <td>Freehold</td>\n      <td>0.5</td>\n      <td>220000</td>\n    </tr>\n    <tr>\n      <th>199</th>\n      <td>https://www.rightmove.co.uk/properties/1322668...</td>\n      <td>The Village Street, Burley, Leeds</td>\n      <td>Detached</td>\n      <td>5</td>\n      <td>2</td>\n      <td>Freehold</td>\n      <td>0.2</td>\n      <td>325000</td>\n    </tr>\n    <tr>\n      <th>...</th>\n      <td>...</td>\n      <td>...</td>\n      <td>...</td>\n      <td>...</td>\n      <td>...</td>\n      <td>...</td>\n      <td>...</td>\n      <td>...</td>\n    </tr>\n    <tr>\n      <th>10470</th>\n      <td>https://www.rightmove.co.uk/properties/1328121...</td>\n      <td>Royds Avenue, New Mill, Holmfirth, West Yorksh...</td>\n      <td>Terraced</td>\n      <td>3</td>\n      <td>1</td>\n      <td>Freehold</td>\n      <td>1.5</td>\n      <td>160000</td>\n    </tr>\n    <tr>\n      <th>10474</th>\n      <td>https://www.rightmove.co.uk/properties/1328843...</td>\n      <td>Greenhill Bank Road, New Mill, Holmfirth, West...</td>\n      <td>Terraced</td>\n      <td>2</td>\n      <td>1</td>\n      <td>Freehold</td>\n      <td>1.6</td>\n      <td>150000</td>\n    </tr>\n    <tr>\n      <th>10475</th>\n      <td>https://www.rightmove.co.uk/properties/1281187...</td>\n      <td>Thick Hollins, Meltham, Holmfirth, West Yorksh...</td>\n      <td>Terraced</td>\n      <td>2</td>\n      <td>1</td>\n      <td>Freehold</td>\n      <td>2.8</td>\n      <td>150000</td>\n    </tr>\n    <tr>\n      <th>10476</th>\n      <td>https://www.rightmove.co.uk/properties/1328625...</td>\n      <td>Holmclose, Holmbridge, Holmfirth, West Yorkshi...</td>\n      <td>Semi-Detached</td>\n      <td>2</td>\n      <td>1</td>\n      <td>Freehold</td>\n      <td>3.4</td>\n      <td>150000</td>\n    </tr>\n    <tr>\n      <th>10477</th>\n      <td>https://www.rightmove.co.uk/properties/1265926...</td>\n      <td>France Hill, Honley, Holmfirth, HD9</td>\n      <td>Terraced</td>\n      <td>2</td>\n      <td>1</td>\n      <td>Freehold</td>\n      <td>0.5</td>\n      <td>148000</td>\n    </tr>\n  </tbody>\n</table>\n<p>4562 rows × 8 columns</p>\n</div>"
     },
     "execution_count": 1505,
     "metadata": {},
     "output_type": "execute_result"
    }
   ],
   "source": [
    "properties2 = properties[properties['tenure'] == 'Freehold'] #Only freehold properties\n",
    "# Only Detached, Semi-Detached or Terraced\n",
    "properties2 = properties2[(properties2['property_type'] == 'Detached') | (properties2['property_type'] == 'Semi-Detached') | (properties2['property_type'] == 'Terraced')]\n",
    "# Removal of outliers\n",
    "properties2 = properties2[(properties2['price'] < 575000) & (properties2['nearest_station'] <=4 ) & (properties2['bedrooms'] <= 6) & (properties2['bathrooms'] <= 3)]\n",
    "properties2"
   ],
   "metadata": {
    "collapsed": false
   }
  },
  {
   "cell_type": "code",
   "execution_count": 1506,
   "outputs": [
    {
     "data": {
      "text/plain": "4562"
     },
     "execution_count": 1506,
     "metadata": {},
     "output_type": "execute_result"
    }
   ],
   "source": [
    "# The number of rows after cleaning and removal of outliers\n",
    "len(properties2)"
   ],
   "metadata": {
    "collapsed": false
   }
  },
  {
   "cell_type": "code",
   "execution_count": 1507,
   "outputs": [
    {
     "data": {
      "text/plain": "          bedrooms    bathrooms  nearest_station          price\ncount  4562.000000  4562.000000       4562.00000    4562.000000\nmean      3.181061     1.454187          1.37683  269313.568172\nstd       0.878554     0.640811          0.84642  115180.075669\nmin       1.000000     1.000000          0.00000   10000.000000\n25%       3.000000     1.000000          0.70000  180000.000000\n50%       3.000000     1.000000          1.20000  250000.000000\n75%       4.000000     2.000000          1.90000  350000.000000\nmax       6.000000     3.000000          4.00000  570000.000000",
      "text/html": "<div>\n<style scoped>\n    .dataframe tbody tr th:only-of-type {\n        vertical-align: middle;\n    }\n\n    .dataframe tbody tr th {\n        vertical-align: top;\n    }\n\n    .dataframe thead th {\n        text-align: right;\n    }\n</style>\n<table border=\"1\" class=\"dataframe\">\n  <thead>\n    <tr style=\"text-align: right;\">\n      <th></th>\n      <th>bedrooms</th>\n      <th>bathrooms</th>\n      <th>nearest_station</th>\n      <th>price</th>\n    </tr>\n  </thead>\n  <tbody>\n    <tr>\n      <th>count</th>\n      <td>4562.000000</td>\n      <td>4562.000000</td>\n      <td>4562.00000</td>\n      <td>4562.000000</td>\n    </tr>\n    <tr>\n      <th>mean</th>\n      <td>3.181061</td>\n      <td>1.454187</td>\n      <td>1.37683</td>\n      <td>269313.568172</td>\n    </tr>\n    <tr>\n      <th>std</th>\n      <td>0.878554</td>\n      <td>0.640811</td>\n      <td>0.84642</td>\n      <td>115180.075669</td>\n    </tr>\n    <tr>\n      <th>min</th>\n      <td>1.000000</td>\n      <td>1.000000</td>\n      <td>0.00000</td>\n      <td>10000.000000</td>\n    </tr>\n    <tr>\n      <th>25%</th>\n      <td>3.000000</td>\n      <td>1.000000</td>\n      <td>0.70000</td>\n      <td>180000.000000</td>\n    </tr>\n    <tr>\n      <th>50%</th>\n      <td>3.000000</td>\n      <td>1.000000</td>\n      <td>1.20000</td>\n      <td>250000.000000</td>\n    </tr>\n    <tr>\n      <th>75%</th>\n      <td>4.000000</td>\n      <td>2.000000</td>\n      <td>1.90000</td>\n      <td>350000.000000</td>\n    </tr>\n    <tr>\n      <th>max</th>\n      <td>6.000000</td>\n      <td>3.000000</td>\n      <td>4.00000</td>\n      <td>570000.000000</td>\n    </tr>\n  </tbody>\n</table>\n</div>"
     },
     "execution_count": 1507,
     "metadata": {},
     "output_type": "execute_result"
    }
   ],
   "source": [
    "# Do a describe on the data so far\n",
    "properties2.describe()"
   ],
   "metadata": {
    "collapsed": false
   }
  },
  {
   "cell_type": "code",
   "execution_count": 1508,
   "outputs": [
    {
     "data": {
      "text/plain": "<Figure size 1080x720 with 2 Axes>",
      "image/png": "[encoded data removed]"
     },
     "metadata": {},
     "output_type": "display_data"
    }
   ],
   "source": [
    "# Plot a correlation heatmap with specified outliers removed\n",
    "# Strong positive correlation between bedrooms and price\n",
    "# Also strong positive correlation bathroons and price\n",
    "# Very weak correlation between nearest_station and price, may not be worthwhile using for training the model\n",
    "plt.figure(figsize = (15, 10))\n",
    "sns.heatmap(properties2.corr(), annot = True)\n",
    "plt.show()"
   ],
   "metadata": {
    "collapsed": false
   }
  },
  {
   "cell_type": "code",
   "execution_count": 1509,
   "outputs": [
    {
     "data": {
      "text/plain": "<Figure size 432x288 with 1 Axes>",
      "image/png": "[encoded data removed]"
     },
     "metadata": {},
     "output_type": "display_data"
    }
   ],
   "source": [
    "# Do a box plot for price\n",
    "sns.boxplot(data=properties2, x='price')\n",
    "plt.show()"
   ],
   "metadata": {
    "collapsed": false
   }
  },
  {
   "cell_type": "code",
   "execution_count": 1510,
   "outputs": [
    {
     "data": {
      "text/plain": "<Figure size 432x288 with 1 Axes>",
      "image/png": "[encoded data removed]"
     },
     "metadata": {},
     "output_type": "display_data"
    }
   ],
   "source": [
    "# Do a box plot for bathrooms\n",
    "sns.boxplot(data=properties2, x='bathrooms')\n",
    "plt.show()"
   ],
   "metadata": {
    "collapsed": false
   }
  },
  {
   "cell_type": "code",
   "execution_count": 1511,
   "outputs": [
    {
     "data": {
      "text/plain": "<Figure size 432x288 with 1 Axes>",
      "image/png": "[encoded data removed]"
     },
     "metadata": {},
     "output_type": "display_data"
    }
   ],
   "source": [
    "# Do a box plot for bedrooms\n",
    "# There are outliers presented by the data but I do want the model to train from rows of data that have 1 or 6 bedrooms\n",
    "sns.boxplot(data=properties2, x='bedrooms')\n",
    "plt.show()"
   ],
   "metadata": {
    "collapsed": false
   }
  },
  {
   "cell_type": "code",
   "execution_count": 1512,
   "outputs": [
    {
     "data": {
      "text/plain": "<Figure size 432x288 with 1 Axes>",
      "image/png": "[encoded data removed]"
     },
     "metadata": {},
     "output_type": "display_data"
    }
   ],
   "source": [
    "# Do a box plot for bedrooms\n",
    "sns.boxplot(data=properties2, x='bedrooms')\n",
    "plt.show()"
   ],
   "metadata": {
    "collapsed": false
   }
  },
  {
   "cell_type": "markdown",
   "source": [
    "## Want to have additional features\n",
    "\n",
    "- I believe certain postcode outcodes will have an effect on the price, those outcodes that are further away from the city centre, I believe will cause an increase in price\n",
    "- However noticed that a lot of the addresses don't have postcodes in them\n",
    "- This is bad as I would like to have a column of postcode outcodes\n",
    "- I will utilise GeoPy to do this but first I will need to clean the addresses using regex\n",
    "\n",
    "Tutorials read and documentation referenced:\n",
    "\n",
    "https://geopy.readthedocs.io/en/stable/\n",
    "https://www.geeksforgeeks.org/get-zip-code-with-given-location-using-geopy-in-python/\n",
    "https://peterhaas-me.medium.com/how-to-geocode-with-python-and-pandas-4cd1d717d3f7"
   ],
   "metadata": {
    "collapsed": false
   }
  },
  {
   "cell_type": "code",
   "execution_count": 1513,
   "outputs": [
    {
     "data": {
      "text/plain": "                                                    url  \\\n0     https://www.rightmove.co.uk/properties/1315844...   \n1     https://www.rightmove.co.uk/properties/8604795...   \n2     https://www.rightmove.co.uk/properties/1326138...   \n3     https://www.rightmove.co.uk/properties/1311469...   \n4     https://www.rightmove.co.uk/properties/1322668...   \n...                                                 ...   \n4557  https://www.rightmove.co.uk/properties/1328121...   \n4558  https://www.rightmove.co.uk/properties/1328843...   \n4559  https://www.rightmove.co.uk/properties/1281187...   \n4560  https://www.rightmove.co.uk/properties/1328625...   \n4561  https://www.rightmove.co.uk/properties/1265926...   \n\n                                                address  property_type  \\\n0                                   Queen Square, Leeds       Detached   \n1                   Archery Road, Leeds, West Yorkshire       Terraced   \n2                                 Hanover Square, Leeds       Terraced   \n3                   Burley Wood Crescent, Burley, LEEDS       Terraced   \n4                     The Village Street, Burley, Leeds       Detached   \n...                                                 ...            ...   \n4557  Royds Avenue, New Mill, Holmfirth, West Yorksh...       Terraced   \n4558  Greenhill Bank Road, New Mill, Holmfirth, West...       Terraced   \n4559  Thick Hollins, Meltham, Holmfirth, West Yorksh...       Terraced   \n4560  Holmclose, Holmbridge, Holmfirth, West Yorkshi...  Semi-Detached   \n4561                France Hill, Honley, Holmfirth, HD9       Terraced   \n\n      bedrooms  bathrooms    tenure  nearest_station   price  \n0            5          2  Freehold              0.7  550000  \n1            5          1  Freehold              1.0  325000  \n2            6          3  Freehold              0.8  450000  \n3            3          1  Freehold              0.5  220000  \n4            5          2  Freehold              0.2  325000  \n...        ...        ...       ...              ...     ...  \n4557         3          1  Freehold              1.5  160000  \n4558         2          1  Freehold              1.6  150000  \n4559         2          1  Freehold              2.8  150000  \n4560         2          1  Freehold              3.4  150000  \n4561         2          1  Freehold              0.5  148000  \n\n[4562 rows x 8 columns]",
      "text/html": "<div>\n<style scoped>\n    .dataframe tbody tr th:only-of-type {\n        vertical-align: middle;\n    }\n\n    .dataframe tbody tr th {\n        vertical-align: top;\n    }\n\n    .dataframe thead th {\n        text-align: right;\n    }\n</style>\n<table border=\"1\" class=\"dataframe\">\n  <thead>\n    <tr style=\"text-align: right;\">\n      <th></th>\n      <th>url</th>\n      <th>address</th>\n      <th>property_type</th>\n      <th>bedrooms</th>\n      <th>bathrooms</th>\n      <th>tenure</th>\n      <th>nearest_station</th>\n      <th>price</th>\n    </tr>\n  </thead>\n  <tbody>\n    <tr>\n      <th>0</th>\n      <td>https://www.rightmove.co.uk/properties/1315844...</td>\n      <td>Queen Square, Leeds</td>\n      <td>Detached</td>\n      <td>5</td>\n      <td>2</td>\n      <td>Freehold</td>\n      <td>0.7</td>\n      <td>550000</td>\n    </tr>\n    <tr>\n      <th>1</th>\n      <td>https://www.rightmove.co.uk/properties/8604795...</td>\n      <td>Archery Road, Leeds, West Yorkshire</td>\n      <td>Terraced</td>\n      <td>5</td>\n      <td>1</td>\n      <td>Freehold</td>\n      <td>1.0</td>\n      <td>325000</td>\n    </tr>\n    <tr>\n      <th>2</th>\n      <td>https://www.rightmove.co.uk/properties/1326138...</td>\n      <td>Hanover Square, Leeds</td>\n      <td>Terraced</td>\n      <td>6</td>\n      <td>3</td>\n      <td>Freehold</td>\n      <td>0.8</td>\n      <td>450000</td>\n    </tr>\n    <tr>\n      <th>3</th>\n      <td>https://www.rightmove.co.uk/properties/1311469...</td>\n      <td>Burley Wood Crescent, Burley, LEEDS</td>\n      <td>Terraced</td>\n      <td>3</td>\n      <td>1</td>\n      <td>Freehold</td>\n      <td>0.5</td>\n      <td>220000</td>\n    </tr>\n    <tr>\n      <th>4</th>\n      <td>https://www.rightmove.co.uk/properties/1322668...</td>\n      <td>The Village Street, Burley, Leeds</td>\n      <td>Detached</td>\n      <td>5</td>\n      <td>2</td>\n      <td>Freehold</td>\n      <td>0.2</td>\n      <td>325000</td>\n    </tr>\n    <tr>\n      <th>...</th>\n      <td>...</td>\n      <td>...</td>\n      <td>...</td>\n      <td>...</td>\n      <td>...</td>\n      <td>...</td>\n      <td>...</td>\n      <td>...</td>\n    </tr>\n    <tr>\n      <th>4557</th>\n      <td>https://www.rightmove.co.uk/properties/1328121...</td>\n      <td>Royds Avenue, New Mill, Holmfirth, West Yorksh...</td>\n      <td>Terraced</td>\n      <td>3</td>\n      <td>1</td>\n      <td>Freehold</td>\n      <td>1.5</td>\n      <td>160000</td>\n    </tr>\n    <tr>\n      <th>4558</th>\n      <td>https://www.rightmove.co.uk/properties/1328843...</td>\n      <td>Greenhill Bank Road, New Mill, Holmfirth, West...</td>\n      <td>Terraced</td>\n      <td>2</td>\n      <td>1</td>\n      <td>Freehold</td>\n      <td>1.6</td>\n      <td>150000</td>\n    </tr>\n    <tr>\n      <th>4559</th>\n      <td>https://www.rightmove.co.uk/properties/1281187...</td>\n      <td>Thick Hollins, Meltham, Holmfirth, West Yorksh...</td>\n      <td>Terraced</td>\n      <td>2</td>\n      <td>1</td>\n      <td>Freehold</td>\n      <td>2.8</td>\n      <td>150000</td>\n    </tr>\n    <tr>\n      <th>4560</th>\n      <td>https://www.rightmove.co.uk/properties/1328625...</td>\n      <td>Holmclose, Holmbridge, Holmfirth, West Yorkshi...</td>\n      <td>Semi-Detached</td>\n      <td>2</td>\n      <td>1</td>\n      <td>Freehold</td>\n      <td>3.4</td>\n      <td>150000</td>\n    </tr>\n    <tr>\n      <th>4561</th>\n      <td>https://www.rightmove.co.uk/properties/1265926...</td>\n      <td>France Hill, Honley, Holmfirth, HD9</td>\n      <td>Terraced</td>\n      <td>2</td>\n      <td>1</td>\n      <td>Freehold</td>\n      <td>0.5</td>\n      <td>148000</td>\n    </tr>\n  </tbody>\n</table>\n<p>4562 rows × 8 columns</p>\n</div>"
     },
     "execution_count": 1513,
     "metadata": {},
     "output_type": "execute_result"
    }
   ],
   "source": [
    "# Need to create a column of postcode outcodes\n",
    "# Going to scan through to see properties that have weird strings\n",
    "properties2.reset_index(drop=True, inplace=True)\n",
    "properties2"
   ],
   "metadata": {
    "collapsed": false
   }
  },
  {
   "cell_type": "code",
   "execution_count": 1514,
   "outputs": [],
   "source": [
    "## Regex clean function, replaces regex found with whitespace\n",
    "def regex_clean(txt, regex):\n",
    "    \"\"\"Replace any text matching the regex\n",
    "\n",
    "    Parameters\n",
    "    ----------\n",
    "    txt : string\n",
    "        A text string that you want to parse and remove matches\n",
    "    regex : string\n",
    "        A text string of the regex pattern you want to match\n",
    "\n",
    "    Returns\n",
    "    -------\n",
    "    The same txt string with the matches removes\n",
    "    \"\"\"\n",
    "\n",
    "    return \" \".join(re.sub(regex, \" \", txt).split())"
   ],
   "metadata": {
    "collapsed": false
   }
  },
  {
   "cell_type": "code",
   "execution_count": 1515,
   "outputs": [],
   "source": [
    "def prep_clean_address(address):\n",
    "    \"\"\"\n",
    "    Cleans up an address by regex cleaning it\n",
    "\n",
    "    Parameters\n",
    "    ----------\n",
    "    address : string\n",
    "        A text string representing an address that you want to apply cleaning to\n",
    "\n",
    "    Returns\n",
    "    -------\n",
    "    address: string\n",
    "    Cleaned up string - contractions expanded, lower cased and regex cleaned\n",
    "    \"\"\"\n",
    "\n",
    "    ## Regex cleaning, finding the matching regex and replace with white space\n",
    "    address = regex_clean(address, r'[\\r\\n]') # Remove the \\r\\n in some strings\n",
    "    address = regex_clean(address, r'\\/') # Remove forward slashes between strings\n",
    "    return address"
   ],
   "metadata": {
    "collapsed": false
   }
  },
  {
   "cell_type": "code",
   "execution_count": 1516,
   "outputs": [
    {
     "data": {
      "text/plain": "'Cliff Oaks\\r\\nFawcett Lane\\r\\nLeeds\\r\\nLS12 4FG'"
     },
     "execution_count": 1516,
     "metadata": {},
     "output_type": "execute_result"
    }
   ],
   "source": [
    "# Some addresses have this \\r\\n situation\n",
    "properties2['address'].loc[352]"
   ],
   "metadata": {
    "collapsed": false
   }
  },
  {
   "cell_type": "code",
   "execution_count": 1517,
   "outputs": [
    {
     "data": {
      "text/plain": "'Eden Crescent, Burley/Headingley border, Leeds, West Yorkshire'"
     },
     "execution_count": 1517,
     "metadata": {},
     "output_type": "execute_result"
    }
   ],
   "source": [
    "# Some addresses have a forward slash between words\n",
    "properties2['address'].loc[10]"
   ],
   "metadata": {
    "collapsed": false
   }
  },
  {
   "cell_type": "code",
   "execution_count": 1518,
   "outputs": [],
   "source": [
    "# Apply the regex cleaning on the whole column to create a new column\n",
    "properties2['cleaned_address'] = properties2['address'].apply(prep_clean_address)"
   ],
   "metadata": {
    "collapsed": false
   }
  },
  {
   "cell_type": "code",
   "execution_count": 1519,
   "outputs": [
    {
     "data": {
      "text/plain": "url                https://www.rightmove.co.uk/properties/1320727...\naddress            Eden Crescent, Burley/Headingley border, Leeds...\nproperty_type                                          Semi-Detached\nbedrooms                                                           3\nbathrooms                                                          1\ntenure                                                      Freehold\nnearest_station                                                  0.1\nprice                                                         239500\ncleaned_address    Eden Crescent, Burley Headingley border, Leeds...\nName: 10, dtype: object"
     },
     "execution_count": 1519,
     "metadata": {},
     "output_type": "execute_result"
    }
   ],
   "source": [
    "# Have a check it's cleaned / slashes\n",
    "properties2.loc[10]"
   ],
   "metadata": {
    "collapsed": false
   }
  },
  {
   "cell_type": "code",
   "execution_count": 1520,
   "outputs": [
    {
     "data": {
      "text/plain": "url                https://www.rightmove.co.uk/properties/1322619...\naddress              Cliff Oaks\\r\\nFawcett Lane\\r\\nLeeds\\r\\nLS12 4FG\nproperty_type                                          Semi-Detached\nbedrooms                                                           3\nbathrooms                                                          3\ntenure                                                      Freehold\nnearest_station                                                  1.3\nprice                                                         350000\ncleaned_address               Cliff Oaks Fawcett Lane Leeds LS12 4FG\nName: 352, dtype: object"
     },
     "execution_count": 1520,
     "metadata": {},
     "output_type": "execute_result"
    }
   ],
   "source": [
    "# Have a check it's cleaned '\\r\\n'\n",
    "properties2.loc[352]"
   ],
   "metadata": {
    "collapsed": false
   }
  },
  {
   "cell_type": "code",
   "execution_count": 1521,
   "outputs": [
    {
     "name": "stdout",
     "output_type": "stream",
     "text": [
      "Requirement already satisfied: geopy in c:\\users\\haide\\anaconda3\\lib\\site-packages (2.3.0)\n",
      "Requirement already satisfied: geographiclib<3,>=1.52 in c:\\users\\haide\\anaconda3\\lib\\site-packages (from geopy) (2.0)\n"
     ]
    }
   ],
   "source": [
    "!pip install geopy"
   ],
   "metadata": {
    "collapsed": false
   }
  },
  {
   "cell_type": "code",
   "execution_count": 1522,
   "outputs": [],
   "source": [
    "# import module\n",
    "from geopy.geocoders import Nominatim\n",
    "# initialize Nominatim API\n",
    "geolocator = Nominatim(user_agent=\"myGeolocator\", timeout=1)"
   ],
   "metadata": {
    "collapsed": false
   }
  },
  {
   "cell_type": "code",
   "execution_count": 1523,
   "outputs": [],
   "source": [
    "# Create a small dataframe to learn about geopy and geocode method\n",
    "gcodetest = properties2.head()"
   ],
   "metadata": {
    "collapsed": false
   }
  },
  {
   "cell_type": "code",
   "execution_count": 1524,
   "outputs": [
    {
     "data": {
      "text/plain": "                                                 url  \\\n0  https://www.rightmove.co.uk/properties/1315844...   \n1  https://www.rightmove.co.uk/properties/8604795...   \n2  https://www.rightmove.co.uk/properties/1326138...   \n3  https://www.rightmove.co.uk/properties/1311469...   \n4  https://www.rightmove.co.uk/properties/1322668...   \n\n                               address property_type  bedrooms  bathrooms  \\\n0                  Queen Square, Leeds      Detached         5          2   \n1  Archery Road, Leeds, West Yorkshire      Terraced         5          1   \n2                Hanover Square, Leeds      Terraced         6          3   \n3  Burley Wood Crescent, Burley, LEEDS      Terraced         3          1   \n4    The Village Street, Burley, Leeds      Detached         5          2   \n\n     tenure  nearest_station   price                      cleaned_address  \n0  Freehold              0.7  550000                  Queen Square, Leeds  \n1  Freehold              1.0  325000  Archery Road, Leeds, West Yorkshire  \n2  Freehold              0.8  450000                Hanover Square, Leeds  \n3  Freehold              0.5  220000  Burley Wood Crescent, Burley, LEEDS  \n4  Freehold              0.2  325000    The Village Street, Burley, Leeds  ",
      "text/html": "<div>\n<style scoped>\n    .dataframe tbody tr th:only-of-type {\n        vertical-align: middle;\n    }\n\n    .dataframe tbody tr th {\n        vertical-align: top;\n    }\n\n    .dataframe thead th {\n        text-align: right;\n    }\n</style>\n<table border=\"1\" class=\"dataframe\">\n  <thead>\n    <tr style=\"text-align: right;\">\n      <th></th>\n      <th>url</th>\n      <th>address</th>\n      <th>property_type</th>\n      <th>bedrooms</th>\n      <th>bathrooms</th>\n      <th>tenure</th>\n      <th>nearest_station</th>\n      <th>price</th>\n      <th>cleaned_address</th>\n    </tr>\n  </thead>\n  <tbody>\n    <tr>\n      <th>0</th>\n      <td>https://www.rightmove.co.uk/properties/1315844...</td>\n      <td>Queen Square, Leeds</td>\n      <td>Detached</td>\n      <td>5</td>\n      <td>2</td>\n      <td>Freehold</td>\n      <td>0.7</td>\n      <td>550000</td>\n      <td>Queen Square, Leeds</td>\n    </tr>\n    <tr>\n      <th>1</th>\n      <td>https://www.rightmove.co.uk/properties/8604795...</td>\n      <td>Archery Road, Leeds, West Yorkshire</td>\n      <td>Terraced</td>\n      <td>5</td>\n      <td>1</td>\n      <td>Freehold</td>\n      <td>1.0</td>\n      <td>325000</td>\n      <td>Archery Road, Leeds, West Yorkshire</td>\n    </tr>\n    <tr>\n      <th>2</th>\n      <td>https://www.rightmove.co.uk/properties/1326138...</td>\n      <td>Hanover Square, Leeds</td>\n      <td>Terraced</td>\n      <td>6</td>\n      <td>3</td>\n      <td>Freehold</td>\n      <td>0.8</td>\n      <td>450000</td>\n      <td>Hanover Square, Leeds</td>\n    </tr>\n    <tr>\n      <th>3</th>\n      <td>https://www.rightmove.co.uk/properties/1311469...</td>\n      <td>Burley Wood Crescent, Burley, LEEDS</td>\n      <td>Terraced</td>\n      <td>3</td>\n      <td>1</td>\n      <td>Freehold</td>\n      <td>0.5</td>\n      <td>220000</td>\n      <td>Burley Wood Crescent, Burley, LEEDS</td>\n    </tr>\n    <tr>\n      <th>4</th>\n      <td>https://www.rightmove.co.uk/properties/1322668...</td>\n      <td>The Village Street, Burley, Leeds</td>\n      <td>Detached</td>\n      <td>5</td>\n      <td>2</td>\n      <td>Freehold</td>\n      <td>0.2</td>\n      <td>325000</td>\n      <td>The Village Street, Burley, Leeds</td>\n    </tr>\n  </tbody>\n</table>\n</div>"
     },
     "execution_count": 1524,
     "metadata": {},
     "output_type": "execute_result"
    }
   ],
   "source": [
    "# Observe mini dataframe\n",
    "gcodetest"
   ],
   "metadata": {
    "collapsed": false
   }
  },
  {
   "cell_type": "code",
   "execution_count": 1525,
   "outputs": [
    {
     "name": "stderr",
     "output_type": "stream",
     "text": [
      "C:\\Users\\haide\\AppData\\Local\\Temp/ipykernel_68452/2129216075.py:2: SettingWithCopyWarning: \n",
      "A value is trying to be set on a copy of a slice from a DataFrame.\n",
      "Try using .loc[row_indexer,col_indexer] = value instead\n",
      "\n",
      "See the caveats in the documentation: https://pandas.pydata.org/pandas-docs/stable/user_guide/indexing.html#returning-a-view-versus-a-copy\n",
      "  gcodetest['gcode'] = gcodetest['cleaned_address'].apply(geolocator.geocode)\n"
     ]
    }
   ],
   "source": [
    "# Apply geocode method on cleaned address\n",
    "gcodetest['gcode'] = gcodetest['cleaned_address'].apply(geolocator.geocode)"
   ],
   "metadata": {
    "collapsed": false
   }
  },
  {
   "cell_type": "code",
   "execution_count": 1526,
   "outputs": [
    {
     "data": {
      "text/plain": "                                                 url  \\\n0  https://www.rightmove.co.uk/properties/1315844...   \n1  https://www.rightmove.co.uk/properties/8604795...   \n2  https://www.rightmove.co.uk/properties/1326138...   \n3  https://www.rightmove.co.uk/properties/1311469...   \n4  https://www.rightmove.co.uk/properties/1322668...   \n\n                               address property_type  bedrooms  bathrooms  \\\n0                  Queen Square, Leeds      Detached         5          2   \n1  Archery Road, Leeds, West Yorkshire      Terraced         5          1   \n2                Hanover Square, Leeds      Terraced         6          3   \n3  Burley Wood Crescent, Burley, LEEDS      Terraced         3          1   \n4    The Village Street, Burley, Leeds      Detached         5          2   \n\n     tenure  nearest_station   price                      cleaned_address  \\\n0  Freehold              0.7  550000                  Queen Square, Leeds   \n1  Freehold              1.0  325000  Archery Road, Leeds, West Yorkshire   \n2  Freehold              0.8  450000                Hanover Square, Leeds   \n3  Freehold              0.5  220000  Burley Wood Crescent, Burley, LEEDS   \n4  Freehold              0.2  325000    The Village Street, Burley, Leeds   \n\n                                               gcode  \n0  (Queen Square, Arena Quarter, Lovell Park, Lee...  \n1  (Archery Road, Arena Quarter, Woodhouse, Leeds...  \n2  (Hanover Square, Hyde Park, Leeds, West Yorksh...  \n3  (Burley Wood Crescent, Burley, Leeds, West Yor...  \n4  (The Village Street, Burley, Leeds, West Yorks...  ",
      "text/html": "<div>\n<style scoped>\n    .dataframe tbody tr th:only-of-type {\n        vertical-align: middle;\n    }\n\n    .dataframe tbody tr th {\n        vertical-align: top;\n    }\n\n    .dataframe thead th {\n        text-align: right;\n    }\n</style>\n<table border=\"1\" class=\"dataframe\">\n  <thead>\n    <tr style=\"text-align: right;\">\n      <th></th>\n      <th>url</th>\n      <th>address</th>\n      <th>property_type</th>\n      <th>bedrooms</th>\n      <th>bathrooms</th>\n      <th>tenure</th>\n      <th>nearest_station</th>\n      <th>price</th>\n      <th>cleaned_address</th>\n      <th>gcode</th>\n    </tr>\n  </thead>\n  <tbody>\n    <tr>\n      <th>0</th>\n      <td>https://www.rightmove.co.uk/properties/1315844...</td>\n      <td>Queen Square, Leeds</td>\n      <td>Detached</td>\n      <td>5</td>\n      <td>2</td>\n      <td>Freehold</td>\n      <td>0.7</td>\n      <td>550000</td>\n      <td>Queen Square, Leeds</td>\n      <td>(Queen Square, Arena Quarter, Lovell Park, Lee...</td>\n    </tr>\n    <tr>\n      <th>1</th>\n      <td>https://www.rightmove.co.uk/properties/8604795...</td>\n      <td>Archery Road, Leeds, West Yorkshire</td>\n      <td>Terraced</td>\n      <td>5</td>\n      <td>1</td>\n      <td>Freehold</td>\n      <td>1.0</td>\n      <td>325000</td>\n      <td>Archery Road, Leeds, West Yorkshire</td>\n      <td>(Archery Road, Arena Quarter, Woodhouse, Leeds...</td>\n    </tr>\n    <tr>\n      <th>2</th>\n      <td>https://www.rightmove.co.uk/properties/1326138...</td>\n      <td>Hanover Square, Leeds</td>\n      <td>Terraced</td>\n      <td>6</td>\n      <td>3</td>\n      <td>Freehold</td>\n      <td>0.8</td>\n      <td>450000</td>\n      <td>Hanover Square, Leeds</td>\n      <td>(Hanover Square, Hyde Park, Leeds, West Yorksh...</td>\n    </tr>\n    <tr>\n      <th>3</th>\n      <td>https://www.rightmove.co.uk/properties/1311469...</td>\n      <td>Burley Wood Crescent, Burley, LEEDS</td>\n      <td>Terraced</td>\n      <td>3</td>\n      <td>1</td>\n      <td>Freehold</td>\n      <td>0.5</td>\n      <td>220000</td>\n      <td>Burley Wood Crescent, Burley, LEEDS</td>\n      <td>(Burley Wood Crescent, Burley, Leeds, West Yor...</td>\n    </tr>\n    <tr>\n      <th>4</th>\n      <td>https://www.rightmove.co.uk/properties/1322668...</td>\n      <td>The Village Street, Burley, Leeds</td>\n      <td>Detached</td>\n      <td>5</td>\n      <td>2</td>\n      <td>Freehold</td>\n      <td>0.2</td>\n      <td>325000</td>\n      <td>The Village Street, Burley, Leeds</td>\n      <td>(The Village Street, Burley, Leeds, West Yorks...</td>\n    </tr>\n  </tbody>\n</table>\n</div>"
     },
     "execution_count": 1526,
     "metadata": {},
     "output_type": "execute_result"
    }
   ],
   "source": [
    "# Look at the geocode column\n",
    "gcodetest.head()"
   ],
   "metadata": {
    "collapsed": false
   }
  },
  {
   "cell_type": "code",
   "execution_count": 1527,
   "outputs": [
    {
     "data": {
      "text/plain": "Location(Queen Square, Arena Quarter, Lovell Park, Leeds, West Yorkshire, England, United Kingdom, (53.80349235, -1.5452538469202475, 0.0))"
     },
     "execution_count": 1527,
     "metadata": {},
     "output_type": "execute_result"
    }
   ],
   "source": [
    "# Observe the return of a Location object\n",
    "# Structured as such, (address<String>, (latitude<Float>, longitude<Float>))\n",
    "gcodetest['gcode'].loc[0]"
   ],
   "metadata": {
    "collapsed": false
   }
  },
  {
   "cell_type": "code",
   "execution_count": 1528,
   "outputs": [
    {
     "name": "stderr",
     "output_type": "stream",
     "text": [
      "C:\\Users\\haide\\AppData\\Local\\Temp/ipykernel_68452/823163388.py:4: SettingWithCopyWarning: \n",
      "A value is trying to be set on a copy of a slice from a DataFrame.\n",
      "Try using .loc[row_indexer,col_indexer] = value instead\n",
      "\n",
      "See the caveats in the documentation: https://pandas.pydata.org/pandas-docs/stable/user_guide/indexing.html#returning-a-view-versus-a-copy\n",
      "  gcodetest['lat'] = [g.latitude for g in gcodetest.gcode]\n",
      "C:\\Users\\haide\\AppData\\Local\\Temp/ipykernel_68452/823163388.py:5: SettingWithCopyWarning: \n",
      "A value is trying to be set on a copy of a slice from a DataFrame.\n",
      "Try using .loc[row_indexer,col_indexer] = value instead\n",
      "\n",
      "See the caveats in the documentation: https://pandas.pydata.org/pandas-docs/stable/user_guide/indexing.html#returning-a-view-versus-a-copy\n",
      "  gcodetest['long'] = [g.longitude for g in gcodetest.gcode]\n"
     ]
    }
   ],
   "source": [
    "# Documentation says it can also be accessed like this:\n",
    "# location.address, location.latitude, location.longitude, location.altitude, and location.raw.\n",
    "# The last contains the full geocoder’s response for this result.\n",
    "gcodetest['lat'] = [g.latitude for g in gcodetest.gcode]\n",
    "gcodetest['long'] = [g.longitude for g in gcodetest.gcode]"
   ],
   "metadata": {
    "collapsed": false
   }
  },
  {
   "cell_type": "code",
   "execution_count": 1529,
   "outputs": [
    {
     "data": {
      "text/plain": "                                                 url  \\\n0  https://www.rightmove.co.uk/properties/1315844...   \n1  https://www.rightmove.co.uk/properties/8604795...   \n2  https://www.rightmove.co.uk/properties/1326138...   \n3  https://www.rightmove.co.uk/properties/1311469...   \n4  https://www.rightmove.co.uk/properties/1322668...   \n\n                               address property_type  bedrooms  bathrooms  \\\n0                  Queen Square, Leeds      Detached         5          2   \n1  Archery Road, Leeds, West Yorkshire      Terraced         5          1   \n2                Hanover Square, Leeds      Terraced         6          3   \n3  Burley Wood Crescent, Burley, LEEDS      Terraced         3          1   \n4    The Village Street, Burley, Leeds      Detached         5          2   \n\n     tenure  nearest_station   price                      cleaned_address  \\\n0  Freehold              0.7  550000                  Queen Square, Leeds   \n1  Freehold              1.0  325000  Archery Road, Leeds, West Yorkshire   \n2  Freehold              0.8  450000                Hanover Square, Leeds   \n3  Freehold              0.5  220000  Burley Wood Crescent, Burley, LEEDS   \n4  Freehold              0.2  325000    The Village Street, Burley, Leeds   \n\n                                               gcode        lat      long  \n0  (Queen Square, Arena Quarter, Lovell Park, Lee...  53.803492 -1.545254  \n1  (Archery Road, Arena Quarter, Woodhouse, Leeds...  53.808283 -1.549246  \n2  (Hanover Square, Hyde Park, Leeds, West Yorksh...  53.801709 -1.560476  \n3  (Burley Wood Crescent, Burley, Leeds, West Yor...  53.810116 -1.591328  \n4  (The Village Street, Burley, Leeds, West Yorks...  53.810029 -1.582223  ",
      "text/html": "<div>\n<style scoped>\n    .dataframe tbody tr th:only-of-type {\n        vertical-align: middle;\n    }\n\n    .dataframe tbody tr th {\n        vertical-align: top;\n    }\n\n    .dataframe thead th {\n        text-align: right;\n    }\n</style>\n<table border=\"1\" class=\"dataframe\">\n  <thead>\n    <tr style=\"text-align: right;\">\n      <th></th>\n      <th>url</th>\n      <th>address</th>\n      <th>property_type</th>\n      <th>bedrooms</th>\n      <th>bathrooms</th>\n      <th>tenure</th>\n      <th>nearest_station</th>\n      <th>price</th>\n      <th>cleaned_address</th>\n      <th>gcode</th>\n      <th>lat</th>\n      <th>long</th>\n    </tr>\n  </thead>\n  <tbody>\n    <tr>\n      <th>0</th>\n      <td>https://www.rightmove.co.uk/properties/1315844...</td>\n      <td>Queen Square, Leeds</td>\n      <td>Detached</td>\n      <td>5</td>\n      <td>2</td>\n      <td>Freehold</td>\n      <td>0.7</td>\n      <td>550000</td>\n      <td>Queen Square, Leeds</td>\n      <td>(Queen Square, Arena Quarter, Lovell Park, Lee...</td>\n      <td>53.803492</td>\n      <td>-1.545254</td>\n    </tr>\n    <tr>\n      <th>1</th>\n      <td>https://www.rightmove.co.uk/properties/8604795...</td>\n      <td>Archery Road, Leeds, West Yorkshire</td>\n      <td>Terraced</td>\n      <td>5</td>\n      <td>1</td>\n      <td>Freehold</td>\n      <td>1.0</td>\n      <td>325000</td>\n      <td>Archery Road, Leeds, West Yorkshire</td>\n      <td>(Archery Road, Arena Quarter, Woodhouse, Leeds...</td>\n      <td>53.808283</td>\n      <td>-1.549246</td>\n    </tr>\n    <tr>\n      <th>2</th>\n      <td>https://www.rightmove.co.uk/properties/1326138...</td>\n      <td>Hanover Square, Leeds</td>\n      <td>Terraced</td>\n      <td>6</td>\n      <td>3</td>\n      <td>Freehold</td>\n      <td>0.8</td>\n      <td>450000</td>\n      <td>Hanover Square, Leeds</td>\n      <td>(Hanover Square, Hyde Park, Leeds, West Yorksh...</td>\n      <td>53.801709</td>\n      <td>-1.560476</td>\n    </tr>\n    <tr>\n      <th>3</th>\n      <td>https://www.rightmove.co.uk/properties/1311469...</td>\n      <td>Burley Wood Crescent, Burley, LEEDS</td>\n      <td>Terraced</td>\n      <td>3</td>\n      <td>1</td>\n      <td>Freehold</td>\n      <td>0.5</td>\n      <td>220000</td>\n      <td>Burley Wood Crescent, Burley, LEEDS</td>\n      <td>(Burley Wood Crescent, Burley, Leeds, West Yor...</td>\n      <td>53.810116</td>\n      <td>-1.591328</td>\n    </tr>\n    <tr>\n      <th>4</th>\n      <td>https://www.rightmove.co.uk/properties/1322668...</td>\n      <td>The Village Street, Burley, Leeds</td>\n      <td>Detached</td>\n      <td>5</td>\n      <td>2</td>\n      <td>Freehold</td>\n      <td>0.2</td>\n      <td>325000</td>\n      <td>The Village Street, Burley, Leeds</td>\n      <td>(The Village Street, Burley, Leeds, West Yorks...</td>\n      <td>53.810029</td>\n      <td>-1.582223</td>\n    </tr>\n  </tbody>\n</table>\n</div>"
     },
     "execution_count": 1529,
     "metadata": {},
     "output_type": "execute_result"
    }
   ],
   "source": [
    "# Look at the longtitude and latitude columns added to the dataframe\n",
    "gcodetest"
   ],
   "metadata": {
    "collapsed": false
   }
  },
  {
   "cell_type": "code",
   "execution_count": 1530,
   "outputs": [
    {
     "data": {
      "text/plain": "'The Village Street, Burley, Leeds, West Yorkshire, England, LS4 2PR, United Kingdom'"
     },
     "execution_count": 1530,
     "metadata": {},
     "output_type": "execute_result"
    }
   ],
   "source": [
    "# Access the address for a property\n",
    "gcodetest.loc[4]['gcode'].address"
   ],
   "metadata": {
    "collapsed": false
   }
  },
  {
   "cell_type": "code",
   "execution_count": 1531,
   "outputs": [
    {
     "data": {
      "text/plain": "'LS4'"
     },
     "execution_count": 1531,
     "metadata": {},
     "output_type": "execute_result"
    }
   ],
   "source": [
    "# Can get the address by splitting the address and accessing the appropriate index\n",
    "# This won't always be the Outcode\n",
    "gcodetest.loc[4]['gcode'].address.split()[-4]"
   ],
   "metadata": {
    "collapsed": false
   }
  },
  {
   "cell_type": "code",
   "execution_count": 1532,
   "outputs": [
    {
     "name": "stderr",
     "output_type": "stream",
     "text": [
      "C:\\Users\\haide\\AppData\\Local\\Temp/ipykernel_68452/1472400905.py:2: SettingWithCopyWarning: \n",
      "A value is trying to be set on a copy of a slice from a DataFrame.\n",
      "Try using .loc[row_indexer,col_indexer] = value instead\n",
      "\n",
      "See the caveats in the documentation: https://pandas.pydata.org/pandas-docs/stable/user_guide/indexing.html#returning-a-view-versus-a-copy\n",
      "  gcodetest['Outcode'] =[g.address.split()[-4] for g in gcodetest.gcode]\n"
     ]
    }
   ],
   "source": [
    "# Create a column of Outcodes\n",
    "gcodetest['Outcode'] =[g.address.split()[-4] for g in gcodetest.gcode]"
   ],
   "metadata": {
    "collapsed": false
   }
  },
  {
   "cell_type": "code",
   "execution_count": 1533,
   "outputs": [
    {
     "data": {
      "text/plain": "0    Yorkshire,\n1           LS2\n2           LS3\n3           LS4\n4           LS4\nName: Outcode, dtype: object"
     },
     "execution_count": 1533,
     "metadata": {},
     "output_type": "execute_result"
    }
   ],
   "source": [
    "# Observe the column of Outcodes\n",
    "# Can see the first address it couldn't find an Outcode\n",
    "# I can go and manually clean columns and set them to none if it doesn't get the correct or appropriate Outcode\n",
    "gcodetest['Outcode']"
   ],
   "metadata": {
    "collapsed": false
   }
  },
  {
   "cell_type": "markdown",
   "source": [
    "## Attempt getting all the postcode outcodes for every address"
   ],
   "metadata": {
    "collapsed": false
   }
  },
  {
   "cell_type": "code",
   "execution_count": 1534,
   "outputs": [
    {
     "data": {
      "text/plain": "                                                    url  \\\n1836  https://www.rightmove.co.uk/properties/1252902...   \n2375  https://www.rightmove.co.uk/properties/1077552...   \n3002  https://www.rightmove.co.uk/properties/1301269...   \n3241  https://www.rightmove.co.uk/properties/1250835...   \n4300  https://www.rightmove.co.uk/properties/1319565...   \n\n                                                address  property_type  \\\n1836            South Street, Oakenshaw, Bradford, BD12       Detached   \n2375  South Street, Gargrave, Skipton, North Yorkshi...       Terraced   \n3002                       South Street, Normanton, WF6  Semi-Detached   \n3241  South Street, Hemsworth, Pontefract, West York...       Detached   \n4300                            South Street, brighouse       Terraced   \n\n      bedrooms  bathrooms    tenure  nearest_station   price  \\\n1836         3          1  Freehold              0.5  225000   \n2375         3          2  Freehold              0.3  240000   \n3002         6          3  Freehold              0.9  300000   \n3241         3          1  Freehold              2.0  200000   \n4300         2          1  Freehold              1.6   89995   \n\n                                        cleaned_address  \n1836            South Street, Oakenshaw, Bradford, BD12  \n2375  South Street, Gargrave, Skipton, North Yorkshi...  \n3002                       South Street, Normanton, WF6  \n3241  South Street, Hemsworth, Pontefract, West York...  \n4300                            South Street, brighouse  ",
      "text/html": "<div>\n<style scoped>\n    .dataframe tbody tr th:only-of-type {\n        vertical-align: middle;\n    }\n\n    .dataframe tbody tr th {\n        vertical-align: top;\n    }\n\n    .dataframe thead th {\n        text-align: right;\n    }\n</style>\n<table border=\"1\" class=\"dataframe\">\n  <thead>\n    <tr style=\"text-align: right;\">\n      <th></th>\n      <th>url</th>\n      <th>address</th>\n      <th>property_type</th>\n      <th>bedrooms</th>\n      <th>bathrooms</th>\n      <th>tenure</th>\n      <th>nearest_station</th>\n      <th>price</th>\n      <th>cleaned_address</th>\n    </tr>\n  </thead>\n  <tbody>\n    <tr>\n      <th>1836</th>\n      <td>https://www.rightmove.co.uk/properties/1252902...</td>\n      <td>South Street, Oakenshaw, Bradford, BD12</td>\n      <td>Detached</td>\n      <td>3</td>\n      <td>1</td>\n      <td>Freehold</td>\n      <td>0.5</td>\n      <td>225000</td>\n      <td>South Street, Oakenshaw, Bradford, BD12</td>\n    </tr>\n    <tr>\n      <th>2375</th>\n      <td>https://www.rightmove.co.uk/properties/1077552...</td>\n      <td>South Street, Gargrave, Skipton, North Yorkshi...</td>\n      <td>Terraced</td>\n      <td>3</td>\n      <td>2</td>\n      <td>Freehold</td>\n      <td>0.3</td>\n      <td>240000</td>\n      <td>South Street, Gargrave, Skipton, North Yorkshi...</td>\n    </tr>\n    <tr>\n      <th>3002</th>\n      <td>https://www.rightmove.co.uk/properties/1301269...</td>\n      <td>South Street, Normanton, WF6</td>\n      <td>Semi-Detached</td>\n      <td>6</td>\n      <td>3</td>\n      <td>Freehold</td>\n      <td>0.9</td>\n      <td>300000</td>\n      <td>South Street, Normanton, WF6</td>\n    </tr>\n    <tr>\n      <th>3241</th>\n      <td>https://www.rightmove.co.uk/properties/1250835...</td>\n      <td>South Street, Hemsworth, Pontefract, West York...</td>\n      <td>Detached</td>\n      <td>3</td>\n      <td>1</td>\n      <td>Freehold</td>\n      <td>2.0</td>\n      <td>200000</td>\n      <td>South Street, Hemsworth, Pontefract, West York...</td>\n    </tr>\n    <tr>\n      <th>4300</th>\n      <td>https://www.rightmove.co.uk/properties/1319565...</td>\n      <td>South Street, brighouse</td>\n      <td>Terraced</td>\n      <td>2</td>\n      <td>1</td>\n      <td>Freehold</td>\n      <td>1.6</td>\n      <td>89995</td>\n      <td>South Street, brighouse</td>\n    </tr>\n  </tbody>\n</table>\n</div>"
     },
     "execution_count": 1534,
     "metadata": {},
     "output_type": "execute_result"
    }
   ],
   "source": [
    "# Row 3002 is causing issues when trying calling the geocode function\n",
    "properties2[properties2['address'].str.contains('South Street')]"
   ],
   "metadata": {
    "collapsed": false
   }
  },
  {
   "cell_type": "code",
   "execution_count": 1536,
   "outputs": [],
   "source": [
    "properties2.at[3002, 'address'] = 'South Street, Normanton'"
   ],
   "metadata": {
    "collapsed": false
   }
  },
  {
   "cell_type": "code",
   "execution_count": 1537,
   "outputs": [
    {
     "data": {
      "text/plain": "'South Street, Normanton'"
     },
     "execution_count": 1537,
     "metadata": {},
     "output_type": "execute_result"
    }
   ],
   "source": [
    "properties2.loc[3002]['address']"
   ],
   "metadata": {
    "collapsed": false
   }
  },
  {
   "cell_type": "code",
   "execution_count": 1393,
   "outputs": [],
   "source": [
    "# Making a lot of requests - need to include this to add delays between geocoding calls, retry failed requests and swallow erros for individual rows\n",
    "from geopy.extra.rate_limiter import RateLimiter"
   ],
   "metadata": {
    "collapsed": false
   }
  },
  {
   "cell_type": "code",
   "execution_count": 1538,
   "outputs": [],
   "source": [
    "# initialize Nominatim API\n",
    "geolocator = Nominatim(user_agent=\"GettingOutcodes\", timeout=None)\n",
    "geocode = RateLimiter(geolocator.geocode, min_delay_seconds=1.0, error_wait_seconds=2.0, swallow_exceptions=True, return_value_on_exception=None)\n",
    "# Apply geocode method on cleaned address for whole dataset\n",
    "properties2['gcode'] = properties2['cleaned_address'].apply(geolocator.geocode)"
   ],
   "metadata": {
    "collapsed": false
   }
  },
  {
   "cell_type": "code",
   "execution_count": 1540,
   "outputs": [
    {
     "data": {
      "text/plain": "                                                 url  \\\n0  https://www.rightmove.co.uk/properties/1315844...   \n1  https://www.rightmove.co.uk/properties/8604795...   \n2  https://www.rightmove.co.uk/properties/1326138...   \n3  https://www.rightmove.co.uk/properties/1311469...   \n4  https://www.rightmove.co.uk/properties/1322668...   \n\n                               address property_type  bedrooms  bathrooms  \\\n0                  Queen Square, Leeds      Detached         5          2   \n1  Archery Road, Leeds, West Yorkshire      Terraced         5          1   \n2                Hanover Square, Leeds      Terraced         6          3   \n3  Burley Wood Crescent, Burley, LEEDS      Terraced         3          1   \n4    The Village Street, Burley, Leeds      Detached         5          2   \n\n     tenure  nearest_station   price                      cleaned_address  \\\n0  Freehold              0.7  550000                  Queen Square, Leeds   \n1  Freehold              1.0  325000  Archery Road, Leeds, West Yorkshire   \n2  Freehold              0.8  450000                Hanover Square, Leeds   \n3  Freehold              0.5  220000  Burley Wood Crescent, Burley, LEEDS   \n4  Freehold              0.2  325000    The Village Street, Burley, Leeds   \n\n                                               gcode  \n0  (Queen Square, Arena Quarter, Lovell Park, Lee...  \n1  (Archery Road, Arena Quarter, Woodhouse, Leeds...  \n2  (Hanover Square, Hyde Park, Leeds, West Yorksh...  \n3  (Burley Wood Crescent, Burley, Leeds, West Yor...  \n4  (The Village Street, Burley, Leeds, West Yorks...  ",
      "text/html": "<div>\n<style scoped>\n    .dataframe tbody tr th:only-of-type {\n        vertical-align: middle;\n    }\n\n    .dataframe tbody tr th {\n        vertical-align: top;\n    }\n\n    .dataframe thead th {\n        text-align: right;\n    }\n</style>\n<table border=\"1\" class=\"dataframe\">\n  <thead>\n    <tr style=\"text-align: right;\">\n      <th></th>\n      <th>url</th>\n      <th>address</th>\n      <th>property_type</th>\n      <th>bedrooms</th>\n      <th>bathrooms</th>\n      <th>tenure</th>\n      <th>nearest_station</th>\n      <th>price</th>\n      <th>cleaned_address</th>\n      <th>gcode</th>\n    </tr>\n  </thead>\n  <tbody>\n    <tr>\n      <th>0</th>\n      <td>https://www.rightmove.co.uk/properties/1315844...</td>\n      <td>Queen Square, Leeds</td>\n      <td>Detached</td>\n      <td>5</td>\n      <td>2</td>\n      <td>Freehold</td>\n      <td>0.7</td>\n      <td>550000</td>\n      <td>Queen Square, Leeds</td>\n      <td>(Queen Square, Arena Quarter, Lovell Park, Lee...</td>\n    </tr>\n    <tr>\n      <th>1</th>\n      <td>https://www.rightmove.co.uk/properties/8604795...</td>\n      <td>Archery Road, Leeds, West Yorkshire</td>\n      <td>Terraced</td>\n      <td>5</td>\n      <td>1</td>\n      <td>Freehold</td>\n      <td>1.0</td>\n      <td>325000</td>\n      <td>Archery Road, Leeds, West Yorkshire</td>\n      <td>(Archery Road, Arena Quarter, Woodhouse, Leeds...</td>\n    </tr>\n    <tr>\n      <th>2</th>\n      <td>https://www.rightmove.co.uk/properties/1326138...</td>\n      <td>Hanover Square, Leeds</td>\n      <td>Terraced</td>\n      <td>6</td>\n      <td>3</td>\n      <td>Freehold</td>\n      <td>0.8</td>\n      <td>450000</td>\n      <td>Hanover Square, Leeds</td>\n      <td>(Hanover Square, Hyde Park, Leeds, West Yorksh...</td>\n    </tr>\n    <tr>\n      <th>3</th>\n      <td>https://www.rightmove.co.uk/properties/1311469...</td>\n      <td>Burley Wood Crescent, Burley, LEEDS</td>\n      <td>Terraced</td>\n      <td>3</td>\n      <td>1</td>\n      <td>Freehold</td>\n      <td>0.5</td>\n      <td>220000</td>\n      <td>Burley Wood Crescent, Burley, LEEDS</td>\n      <td>(Burley Wood Crescent, Burley, Leeds, West Yor...</td>\n    </tr>\n    <tr>\n      <th>4</th>\n      <td>https://www.rightmove.co.uk/properties/1322668...</td>\n      <td>The Village Street, Burley, Leeds</td>\n      <td>Detached</td>\n      <td>5</td>\n      <td>2</td>\n      <td>Freehold</td>\n      <td>0.2</td>\n      <td>325000</td>\n      <td>The Village Street, Burley, Leeds</td>\n      <td>(The Village Street, Burley, Leeds, West Yorks...</td>\n    </tr>\n  </tbody>\n</table>\n</div>"
     },
     "execution_count": 1540,
     "metadata": {},
     "output_type": "execute_result"
    }
   ],
   "source": [
    "# See if the gcode column has been appended\n",
    "properties2.head()"
   ],
   "metadata": {
    "collapsed": false
   }
  },
  {
   "cell_type": "code",
   "execution_count": 1541,
   "outputs": [
    {
     "data": {
      "text/plain": "                 null  percent\ngcode            1315   28.825\nurl                 0    0.000\naddress             0    0.000\nproperty_type       0    0.000\nbedrooms            0    0.000\nbathrooms           0    0.000\ntenure              0    0.000\nnearest_station     0    0.000\nprice               0    0.000\ncleaned_address     0    0.000",
      "text/html": "<div>\n<style scoped>\n    .dataframe tbody tr th:only-of-type {\n        vertical-align: middle;\n    }\n\n    .dataframe tbody tr th {\n        vertical-align: top;\n    }\n\n    .dataframe thead th {\n        text-align: right;\n    }\n</style>\n<table border=\"1\" class=\"dataframe\">\n  <thead>\n    <tr style=\"text-align: right;\">\n      <th></th>\n      <th>null</th>\n      <th>percent</th>\n    </tr>\n  </thead>\n  <tbody>\n    <tr>\n      <th>gcode</th>\n      <td>1315</td>\n      <td>28.825</td>\n    </tr>\n    <tr>\n      <th>url</th>\n      <td>0</td>\n      <td>0.000</td>\n    </tr>\n    <tr>\n      <th>address</th>\n      <td>0</td>\n      <td>0.000</td>\n    </tr>\n    <tr>\n      <th>property_type</th>\n      <td>0</td>\n      <td>0.000</td>\n    </tr>\n    <tr>\n      <th>bedrooms</th>\n      <td>0</td>\n      <td>0.000</td>\n    </tr>\n    <tr>\n      <th>bathrooms</th>\n      <td>0</td>\n      <td>0.000</td>\n    </tr>\n    <tr>\n      <th>tenure</th>\n      <td>0</td>\n      <td>0.000</td>\n    </tr>\n    <tr>\n      <th>nearest_station</th>\n      <td>0</td>\n      <td>0.000</td>\n    </tr>\n    <tr>\n      <th>price</th>\n      <td>0</td>\n      <td>0.000</td>\n    </tr>\n    <tr>\n      <th>cleaned_address</th>\n      <td>0</td>\n      <td>0.000</td>\n    </tr>\n  </tbody>\n</table>\n</div>"
     },
     "execution_count": 1541,
     "metadata": {},
     "output_type": "execute_result"
    }
   ],
   "source": [
    "# Considerable amount of nulls for gcode\n",
    "null_vals(properties2)"
   ],
   "metadata": {
    "collapsed": false
   }
  },
  {
   "cell_type": "code",
   "execution_count": 1397,
   "outputs": [],
   "source": [
    "# Save this dataframe to a csv - Don't want to run the geopy code again - took about 40 minutes\n",
    "# properties2.to_csv('properties2.csv', index=False)"
   ],
   "metadata": {
    "collapsed": false
   }
  },
  {
   "cell_type": "code",
   "execution_count": 1542,
   "outputs": [],
   "source": [
    "# Function to add rows where the value of postcode outcode is known\n",
    "def get_outcode_from_gcode(locationObj):\n",
    "    if locationObj != None:\n",
    "        return locationObj.address.split()[-4]\n",
    "    else:\n",
    "        return None"
   ],
   "metadata": {
    "collapsed": false
   }
  },
  {
   "cell_type": "code",
   "execution_count": 1543,
   "outputs": [],
   "source": [
    "# Create a column of outcodes that have been retrieved via the geocode method\n",
    "properties2['outcode_from_gcode'] = properties2['gcode'].apply(get_outcode_from_gcode)"
   ],
   "metadata": {
    "collapsed": false
   }
  },
  {
   "cell_type": "code",
   "execution_count": 1544,
   "outputs": [
    {
     "data": {
      "text/plain": "                                                 url  \\\n0  https://www.rightmove.co.uk/properties/1315844...   \n1  https://www.rightmove.co.uk/properties/8604795...   \n2  https://www.rightmove.co.uk/properties/1326138...   \n3  https://www.rightmove.co.uk/properties/1311469...   \n4  https://www.rightmove.co.uk/properties/1322668...   \n\n                               address property_type  bedrooms  bathrooms  \\\n0                  Queen Square, Leeds      Detached         5          2   \n1  Archery Road, Leeds, West Yorkshire      Terraced         5          1   \n2                Hanover Square, Leeds      Terraced         6          3   \n3  Burley Wood Crescent, Burley, LEEDS      Terraced         3          1   \n4    The Village Street, Burley, Leeds      Detached         5          2   \n\n     tenure  nearest_station   price                      cleaned_address  \\\n0  Freehold              0.7  550000                  Queen Square, Leeds   \n1  Freehold              1.0  325000  Archery Road, Leeds, West Yorkshire   \n2  Freehold              0.8  450000                Hanover Square, Leeds   \n3  Freehold              0.5  220000  Burley Wood Crescent, Burley, LEEDS   \n4  Freehold              0.2  325000    The Village Street, Burley, Leeds   \n\n                                               gcode outcode_from_gcode  \n0  (Queen Square, Arena Quarter, Lovell Park, Lee...         Yorkshire,  \n1  (Archery Road, Arena Quarter, Woodhouse, Leeds...                LS2  \n2  (Hanover Square, Hyde Park, Leeds, West Yorksh...                LS3  \n3  (Burley Wood Crescent, Burley, Leeds, West Yor...                LS4  \n4  (The Village Street, Burley, Leeds, West Yorks...                LS4  ",
      "text/html": "<div>\n<style scoped>\n    .dataframe tbody tr th:only-of-type {\n        vertical-align: middle;\n    }\n\n    .dataframe tbody tr th {\n        vertical-align: top;\n    }\n\n    .dataframe thead th {\n        text-align: right;\n    }\n</style>\n<table border=\"1\" class=\"dataframe\">\n  <thead>\n    <tr style=\"text-align: right;\">\n      <th></th>\n      <th>url</th>\n      <th>address</th>\n      <th>property_type</th>\n      <th>bedrooms</th>\n      <th>bathrooms</th>\n      <th>tenure</th>\n      <th>nearest_station</th>\n      <th>price</th>\n      <th>cleaned_address</th>\n      <th>gcode</th>\n      <th>outcode_from_gcode</th>\n    </tr>\n  </thead>\n  <tbody>\n    <tr>\n      <th>0</th>\n      <td>https://www.rightmove.co.uk/properties/1315844...</td>\n      <td>Queen Square, Leeds</td>\n      <td>Detached</td>\n      <td>5</td>\n      <td>2</td>\n      <td>Freehold</td>\n      <td>0.7</td>\n      <td>550000</td>\n      <td>Queen Square, Leeds</td>\n      <td>(Queen Square, Arena Quarter, Lovell Park, Lee...</td>\n      <td>Yorkshire,</td>\n    </tr>\n    <tr>\n      <th>1</th>\n      <td>https://www.rightmove.co.uk/properties/8604795...</td>\n      <td>Archery Road, Leeds, West Yorkshire</td>\n      <td>Terraced</td>\n      <td>5</td>\n      <td>1</td>\n      <td>Freehold</td>\n      <td>1.0</td>\n      <td>325000</td>\n      <td>Archery Road, Leeds, West Yorkshire</td>\n      <td>(Archery Road, Arena Quarter, Woodhouse, Leeds...</td>\n      <td>LS2</td>\n    </tr>\n    <tr>\n      <th>2</th>\n      <td>https://www.rightmove.co.uk/properties/1326138...</td>\n      <td>Hanover Square, Leeds</td>\n      <td>Terraced</td>\n      <td>6</td>\n      <td>3</td>\n      <td>Freehold</td>\n      <td>0.8</td>\n      <td>450000</td>\n      <td>Hanover Square, Leeds</td>\n      <td>(Hanover Square, Hyde Park, Leeds, West Yorksh...</td>\n      <td>LS3</td>\n    </tr>\n    <tr>\n      <th>3</th>\n      <td>https://www.rightmove.co.uk/properties/1311469...</td>\n      <td>Burley Wood Crescent, Burley, LEEDS</td>\n      <td>Terraced</td>\n      <td>3</td>\n      <td>1</td>\n      <td>Freehold</td>\n      <td>0.5</td>\n      <td>220000</td>\n      <td>Burley Wood Crescent, Burley, LEEDS</td>\n      <td>(Burley Wood Crescent, Burley, Leeds, West Yor...</td>\n      <td>LS4</td>\n    </tr>\n    <tr>\n      <th>4</th>\n      <td>https://www.rightmove.co.uk/properties/1322668...</td>\n      <td>The Village Street, Burley, Leeds</td>\n      <td>Detached</td>\n      <td>5</td>\n      <td>2</td>\n      <td>Freehold</td>\n      <td>0.2</td>\n      <td>325000</td>\n      <td>The Village Street, Burley, Leeds</td>\n      <td>(The Village Street, Burley, Leeds, West Yorks...</td>\n      <td>LS4</td>\n    </tr>\n  </tbody>\n</table>\n</div>"
     },
     "execution_count": 1544,
     "metadata": {},
     "output_type": "execute_result"
    }
   ],
   "source": [
    "# Observe the column outcode from gcode\n",
    "# Some error values as expected\n",
    "properties2.head()"
   ],
   "metadata": {
    "collapsed": false
   }
  },
  {
   "cell_type": "code",
   "execution_count": 1545,
   "outputs": [
    {
     "data": {
      "text/plain": "                    null  percent\ngcode               1315   28.825\noutcode_from_gcode  1315   28.825\nurl                    0    0.000\naddress                0    0.000\nproperty_type          0    0.000\nbedrooms               0    0.000\nbathrooms              0    0.000\ntenure                 0    0.000\nnearest_station        0    0.000\nprice                  0    0.000\ncleaned_address        0    0.000",
      "text/html": "<div>\n<style scoped>\n    .dataframe tbody tr th:only-of-type {\n        vertical-align: middle;\n    }\n\n    .dataframe tbody tr th {\n        vertical-align: top;\n    }\n\n    .dataframe thead th {\n        text-align: right;\n    }\n</style>\n<table border=\"1\" class=\"dataframe\">\n  <thead>\n    <tr style=\"text-align: right;\">\n      <th></th>\n      <th>null</th>\n      <th>percent</th>\n    </tr>\n  </thead>\n  <tbody>\n    <tr>\n      <th>gcode</th>\n      <td>1315</td>\n      <td>28.825</td>\n    </tr>\n    <tr>\n      <th>outcode_from_gcode</th>\n      <td>1315</td>\n      <td>28.825</td>\n    </tr>\n    <tr>\n      <th>url</th>\n      <td>0</td>\n      <td>0.000</td>\n    </tr>\n    <tr>\n      <th>address</th>\n      <td>0</td>\n      <td>0.000</td>\n    </tr>\n    <tr>\n      <th>property_type</th>\n      <td>0</td>\n      <td>0.000</td>\n    </tr>\n    <tr>\n      <th>bedrooms</th>\n      <td>0</td>\n      <td>0.000</td>\n    </tr>\n    <tr>\n      <th>bathrooms</th>\n      <td>0</td>\n      <td>0.000</td>\n    </tr>\n    <tr>\n      <th>tenure</th>\n      <td>0</td>\n      <td>0.000</td>\n    </tr>\n    <tr>\n      <th>nearest_station</th>\n      <td>0</td>\n      <td>0.000</td>\n    </tr>\n    <tr>\n      <th>price</th>\n      <td>0</td>\n      <td>0.000</td>\n    </tr>\n    <tr>\n      <th>cleaned_address</th>\n      <td>0</td>\n      <td>0.000</td>\n    </tr>\n  </tbody>\n</table>\n</div>"
     },
     "execution_count": 1545,
     "metadata": {},
     "output_type": "execute_result"
    }
   ],
   "source": [
    "# The number of nulls for the outcode_from_gcode column will be the same as that for the number of nulls for gcode\n",
    "null_vals(properties2)"
   ],
   "metadata": {
    "collapsed": false
   }
  },
  {
   "cell_type": "markdown",
   "source": [
    "## Create a column of outcodes acquired from the address"
   ],
   "metadata": {
    "collapsed": false
   }
  },
  {
   "cell_type": "code",
   "execution_count": 1551,
   "outputs": [],
   "source": [
    "def find_postcodes_in_address(data):\n",
    "    \"\"\"\n",
    "    A function that finds the outcode from the address\n",
    "    :param data: A dataframe to apply the match_postcode_in_address() function to\n",
    "    :return: A dataframe with an outcode_from_address column and value for each row\n",
    "    \"\"\"\n",
    "    data['outcode_address'] = data.apply(match_postcodes_in_address, axis=1)\n",
    "    return data"
   ],
   "metadata": {
    "collapsed": false
   }
  },
  {
   "cell_type": "code",
   "execution_count": 1552,
   "outputs": [],
   "source": [
    "def match_postcodes_in_address(row):\n",
    "    \"\"\"\n",
    "    Function to see if the cleaned address column for rows has an outcode\n",
    "    Then return that outcode and assign it to the row\n",
    "    :param row: A row of a dataframe\n",
    "    :return 1 or NaN: Returns the outcode for an address if it contains one, otherwise returns None\n",
    "    \"\"\"\n",
    "    address = row['cleaned_address']\n",
    "\n",
    "    # Regexes for outcodes for leeds, huddersfield\n",
    "    outcode_regexes = [r'LS\\d{1,2}', r'HD\\d{1,2}', r'HX\\d{1,2}', r'WF\\d{1,2}', r'BD\\d{1,2}']\n",
    "\n",
    "    ldsmatch = re.findall(outcode_regexes[0], address)\n",
    "    hudsmatch = re.findall(outcode_regexes[1], address)\n",
    "    hfxmatch = re.findall(outcode_regexes[2], address)\n",
    "    wfmatch = re.findall(outcode_regexes[3], address)\n",
    "    bdmatch = re.findall(outcode_regexes[4], address)\n",
    "\n",
    "    if ldsmatch:\n",
    "        return ldsmatch[0]\n",
    "    elif hudsmatch:\n",
    "        return hudsmatch[0]\n",
    "    elif hfxmatch:\n",
    "        return  hfxmatch[0]\n",
    "    elif wfmatch:\n",
    "        return wfmatch[0]\n",
    "    elif bdmatch:\n",
    "        return bdmatch[0]\n",
    "    else:\n",
    "        return None"
   ],
   "metadata": {
    "collapsed": false
   }
  },
  {
   "cell_type": "code",
   "execution_count": 1553,
   "outputs": [],
   "source": [
    "# Let's see if I can reduce the number of null outcodes\n",
    "properties2 = find_postcodes_in_address(properties2)"
   ],
   "metadata": {
    "collapsed": false
   }
  },
  {
   "cell_type": "code",
   "execution_count": 1557,
   "outputs": [
    {
     "data": {
      "text/plain": "                                                    url  \\\n8     https://www.rightmove.co.uk/properties/1285506...   \n11    https://www.rightmove.co.uk/properties/1327622...   \n12    https://www.rightmove.co.uk/properties/1317795...   \n17    https://www.rightmove.co.uk/properties/1328079...   \n19    https://www.rightmove.co.uk/properties/1311390...   \n...                                                 ...   \n4557  https://www.rightmove.co.uk/properties/1328121...   \n4558  https://www.rightmove.co.uk/properties/1328843...   \n4559  https://www.rightmove.co.uk/properties/1281187...   \n4560  https://www.rightmove.co.uk/properties/1328625...   \n4561  https://www.rightmove.co.uk/properties/1265926...   \n\n                                                address  property_type  \\\n8             Lumley Avenue, Leeds, West Yorkshire, LS4       Terraced   \n11                      Kirkstall Road, Leeds, LS4 2QD   Semi-Detached   \n12                 Burley Wood Crescent, Leeds, LS4 2QQ       Terraced   \n17                            Haddon Avenue, Leeds, LS4       Terraced   \n19                             Morris Grove, Leeds, LS5       Terraced   \n...                                                 ...            ...   \n4557  Royds Avenue, New Mill, Holmfirth, West Yorksh...       Terraced   \n4558  Greenhill Bank Road, New Mill, Holmfirth, West...       Terraced   \n4559  Thick Hollins, Meltham, Holmfirth, West Yorksh...       Terraced   \n4560  Holmclose, Holmbridge, Holmfirth, West Yorkshi...  Semi-Detached   \n4561                France Hill, Honley, Holmfirth, HD9       Terraced   \n\n      bedrooms  bathrooms    tenure  nearest_station   price  \\\n8            4          2  Freehold              0.1  250000   \n11           3          1  Freehold              0.6  235000   \n12           3          1  Freehold              0.5  230000   \n17           2          1  Freehold              0.4  180000   \n19           2          1  Freehold              0.2  240000   \n...        ...        ...       ...              ...     ...   \n4557         3          1  Freehold              1.5  160000   \n4558         2          1  Freehold              1.6  150000   \n4559         2          1  Freehold              2.8  150000   \n4560         2          1  Freehold              3.4  150000   \n4561         2          1  Freehold              0.5  148000   \n\n                                        cleaned_address  \\\n8             Lumley Avenue, Leeds, West Yorkshire, LS4   \n11                       Kirkstall Road, Leeds, LS4 2QD   \n12                 Burley Wood Crescent, Leeds, LS4 2QQ   \n17                            Haddon Avenue, Leeds, LS4   \n19                             Morris Grove, Leeds, LS5   \n...                                                 ...   \n4557  Royds Avenue, New Mill, Holmfirth, West Yorksh...   \n4558  Greenhill Bank Road, New Mill, Holmfirth, West...   \n4559  Thick Hollins, Meltham, Holmfirth, West Yorksh...   \n4560  Holmclose, Holmbridge, Holmfirth, West Yorkshi...   \n4561                France Hill, Honley, Holmfirth, HD9   \n\n                                                  gcode outcode_from_gcode  \\\n8     (Lumley Avenue, Burley, Leeds, West Yorkshire,...                LS4   \n11    (Kirkstall Road, Burley, Leeds, West Yorkshire...                LS4   \n12    (Burley Wood Crescent, Burley, Leeds, West Yor...                LS4   \n17    (Haddon Avenue, Burley, Leeds, West Yorkshire,...                LS4   \n19    (Morris Grove, Kirkstall, Leeds, West Yorkshir...                LS5   \n...                                                 ...                ...   \n4557                                               None               None   \n4558                                               None               None   \n4559                                               None               None   \n4560                                               None               None   \n4561                                               None               None   \n\n     outcode_address  \n8                LS4  \n11               LS4  \n12               LS4  \n17               LS4  \n19               LS5  \n...              ...  \n4557             HD9  \n4558             HD9  \n4559             HD9  \n4560             HD9  \n4561             HD9  \n\n[2006 rows x 12 columns]",
      "text/html": "<div>\n<style scoped>\n    .dataframe tbody tr th:only-of-type {\n        vertical-align: middle;\n    }\n\n    .dataframe tbody tr th {\n        vertical-align: top;\n    }\n\n    .dataframe thead th {\n        text-align: right;\n    }\n</style>\n<table border=\"1\" class=\"dataframe\">\n  <thead>\n    <tr style=\"text-align: right;\">\n      <th></th>\n      <th>url</th>\n      <th>address</th>\n      <th>property_type</th>\n      <th>bedrooms</th>\n      <th>bathrooms</th>\n      <th>tenure</th>\n      <th>nearest_station</th>\n      <th>price</th>\n      <th>cleaned_address</th>\n      <th>gcode</th>\n      <th>outcode_from_gcode</th>\n      <th>outcode_address</th>\n    </tr>\n  </thead>\n  <tbody>\n    <tr>\n      <th>8</th>\n      <td>https://www.rightmove.co.uk/properties/1285506...</td>\n      <td>Lumley Avenue, Leeds, West Yorkshire, LS4</td>\n      <td>Terraced</td>\n      <td>4</td>\n      <td>2</td>\n      <td>Freehold</td>\n      <td>0.1</td>\n      <td>250000</td>\n      <td>Lumley Avenue, Leeds, West Yorkshire, LS4</td>\n      <td>(Lumley Avenue, Burley, Leeds, West Yorkshire,...</td>\n      <td>LS4</td>\n      <td>LS4</td>\n    </tr>\n    <tr>\n      <th>11</th>\n      <td>https://www.rightmove.co.uk/properties/1327622...</td>\n      <td>Kirkstall Road, Leeds, LS4 2QD</td>\n      <td>Semi-Detached</td>\n      <td>3</td>\n      <td>1</td>\n      <td>Freehold</td>\n      <td>0.6</td>\n      <td>235000</td>\n      <td>Kirkstall Road, Leeds, LS4 2QD</td>\n      <td>(Kirkstall Road, Burley, Leeds, West Yorkshire...</td>\n      <td>LS4</td>\n      <td>LS4</td>\n    </tr>\n    <tr>\n      <th>12</th>\n      <td>https://www.rightmove.co.uk/properties/1317795...</td>\n      <td>Burley Wood Crescent, Leeds, LS4 2QQ</td>\n      <td>Terraced</td>\n      <td>3</td>\n      <td>1</td>\n      <td>Freehold</td>\n      <td>0.5</td>\n      <td>230000</td>\n      <td>Burley Wood Crescent, Leeds, LS4 2QQ</td>\n      <td>(Burley Wood Crescent, Burley, Leeds, West Yor...</td>\n      <td>LS4</td>\n      <td>LS4</td>\n    </tr>\n    <tr>\n      <th>17</th>\n      <td>https://www.rightmove.co.uk/properties/1328079...</td>\n      <td>Haddon Avenue, Leeds, LS4</td>\n      <td>Terraced</td>\n      <td>2</td>\n      <td>1</td>\n      <td>Freehold</td>\n      <td>0.4</td>\n      <td>180000</td>\n      <td>Haddon Avenue, Leeds, LS4</td>\n      <td>(Haddon Avenue, Burley, Leeds, West Yorkshire,...</td>\n      <td>LS4</td>\n      <td>LS4</td>\n    </tr>\n    <tr>\n      <th>19</th>\n      <td>https://www.rightmove.co.uk/properties/1311390...</td>\n      <td>Morris Grove, Leeds, LS5</td>\n      <td>Terraced</td>\n      <td>2</td>\n      <td>1</td>\n      <td>Freehold</td>\n      <td>0.2</td>\n      <td>240000</td>\n      <td>Morris Grove, Leeds, LS5</td>\n      <td>(Morris Grove, Kirkstall, Leeds, West Yorkshir...</td>\n      <td>LS5</td>\n      <td>LS5</td>\n    </tr>\n    <tr>\n      <th>...</th>\n      <td>...</td>\n      <td>...</td>\n      <td>...</td>\n      <td>...</td>\n      <td>...</td>\n      <td>...</td>\n      <td>...</td>\n      <td>...</td>\n      <td>...</td>\n      <td>...</td>\n      <td>...</td>\n      <td>...</td>\n    </tr>\n    <tr>\n      <th>4557</th>\n      <td>https://www.rightmove.co.uk/properties/1328121...</td>\n      <td>Royds Avenue, New Mill, Holmfirth, West Yorksh...</td>\n      <td>Terraced</td>\n      <td>3</td>\n      <td>1</td>\n      <td>Freehold</td>\n      <td>1.5</td>\n      <td>160000</td>\n      <td>Royds Avenue, New Mill, Holmfirth, West Yorksh...</td>\n      <td>None</td>\n      <td>None</td>\n      <td>HD9</td>\n    </tr>\n    <tr>\n      <th>4558</th>\n      <td>https://www.rightmove.co.uk/properties/1328843...</td>\n      <td>Greenhill Bank Road, New Mill, Holmfirth, West...</td>\n      <td>Terraced</td>\n      <td>2</td>\n      <td>1</td>\n      <td>Freehold</td>\n      <td>1.6</td>\n      <td>150000</td>\n      <td>Greenhill Bank Road, New Mill, Holmfirth, West...</td>\n      <td>None</td>\n      <td>None</td>\n      <td>HD9</td>\n    </tr>\n    <tr>\n      <th>4559</th>\n      <td>https://www.rightmove.co.uk/properties/1281187...</td>\n      <td>Thick Hollins, Meltham, Holmfirth, West Yorksh...</td>\n      <td>Terraced</td>\n      <td>2</td>\n      <td>1</td>\n      <td>Freehold</td>\n      <td>2.8</td>\n      <td>150000</td>\n      <td>Thick Hollins, Meltham, Holmfirth, West Yorksh...</td>\n      <td>None</td>\n      <td>None</td>\n      <td>HD9</td>\n    </tr>\n    <tr>\n      <th>4560</th>\n      <td>https://www.rightmove.co.uk/properties/1328625...</td>\n      <td>Holmclose, Holmbridge, Holmfirth, West Yorkshi...</td>\n      <td>Semi-Detached</td>\n      <td>2</td>\n      <td>1</td>\n      <td>Freehold</td>\n      <td>3.4</td>\n      <td>150000</td>\n      <td>Holmclose, Holmbridge, Holmfirth, West Yorkshi...</td>\n      <td>None</td>\n      <td>None</td>\n      <td>HD9</td>\n    </tr>\n    <tr>\n      <th>4561</th>\n      <td>https://www.rightmove.co.uk/properties/1265926...</td>\n      <td>France Hill, Honley, Holmfirth, HD9</td>\n      <td>Terraced</td>\n      <td>2</td>\n      <td>1</td>\n      <td>Freehold</td>\n      <td>0.5</td>\n      <td>148000</td>\n      <td>France Hill, Honley, Holmfirth, HD9</td>\n      <td>None</td>\n      <td>None</td>\n      <td>HD9</td>\n    </tr>\n  </tbody>\n</table>\n<p>2006 rows × 12 columns</p>\n</div>"
     },
     "execution_count": 1557,
     "metadata": {},
     "output_type": "execute_result"
    }
   ],
   "source": [
    "# Rows where the outcode was also located within the address\n",
    "# 2002 rows\n",
    "properties2[properties2['outcode_address'].notna()]"
   ],
   "metadata": {
    "collapsed": false
   }
  },
  {
   "cell_type": "code",
   "execution_count": 1581,
   "outputs": [
    {
     "data": {
      "text/plain": "                    null  percent\noutcode_address     2556   56.028\ngcode               1315   28.825\noutcode_from_gcode  1315   28.825\nurl                    0    0.000\naddress                0    0.000\nproperty_type          0    0.000\nbedrooms               0    0.000\nbathrooms              0    0.000\ntenure                 0    0.000\nnearest_station        0    0.000\nprice                  0    0.000\ncleaned_address        0    0.000",
      "text/html": "<div>\n<style scoped>\n    .dataframe tbody tr th:only-of-type {\n        vertical-align: middle;\n    }\n\n    .dataframe tbody tr th {\n        vertical-align: top;\n    }\n\n    .dataframe thead th {\n        text-align: right;\n    }\n</style>\n<table border=\"1\" class=\"dataframe\">\n  <thead>\n    <tr style=\"text-align: right;\">\n      <th></th>\n      <th>null</th>\n      <th>percent</th>\n    </tr>\n  </thead>\n  <tbody>\n    <tr>\n      <th>outcode_address</th>\n      <td>2556</td>\n      <td>56.028</td>\n    </tr>\n    <tr>\n      <th>gcode</th>\n      <td>1315</td>\n      <td>28.825</td>\n    </tr>\n    <tr>\n      <th>outcode_from_gcode</th>\n      <td>1315</td>\n      <td>28.825</td>\n    </tr>\n    <tr>\n      <th>url</th>\n      <td>0</td>\n      <td>0.000</td>\n    </tr>\n    <tr>\n      <th>address</th>\n      <td>0</td>\n      <td>0.000</td>\n    </tr>\n    <tr>\n      <th>property_type</th>\n      <td>0</td>\n      <td>0.000</td>\n    </tr>\n    <tr>\n      <th>bedrooms</th>\n      <td>0</td>\n      <td>0.000</td>\n    </tr>\n    <tr>\n      <th>bathrooms</th>\n      <td>0</td>\n      <td>0.000</td>\n    </tr>\n    <tr>\n      <th>tenure</th>\n      <td>0</td>\n      <td>0.000</td>\n    </tr>\n    <tr>\n      <th>nearest_station</th>\n      <td>0</td>\n      <td>0.000</td>\n    </tr>\n    <tr>\n      <th>price</th>\n      <td>0</td>\n      <td>0.000</td>\n    </tr>\n    <tr>\n      <th>cleaned_address</th>\n      <td>0</td>\n      <td>0.000</td>\n    </tr>\n  </tbody>\n</table>\n</div>"
     },
     "execution_count": 1581,
     "metadata": {},
     "output_type": "execute_result"
    }
   ],
   "source": [
    "# See the percentage of outcodes that were not able to be acquired from the address\n",
    "null_vals(properties2)"
   ],
   "metadata": {
    "collapsed": false
   }
  },
  {
   "cell_type": "code",
   "execution_count": 1582,
   "outputs": [],
   "source": [
    "properties3copy = properties2.copy()"
   ],
   "metadata": {
    "collapsed": false
   }
  },
  {
   "cell_type": "code",
   "execution_count": 1583,
   "outputs": [],
   "source": [
    "# If there are nulls for the outcode_address column but the value is present in the outcode_from_gcode column\n",
    "# Replace the null with the outcode from the outcode_from_gcode column\n",
    "properties3copy['outcode_address'] = properties3copy['outcode_address'].fillna(properties3copy['outcode_from_gcode'])"
   ],
   "metadata": {
    "collapsed": false
   }
  },
  {
   "cell_type": "code",
   "execution_count": 1584,
   "outputs": [
    {
     "data": {
      "text/plain": "                    null  percent\ngcode               1315   28.825\noutcode_from_gcode  1315   28.825\noutcode_address      553   12.122\nurl                    0    0.000\naddress                0    0.000\nproperty_type          0    0.000\nbedrooms               0    0.000\nbathrooms              0    0.000\ntenure                 0    0.000\nnearest_station        0    0.000\nprice                  0    0.000\ncleaned_address        0    0.000",
      "text/html": "<div>\n<style scoped>\n    .dataframe tbody tr th:only-of-type {\n        vertical-align: middle;\n    }\n\n    .dataframe tbody tr th {\n        vertical-align: top;\n    }\n\n    .dataframe thead th {\n        text-align: right;\n    }\n</style>\n<table border=\"1\" class=\"dataframe\">\n  <thead>\n    <tr style=\"text-align: right;\">\n      <th></th>\n      <th>null</th>\n      <th>percent</th>\n    </tr>\n  </thead>\n  <tbody>\n    <tr>\n      <th>gcode</th>\n      <td>1315</td>\n      <td>28.825</td>\n    </tr>\n    <tr>\n      <th>outcode_from_gcode</th>\n      <td>1315</td>\n      <td>28.825</td>\n    </tr>\n    <tr>\n      <th>outcode_address</th>\n      <td>553</td>\n      <td>12.122</td>\n    </tr>\n    <tr>\n      <th>url</th>\n      <td>0</td>\n      <td>0.000</td>\n    </tr>\n    <tr>\n      <th>address</th>\n      <td>0</td>\n      <td>0.000</td>\n    </tr>\n    <tr>\n      <th>property_type</th>\n      <td>0</td>\n      <td>0.000</td>\n    </tr>\n    <tr>\n      <th>bedrooms</th>\n      <td>0</td>\n      <td>0.000</td>\n    </tr>\n    <tr>\n      <th>bathrooms</th>\n      <td>0</td>\n      <td>0.000</td>\n    </tr>\n    <tr>\n      <th>tenure</th>\n      <td>0</td>\n      <td>0.000</td>\n    </tr>\n    <tr>\n      <th>nearest_station</th>\n      <td>0</td>\n      <td>0.000</td>\n    </tr>\n    <tr>\n      <th>price</th>\n      <td>0</td>\n      <td>0.000</td>\n    </tr>\n    <tr>\n      <th>cleaned_address</th>\n      <td>0</td>\n      <td>0.000</td>\n    </tr>\n  </tbody>\n</table>\n</div>"
     },
     "execution_count": 1584,
     "metadata": {},
     "output_type": "execute_result"
    }
   ],
   "source": [
    "# Check the number of nulls that are now remaining in the outcode_address column\n",
    "null_vals(properties3copy)"
   ],
   "metadata": {
    "collapsed": false
   }
  },
  {
   "cell_type": "code",
   "execution_count": 1586,
   "outputs": [
    {
     "data": {
      "text/plain": "WF4               141\nWF2               136\nLS15              119\nLS25              103\nWF10              102\n                 ... \nHX37                1\nS5                  1\nB37                 1\nMassachusetts,      1\nL23                 1\nName: outcode_address, Length: 99, dtype: int64"
     },
     "execution_count": 1586,
     "metadata": {},
     "output_type": "execute_result"
    }
   ],
   "source": [
    "# Can see that geocode hasn't been perfect in getting the postcode\n",
    "properties3copy['outcode_address'].value_counts()"
   ],
   "metadata": {
    "collapsed": false
   }
  },
  {
   "cell_type": "markdown",
   "source": [
    "## Manually fix listings that have the incorrect outcode by looking at the map section of the listing online on rightmove site"
   ],
   "metadata": {
    "collapsed": false
   }
  },
  {
   "cell_type": "code",
   "execution_count": 1587,
   "outputs": [
    {
     "data": {
      "text/plain": "                                                    url  \\\n0     https://www.rightmove.co.uk/properties/1315844...   \n446   https://www.rightmove.co.uk/properties/1302277...   \n521   https://www.rightmove.co.uk/properties/1253795...   \n535   https://www.rightmove.co.uk/properties/1327336...   \n1210  https://www.rightmove.co.uk/properties/1316095...   \n1790  https://www.rightmove.co.uk/properties/1319254...   \n2459  https://www.rightmove.co.uk/properties/1325134...   \n2943  https://www.rightmove.co.uk/properties/1323724...   \n3315  https://www.rightmove.co.uk/properties/1322764...   \n3321  https://www.rightmove.co.uk/properties/1289001...   \n3335  https://www.rightmove.co.uk/properties/1326426...   \n3374  https://www.rightmove.co.uk/properties/1310692...   \n\n                               address  property_type  bedrooms  bathrooms  \\\n0                  Queen Square, Leeds       Detached         5          2   \n446                  The Rowans, Leeds       Detached         4          2   \n521           Ringwood Crescent, Leeds  Semi-Detached         4          2   \n535                    The Oval, Leeds  Semi-Detached         3          2   \n1210     Embleton Road, Methley, LEEDS  Semi-Detached         3          1   \n1790             Yewdall Way, Bradford  Semi-Detached         3          1   \n2459  Victoria Way, Outwood, Wakefield  Semi-Detached         3          1   \n2943               Teall Court, Ossett       Detached         3          1   \n3315      Churchfield Lane, Castleford       Detached         5          1   \n3321      Churchfield Lane, Castleford       Detached         3          1   \n3335          Church Garth, Castleford  Semi-Detached         5          1   \n3374      Churchfield Lane, Castleford       Terraced         3          1   \n\n        tenure  nearest_station   price                   cleaned_address  \\\n0     Freehold              0.7  550000               Queen Square, Leeds   \n446   Freehold              0.8  300000                 The Rowans, Leeds   \n521   Freehold              2.3  340000          Ringwood Crescent, Leeds   \n535   Freehold              0.9  240000                   The Oval, Leeds   \n1210  Freehold              2.1  210000     Embleton Road, Methley, LEEDS   \n1790  Freehold              1.3  170000             Yewdall Way, Bradford   \n2459  Freehold              0.7  220000  Victoria Way, Outwood, Wakefield   \n2943  Freehold              2.2  279950               Teall Court, Ossett   \n3315  Freehold              0.6  280000      Churchfield Lane, Castleford   \n3321  Freehold              0.8  270000      Churchfield Lane, Castleford   \n3335  Freehold              0.6  250000          Church Garth, Castleford   \n3374  Freehold              0.8  150000      Churchfield Lane, Castleford   \n\n                                                  gcode outcode_from_gcode  \\\n0     (Queen Square, Arena Quarter, Lovell Park, Lee...         Yorkshire,   \n446   (The Rowans, Howlett Cross, Robin Hood, Leeds,...         Yorkshire,   \n521   (Ringwood Crescent, Monkswood, Leeds, West Yor...         Yorkshire,   \n535   (The Oval, White Cross, Tranmere Park, Guisele...         Yorkshire,   \n1210  (Embleton Road, Methley Junction, Leeds, West ...         Yorkshire,   \n1790  (Yewdall Way, Eccleshill, Bradford, West Yorks...         Yorkshire,   \n2459  (Victoria Way, Outwood, Newton Hill, Wakefield...         Yorkshire,   \n2943  (Teall Court, Ossett, Wakefield, West Yorkshir...         Yorkshire,   \n3315  (Churchfield Lane, Glasshoughton, Castleford, ...         Yorkshire,   \n3321  (Churchfield Lane, Glasshoughton, Castleford, ...         Yorkshire,   \n3335  (Church Garth, Glasshoughton, Castleford, Wake...         Yorkshire,   \n3374  (Churchfield Lane, Glasshoughton, Castleford, ...         Yorkshire,   \n\n     outcode_address  \n0         Yorkshire,  \n446       Yorkshire,  \n521       Yorkshire,  \n535       Yorkshire,  \n1210      Yorkshire,  \n1790      Yorkshire,  \n2459      Yorkshire,  \n2943      Yorkshire,  \n3315      Yorkshire,  \n3321      Yorkshire,  \n3335      Yorkshire,  \n3374      Yorkshire,  ",
      "text/html": "<div>\n<style scoped>\n    .dataframe tbody tr th:only-of-type {\n        vertical-align: middle;\n    }\n\n    .dataframe tbody tr th {\n        vertical-align: top;\n    }\n\n    .dataframe thead th {\n        text-align: right;\n    }\n</style>\n<table border=\"1\" class=\"dataframe\">\n  <thead>\n    <tr style=\"text-align: right;\">\n      <th></th>\n      <th>url</th>\n      <th>address</th>\n      <th>property_type</th>\n      <th>bedrooms</th>\n      <th>bathrooms</th>\n      <th>tenure</th>\n      <th>nearest_station</th>\n      <th>price</th>\n      <th>cleaned_address</th>\n      <th>gcode</th>\n      <th>outcode_from_gcode</th>\n      <th>outcode_address</th>\n    </tr>\n  </thead>\n  <tbody>\n    <tr>\n      <th>0</th>\n      <td>https://www.rightmove.co.uk/properties/1315844...</td>\n      <td>Queen Square, Leeds</td>\n      <td>Detached</td>\n      <td>5</td>\n      <td>2</td>\n      <td>Freehold</td>\n      <td>0.7</td>\n      <td>550000</td>\n      <td>Queen Square, Leeds</td>\n      <td>(Queen Square, Arena Quarter, Lovell Park, Lee...</td>\n      <td>Yorkshire,</td>\n      <td>Yorkshire,</td>\n    </tr>\n    <tr>\n      <th>446</th>\n      <td>https://www.rightmove.co.uk/properties/1302277...</td>\n      <td>The Rowans, Leeds</td>\n      <td>Detached</td>\n      <td>4</td>\n      <td>2</td>\n      <td>Freehold</td>\n      <td>0.8</td>\n      <td>300000</td>\n      <td>The Rowans, Leeds</td>\n      <td>(The Rowans, Howlett Cross, Robin Hood, Leeds,...</td>\n      <td>Yorkshire,</td>\n      <td>Yorkshire,</td>\n    </tr>\n    <tr>\n      <th>521</th>\n      <td>https://www.rightmove.co.uk/properties/1253795...</td>\n      <td>Ringwood Crescent, Leeds</td>\n      <td>Semi-Detached</td>\n      <td>4</td>\n      <td>2</td>\n      <td>Freehold</td>\n      <td>2.3</td>\n      <td>340000</td>\n      <td>Ringwood Crescent, Leeds</td>\n      <td>(Ringwood Crescent, Monkswood, Leeds, West Yor...</td>\n      <td>Yorkshire,</td>\n      <td>Yorkshire,</td>\n    </tr>\n    <tr>\n      <th>535</th>\n      <td>https://www.rightmove.co.uk/properties/1327336...</td>\n      <td>The Oval, Leeds</td>\n      <td>Semi-Detached</td>\n      <td>3</td>\n      <td>2</td>\n      <td>Freehold</td>\n      <td>0.9</td>\n      <td>240000</td>\n      <td>The Oval, Leeds</td>\n      <td>(The Oval, White Cross, Tranmere Park, Guisele...</td>\n      <td>Yorkshire,</td>\n      <td>Yorkshire,</td>\n    </tr>\n    <tr>\n      <th>1210</th>\n      <td>https://www.rightmove.co.uk/properties/1316095...</td>\n      <td>Embleton Road, Methley, LEEDS</td>\n      <td>Semi-Detached</td>\n      <td>3</td>\n      <td>1</td>\n      <td>Freehold</td>\n      <td>2.1</td>\n      <td>210000</td>\n      <td>Embleton Road, Methley, LEEDS</td>\n      <td>(Embleton Road, Methley Junction, Leeds, West ...</td>\n      <td>Yorkshire,</td>\n      <td>Yorkshire,</td>\n    </tr>\n    <tr>\n      <th>1790</th>\n      <td>https://www.rightmove.co.uk/properties/1319254...</td>\n      <td>Yewdall Way, Bradford</td>\n      <td>Semi-Detached</td>\n      <td>3</td>\n      <td>1</td>\n      <td>Freehold</td>\n      <td>1.3</td>\n      <td>170000</td>\n      <td>Yewdall Way, Bradford</td>\n      <td>(Yewdall Way, Eccleshill, Bradford, West Yorks...</td>\n      <td>Yorkshire,</td>\n      <td>Yorkshire,</td>\n    </tr>\n    <tr>\n      <th>2459</th>\n      <td>https://www.rightmove.co.uk/properties/1325134...</td>\n      <td>Victoria Way, Outwood, Wakefield</td>\n      <td>Semi-Detached</td>\n      <td>3</td>\n      <td>1</td>\n      <td>Freehold</td>\n      <td>0.7</td>\n      <td>220000</td>\n      <td>Victoria Way, Outwood, Wakefield</td>\n      <td>(Victoria Way, Outwood, Newton Hill, Wakefield...</td>\n      <td>Yorkshire,</td>\n      <td>Yorkshire,</td>\n    </tr>\n    <tr>\n      <th>2943</th>\n      <td>https://www.rightmove.co.uk/properties/1323724...</td>\n      <td>Teall Court, Ossett</td>\n      <td>Detached</td>\n      <td>3</td>\n      <td>1</td>\n      <td>Freehold</td>\n      <td>2.2</td>\n      <td>279950</td>\n      <td>Teall Court, Ossett</td>\n      <td>(Teall Court, Ossett, Wakefield, West Yorkshir...</td>\n      <td>Yorkshire,</td>\n      <td>Yorkshire,</td>\n    </tr>\n    <tr>\n      <th>3315</th>\n      <td>https://www.rightmove.co.uk/properties/1322764...</td>\n      <td>Churchfield Lane, Castleford</td>\n      <td>Detached</td>\n      <td>5</td>\n      <td>1</td>\n      <td>Freehold</td>\n      <td>0.6</td>\n      <td>280000</td>\n      <td>Churchfield Lane, Castleford</td>\n      <td>(Churchfield Lane, Glasshoughton, Castleford, ...</td>\n      <td>Yorkshire,</td>\n      <td>Yorkshire,</td>\n    </tr>\n    <tr>\n      <th>3321</th>\n      <td>https://www.rightmove.co.uk/properties/1289001...</td>\n      <td>Churchfield Lane, Castleford</td>\n      <td>Detached</td>\n      <td>3</td>\n      <td>1</td>\n      <td>Freehold</td>\n      <td>0.8</td>\n      <td>270000</td>\n      <td>Churchfield Lane, Castleford</td>\n      <td>(Churchfield Lane, Glasshoughton, Castleford, ...</td>\n      <td>Yorkshire,</td>\n      <td>Yorkshire,</td>\n    </tr>\n    <tr>\n      <th>3335</th>\n      <td>https://www.rightmove.co.uk/properties/1326426...</td>\n      <td>Church Garth, Castleford</td>\n      <td>Semi-Detached</td>\n      <td>5</td>\n      <td>1</td>\n      <td>Freehold</td>\n      <td>0.6</td>\n      <td>250000</td>\n      <td>Church Garth, Castleford</td>\n      <td>(Church Garth, Glasshoughton, Castleford, Wake...</td>\n      <td>Yorkshire,</td>\n      <td>Yorkshire,</td>\n    </tr>\n    <tr>\n      <th>3374</th>\n      <td>https://www.rightmove.co.uk/properties/1310692...</td>\n      <td>Churchfield Lane, Castleford</td>\n      <td>Terraced</td>\n      <td>3</td>\n      <td>1</td>\n      <td>Freehold</td>\n      <td>0.8</td>\n      <td>150000</td>\n      <td>Churchfield Lane, Castleford</td>\n      <td>(Churchfield Lane, Glasshoughton, Castleford, ...</td>\n      <td>Yorkshire,</td>\n      <td>Yorkshire,</td>\n    </tr>\n  </tbody>\n</table>\n</div>"
     },
     "execution_count": 1587,
     "metadata": {},
     "output_type": "execute_result"
    }
   ],
   "source": [
    "# Correct those that have incorrectly been identified as Yorkshire for the outcode\n",
    "properties3copy[properties3copy['outcode_address'] == 'Yorkshire,']"
   ],
   "metadata": {
    "collapsed": false
   }
  },
  {
   "cell_type": "code",
   "execution_count": 1588,
   "outputs": [],
   "source": [
    "# Corrections for when the address has been incorrectly noted as Yorkshire\n",
    "properties3copy.at[0, 'outcode_address'] = 'LS2'\n",
    "properties3copy.at[446, 'outcode_address'] = 'LS13'\n",
    "properties3copy.at[521, 'outcode_address'] = 'LS14'\n",
    "properties3copy.at[535, 'outcode_address'] = 'LS14'\n",
    "properties3copy.at[1210, 'outcode_address'] = 'LS26'\n",
    "properties3copy.at[1790, 'outcode_address'] = 'BD10'\n",
    "properties3copy.at[2459, 'outcode_address'] = 'WF1'\n",
    "properties3copy.at[2943, 'outcode_address'] = 'WF5'\n",
    "properties3copy.at[3315, 'outcode_address'] = 'WF10'\n",
    "properties3copy.at[3321, 'outcode_address'] = 'WF10'\n",
    "properties3copy.at[3335, 'outcode_address'] = 'WF10'\n",
    "properties3copy.at[3374, 'outcode_address'] = 'WF10'"
   ],
   "metadata": {
    "collapsed": false
   }
  },
  {
   "cell_type": "code",
   "execution_count": 1589,
   "outputs": [
    {
     "data": {
      "text/plain": "Empty DataFrame\nColumns: [url, address, property_type, bedrooms, bathrooms, tenure, nearest_station, price, cleaned_address, gcode, outcode_from_gcode, outcode_address]\nIndex: []",
      "text/html": "<div>\n<style scoped>\n    .dataframe tbody tr th:only-of-type {\n        vertical-align: middle;\n    }\n\n    .dataframe tbody tr th {\n        vertical-align: top;\n    }\n\n    .dataframe thead th {\n        text-align: right;\n    }\n</style>\n<table border=\"1\" class=\"dataframe\">\n  <thead>\n    <tr style=\"text-align: right;\">\n      <th></th>\n      <th>url</th>\n      <th>address</th>\n      <th>property_type</th>\n      <th>bedrooms</th>\n      <th>bathrooms</th>\n      <th>tenure</th>\n      <th>nearest_station</th>\n      <th>price</th>\n      <th>cleaned_address</th>\n      <th>gcode</th>\n      <th>outcode_from_gcode</th>\n      <th>outcode_address</th>\n    </tr>\n  </thead>\n  <tbody>\n  </tbody>\n</table>\n</div>"
     },
     "execution_count": 1589,
     "metadata": {},
     "output_type": "execute_result"
    }
   ],
   "source": [
    "# Check this has been corrected properly\n",
    "properties3copy[properties3copy['outcode_address'] == 'Yorkshire,']"
   ],
   "metadata": {
    "collapsed": false
   }
  },
  {
   "cell_type": "code",
   "execution_count": 1593,
   "outputs": [
    {
     "data": {
      "text/plain": "                                                    url  \\\n1886  https://www.rightmove.co.uk/properties/1259277...   \n1887  https://www.rightmove.co.uk/properties/1259277...   \n\n                     address  property_type  bedrooms  bathrooms    tenure  \\\n1886  2 Brambleside Crescent  Semi-Detached         4          2  Freehold   \n1887           6 Brambleside  Semi-Detached         4          3  Freehold   \n\n      nearest_station   price         cleaned_address  \\\n1886              3.8  249950  2 Brambleside Crescent   \n1887              3.8  249950           6 Brambleside   \n\n                                                  gcode outcode_from_gcode  \\\n1886  (2, Gardeners Crescent, Brambleside, Kettering...               NN16   \n1887  (6, Brambleside, Kettering, North Northamptons...               NN16   \n\n     outcode_address  \n1886            NN16  \n1887            NN16  ",
      "text/html": "<div>\n<style scoped>\n    .dataframe tbody tr th:only-of-type {\n        vertical-align: middle;\n    }\n\n    .dataframe tbody tr th {\n        vertical-align: top;\n    }\n\n    .dataframe thead th {\n        text-align: right;\n    }\n</style>\n<table border=\"1\" class=\"dataframe\">\n  <thead>\n    <tr style=\"text-align: right;\">\n      <th></th>\n      <th>url</th>\n      <th>address</th>\n      <th>property_type</th>\n      <th>bedrooms</th>\n      <th>bathrooms</th>\n      <th>tenure</th>\n      <th>nearest_station</th>\n      <th>price</th>\n      <th>cleaned_address</th>\n      <th>gcode</th>\n      <th>outcode_from_gcode</th>\n      <th>outcode_address</th>\n    </tr>\n  </thead>\n  <tbody>\n    <tr>\n      <th>1886</th>\n      <td>https://www.rightmove.co.uk/properties/1259277...</td>\n      <td>2 Brambleside Crescent</td>\n      <td>Semi-Detached</td>\n      <td>4</td>\n      <td>2</td>\n      <td>Freehold</td>\n      <td>3.8</td>\n      <td>249950</td>\n      <td>2 Brambleside Crescent</td>\n      <td>(2, Gardeners Crescent, Brambleside, Kettering...</td>\n      <td>NN16</td>\n      <td>NN16</td>\n    </tr>\n    <tr>\n      <th>1887</th>\n      <td>https://www.rightmove.co.uk/properties/1259277...</td>\n      <td>6 Brambleside</td>\n      <td>Semi-Detached</td>\n      <td>4</td>\n      <td>3</td>\n      <td>Freehold</td>\n      <td>3.8</td>\n      <td>249950</td>\n      <td>6 Brambleside</td>\n      <td>(6, Brambleside, Kettering, North Northamptons...</td>\n      <td>NN16</td>\n      <td>NN16</td>\n    </tr>\n  </tbody>\n</table>\n</div>"
     },
     "execution_count": 1593,
     "metadata": {},
     "output_type": "execute_result"
    }
   ],
   "source": [
    "# Other things that aren't correct\n",
    "# NN16\n",
    "# S75\n",
    "# G12\n",
    "# SK15\n",
    "# LA2\n",
    "# South\n",
    "# DE7\n",
    "# \"Corporation,\"\n",
    "# HX37\n",
    "# S5\n",
    "# B37\n",
    "# \"Massachusetts,\"\n",
    "# L23\n",
    "\n",
    "properties3copy[properties3copy['outcode_address'] == 'NN16']"
   ],
   "metadata": {
    "collapsed": false
   }
  },
  {
   "cell_type": "code",
   "execution_count": 1594,
   "outputs": [],
   "source": [
    "# Sort the properties above\n",
    "properties3copy.at[1886, 'outcode_address'] = 'BD13'\n",
    "properties3copy.at[1887, 'outcode_address'] = 'BD13'"
   ],
   "metadata": {
    "collapsed": false
   }
  },
  {
   "cell_type": "code",
   "execution_count": 1595,
   "outputs": [
    {
     "data": {
      "text/plain": "                                                    url  \\\n2477  https://www.rightmove.co.uk/properties/1244855...   \n2522  https://www.rightmove.co.uk/properties/1320303...   \n\n                       address  property_type  bedrooms  bathrooms    tenure  \\\n2477  Barnsley Road, Wakefield       Terraced         3          2  Freehold   \n2522  Barnsley Road, Wakefield  Semi-Detached         4          2  Freehold   \n\n      nearest_station   price           cleaned_address  \\\n2477              0.3  170000  Barnsley Road, Wakefield   \n2522              1.2  400000  Barnsley Road, Wakefield   \n\n                                                  gcode outcode_from_gcode  \\\n2477  (Barnsley Road, Notton, Woolley, Wakefield, We...                S75   \n2522  (Barnsley Road, Notton, Woolley, Wakefield, We...                S75   \n\n     outcode_address  \n2477             S75  \n2522             S75  ",
      "text/html": "<div>\n<style scoped>\n    .dataframe tbody tr th:only-of-type {\n        vertical-align: middle;\n    }\n\n    .dataframe tbody tr th {\n        vertical-align: top;\n    }\n\n    .dataframe thead th {\n        text-align: right;\n    }\n</style>\n<table border=\"1\" class=\"dataframe\">\n  <thead>\n    <tr style=\"text-align: right;\">\n      <th></th>\n      <th>url</th>\n      <th>address</th>\n      <th>property_type</th>\n      <th>bedrooms</th>\n      <th>bathrooms</th>\n      <th>tenure</th>\n      <th>nearest_station</th>\n      <th>price</th>\n      <th>cleaned_address</th>\n      <th>gcode</th>\n      <th>outcode_from_gcode</th>\n      <th>outcode_address</th>\n    </tr>\n  </thead>\n  <tbody>\n    <tr>\n      <th>2477</th>\n      <td>https://www.rightmove.co.uk/properties/1244855...</td>\n      <td>Barnsley Road, Wakefield</td>\n      <td>Terraced</td>\n      <td>3</td>\n      <td>2</td>\n      <td>Freehold</td>\n      <td>0.3</td>\n      <td>170000</td>\n      <td>Barnsley Road, Wakefield</td>\n      <td>(Barnsley Road, Notton, Woolley, Wakefield, We...</td>\n      <td>S75</td>\n      <td>S75</td>\n    </tr>\n    <tr>\n      <th>2522</th>\n      <td>https://www.rightmove.co.uk/properties/1320303...</td>\n      <td>Barnsley Road, Wakefield</td>\n      <td>Semi-Detached</td>\n      <td>4</td>\n      <td>2</td>\n      <td>Freehold</td>\n      <td>1.2</td>\n      <td>400000</td>\n      <td>Barnsley Road, Wakefield</td>\n      <td>(Barnsley Road, Notton, Woolley, Wakefield, We...</td>\n      <td>S75</td>\n      <td>S75</td>\n    </tr>\n  </tbody>\n</table>\n</div>"
     },
     "execution_count": 1595,
     "metadata": {},
     "output_type": "execute_result"
    }
   ],
   "source": [
    "properties3copy[properties3copy['outcode_address'] == 'S75']"
   ],
   "metadata": {
    "collapsed": false
   }
  },
  {
   "cell_type": "code",
   "execution_count": 1596,
   "outputs": [],
   "source": [
    "# Sort the properties above\n",
    "properties3copy.at[2477, 'outcode_address'] = 'WF1'\n",
    "properties3copy.at[2522, 'outcode_address'] = 'WF2'"
   ],
   "metadata": {
    "collapsed": false
   }
  },
  {
   "cell_type": "code",
   "execution_count": 1597,
   "outputs": [
    {
     "data": {
      "text/plain": "                                                    url               address  \\\n2551  https://www.rightmove.co.uk/properties/1300372...  Plot 2 Crown Gardens   \n\n      property_type  bedrooms  bathrooms    tenure  nearest_station   price  \\\n2551  Semi-Detached         3          2  Freehold              1.3  317500   \n\n           cleaned_address                                              gcode  \\\n2551  Plot 2 Crown Gardens  (Crown Gardens, Partickhill, Dowanhill, Glasgo...   \n\n     outcode_from_gcode outcode_address  \n2551                G12             G12  ",
      "text/html": "<div>\n<style scoped>\n    .dataframe tbody tr th:only-of-type {\n        vertical-align: middle;\n    }\n\n    .dataframe tbody tr th {\n        vertical-align: top;\n    }\n\n    .dataframe thead th {\n        text-align: right;\n    }\n</style>\n<table border=\"1\" class=\"dataframe\">\n  <thead>\n    <tr style=\"text-align: right;\">\n      <th></th>\n      <th>url</th>\n      <th>address</th>\n      <th>property_type</th>\n      <th>bedrooms</th>\n      <th>bathrooms</th>\n      <th>tenure</th>\n      <th>nearest_station</th>\n      <th>price</th>\n      <th>cleaned_address</th>\n      <th>gcode</th>\n      <th>outcode_from_gcode</th>\n      <th>outcode_address</th>\n    </tr>\n  </thead>\n  <tbody>\n    <tr>\n      <th>2551</th>\n      <td>https://www.rightmove.co.uk/properties/1300372...</td>\n      <td>Plot 2 Crown Gardens</td>\n      <td>Semi-Detached</td>\n      <td>3</td>\n      <td>2</td>\n      <td>Freehold</td>\n      <td>1.3</td>\n      <td>317500</td>\n      <td>Plot 2 Crown Gardens</td>\n      <td>(Crown Gardens, Partickhill, Dowanhill, Glasgo...</td>\n      <td>G12</td>\n      <td>G12</td>\n    </tr>\n  </tbody>\n</table>\n</div>"
     },
     "execution_count": 1597,
     "metadata": {},
     "output_type": "execute_result"
    }
   ],
   "source": [
    "properties3copy[properties3copy['outcode_address'] == 'G12']"
   ],
   "metadata": {
    "collapsed": false
   }
  },
  {
   "cell_type": "code",
   "execution_count": 1598,
   "outputs": [],
   "source": [
    "# Sort the properties above\n",
    "properties3copy.at[2551, 'outcode_address'] = 'WF1'"
   ],
   "metadata": {
    "collapsed": false
   }
  },
  {
   "cell_type": "code",
   "execution_count": 1599,
   "outputs": [
    {
     "data": {
      "text/plain": "                                                    url  \\\n3984  https://www.rightmove.co.uk/properties/1315246...   \n\n                           address property_type  bedrooms  bathrooms  \\\n3984  St. James Road, Huddersfield      Terraced         2          1   \n\n        tenure  nearest_station   price               cleaned_address  \\\n3984  Freehold              0.9  160000  St. James Road, Huddersfield   \n\n                                                  gcode outcode_from_gcode  \\\n3984  (St James, Huddersfield Road, Brushes, Millbro...               SK15   \n\n     outcode_address  \n3984            SK15  ",
      "text/html": "<div>\n<style scoped>\n    .dataframe tbody tr th:only-of-type {\n        vertical-align: middle;\n    }\n\n    .dataframe tbody tr th {\n        vertical-align: top;\n    }\n\n    .dataframe thead th {\n        text-align: right;\n    }\n</style>\n<table border=\"1\" class=\"dataframe\">\n  <thead>\n    <tr style=\"text-align: right;\">\n      <th></th>\n      <th>url</th>\n      <th>address</th>\n      <th>property_type</th>\n      <th>bedrooms</th>\n      <th>bathrooms</th>\n      <th>tenure</th>\n      <th>nearest_station</th>\n      <th>price</th>\n      <th>cleaned_address</th>\n      <th>gcode</th>\n      <th>outcode_from_gcode</th>\n      <th>outcode_address</th>\n    </tr>\n  </thead>\n  <tbody>\n    <tr>\n      <th>3984</th>\n      <td>https://www.rightmove.co.uk/properties/1315246...</td>\n      <td>St. James Road, Huddersfield</td>\n      <td>Terraced</td>\n      <td>2</td>\n      <td>1</td>\n      <td>Freehold</td>\n      <td>0.9</td>\n      <td>160000</td>\n      <td>St. James Road, Huddersfield</td>\n      <td>(St James, Huddersfield Road, Brushes, Millbro...</td>\n      <td>SK15</td>\n      <td>SK15</td>\n    </tr>\n  </tbody>\n</table>\n</div>"
     },
     "execution_count": 1599,
     "metadata": {},
     "output_type": "execute_result"
    }
   ],
   "source": [
    "properties3copy[properties3copy['outcode_address'] == 'SK15']"
   ],
   "metadata": {
    "collapsed": false
   }
  },
  {
   "cell_type": "code",
   "execution_count": 1600,
   "outputs": [],
   "source": [
    "# Sort the properties above\n",
    "properties3copy.at[3984, 'outcode_address'] = 'HD1'"
   ],
   "metadata": {
    "collapsed": false
   }
  },
  {
   "cell_type": "code",
   "execution_count": 1601,
   "outputs": [
    {
     "data": {
      "text/plain": "                                                    url              address  \\\n1021  https://www.rightmove.co.uk/properties/1276588...  Hillam Lane, Hillam   \n\n     property_type  bedrooms  bathrooms    tenure  nearest_station   price  \\\n1021      Detached         4          3  Freehold              2.3  450000   \n\n          cleaned_address                                              gcode  \\\n1021  Hillam Lane, Hillam  (Hillam Lane, Hillam, Cockerham, Lancaster, La...   \n\n     outcode_from_gcode outcode_address  \n1021                LA2             LA2  ",
      "text/html": "<div>\n<style scoped>\n    .dataframe tbody tr th:only-of-type {\n        vertical-align: middle;\n    }\n\n    .dataframe tbody tr th {\n        vertical-align: top;\n    }\n\n    .dataframe thead th {\n        text-align: right;\n    }\n</style>\n<table border=\"1\" class=\"dataframe\">\n  <thead>\n    <tr style=\"text-align: right;\">\n      <th></th>\n      <th>url</th>\n      <th>address</th>\n      <th>property_type</th>\n      <th>bedrooms</th>\n      <th>bathrooms</th>\n      <th>tenure</th>\n      <th>nearest_station</th>\n      <th>price</th>\n      <th>cleaned_address</th>\n      <th>gcode</th>\n      <th>outcode_from_gcode</th>\n      <th>outcode_address</th>\n    </tr>\n  </thead>\n  <tbody>\n    <tr>\n      <th>1021</th>\n      <td>https://www.rightmove.co.uk/properties/1276588...</td>\n      <td>Hillam Lane, Hillam</td>\n      <td>Detached</td>\n      <td>4</td>\n      <td>3</td>\n      <td>Freehold</td>\n      <td>2.3</td>\n      <td>450000</td>\n      <td>Hillam Lane, Hillam</td>\n      <td>(Hillam Lane, Hillam, Cockerham, Lancaster, La...</td>\n      <td>LA2</td>\n      <td>LA2</td>\n    </tr>\n  </tbody>\n</table>\n</div>"
     },
     "execution_count": 1601,
     "metadata": {},
     "output_type": "execute_result"
    }
   ],
   "source": [
    "properties3copy[properties3copy['outcode_address'] == 'LA2']"
   ],
   "metadata": {
    "collapsed": false
   }
  },
  {
   "cell_type": "code",
   "execution_count": 1602,
   "outputs": [],
   "source": [
    "# Sort the properties above\n",
    "properties3copy.at[1021, 'outcode_address'] = 'LS25'"
   ],
   "metadata": {
    "collapsed": false
   }
  },
  {
   "cell_type": "code",
   "execution_count": 1603,
   "outputs": [
    {
     "data": {
      "text/plain": "                                                    url  \\\n1889  https://www.rightmove.co.uk/properties/1281866...   \n\n                    address  property_type  bedrooms  bathrooms    tenure  \\\n1889  High Street, Thornton  Semi-Detached         4          1  Freehold   \n\n      nearest_station   price        cleaned_address  \\\n1889              3.8  240000  High Street, Thornton   \n\n                                                  gcode outcode_from_gcode  \\\n1889  (High Street, Thornton, Penrith, Sydney, Penri...              South   \n\n     outcode_address  \n1889           South  ",
      "text/html": "<div>\n<style scoped>\n    .dataframe tbody tr th:only-of-type {\n        vertical-align: middle;\n    }\n\n    .dataframe tbody tr th {\n        vertical-align: top;\n    }\n\n    .dataframe thead th {\n        text-align: right;\n    }\n</style>\n<table border=\"1\" class=\"dataframe\">\n  <thead>\n    <tr style=\"text-align: right;\">\n      <th></th>\n      <th>url</th>\n      <th>address</th>\n      <th>property_type</th>\n      <th>bedrooms</th>\n      <th>bathrooms</th>\n      <th>tenure</th>\n      <th>nearest_station</th>\n      <th>price</th>\n      <th>cleaned_address</th>\n      <th>gcode</th>\n      <th>outcode_from_gcode</th>\n      <th>outcode_address</th>\n    </tr>\n  </thead>\n  <tbody>\n    <tr>\n      <th>1889</th>\n      <td>https://www.rightmove.co.uk/properties/1281866...</td>\n      <td>High Street, Thornton</td>\n      <td>Semi-Detached</td>\n      <td>4</td>\n      <td>1</td>\n      <td>Freehold</td>\n      <td>3.8</td>\n      <td>240000</td>\n      <td>High Street, Thornton</td>\n      <td>(High Street, Thornton, Penrith, Sydney, Penri...</td>\n      <td>South</td>\n      <td>South</td>\n    </tr>\n  </tbody>\n</table>\n</div>"
     },
     "execution_count": 1603,
     "metadata": {},
     "output_type": "execute_result"
    }
   ],
   "source": [
    "properties3copy[properties3copy['outcode_address'] == 'South']"
   ],
   "metadata": {
    "collapsed": false
   }
  },
  {
   "cell_type": "code",
   "execution_count": 1604,
   "outputs": [],
   "source": [
    "# Sort the properties above\n",
    "properties3copy.at[1889, 'outcode_address'] = 'BD13'"
   ],
   "metadata": {
    "collapsed": false
   }
  },
  {
   "cell_type": "code",
   "execution_count": 1605,
   "outputs": [
    {
     "data": {
      "text/plain": "                                                    url  \\\n2151  https://www.rightmove.co.uk/properties/1324483...   \n\n                     address  property_type  bedrooms  bathrooms    tenure  \\\n2151  Vicarage Road, Shipley  Semi-Detached         4          1  Freehold   \n\n      nearest_station   price         cleaned_address  \\\n2151              0.9  155000  Vicarage Road, Shipley   \n\n                                                  gcode outcode_from_gcode  \\\n2151  (The Vicarage, 197, Heanor Road, Shipley View,...                DE7   \n\n     outcode_address  \n2151             DE7  ",
      "text/html": "<div>\n<style scoped>\n    .dataframe tbody tr th:only-of-type {\n        vertical-align: middle;\n    }\n\n    .dataframe tbody tr th {\n        vertical-align: top;\n    }\n\n    .dataframe thead th {\n        text-align: right;\n    }\n</style>\n<table border=\"1\" class=\"dataframe\">\n  <thead>\n    <tr style=\"text-align: right;\">\n      <th></th>\n      <th>url</th>\n      <th>address</th>\n      <th>property_type</th>\n      <th>bedrooms</th>\n      <th>bathrooms</th>\n      <th>tenure</th>\n      <th>nearest_station</th>\n      <th>price</th>\n      <th>cleaned_address</th>\n      <th>gcode</th>\n      <th>outcode_from_gcode</th>\n      <th>outcode_address</th>\n    </tr>\n  </thead>\n  <tbody>\n    <tr>\n      <th>2151</th>\n      <td>https://www.rightmove.co.uk/properties/1324483...</td>\n      <td>Vicarage Road, Shipley</td>\n      <td>Semi-Detached</td>\n      <td>4</td>\n      <td>1</td>\n      <td>Freehold</td>\n      <td>0.9</td>\n      <td>155000</td>\n      <td>Vicarage Road, Shipley</td>\n      <td>(The Vicarage, 197, Heanor Road, Shipley View,...</td>\n      <td>DE7</td>\n      <td>DE7</td>\n    </tr>\n  </tbody>\n</table>\n</div>"
     },
     "execution_count": 1605,
     "metadata": {},
     "output_type": "execute_result"
    }
   ],
   "source": [
    "properties3copy[properties3copy['outcode_address'] == 'DE7']"
   ],
   "metadata": {
    "collapsed": false
   }
  },
  {
   "cell_type": "code",
   "execution_count": 1606,
   "outputs": [],
   "source": [
    "properties3copy.at[2151, 'outcode_address'] = 'BD18'"
   ],
   "metadata": {
    "collapsed": false
   }
  },
  {
   "cell_type": "code",
   "execution_count": 1607,
   "outputs": [
    {
     "data": {
      "text/plain": "                                                    url  \\\n2347  https://www.rightmove.co.uk/properties/1315703...   \n\n                         address property_type  bedrooms  bathrooms    tenure  \\\n2347  Nelson Street, Cross Roads      Terraced         3          1  Freehold   \n\n      nearest_station   price             cleaned_address  \\\n2347              2.7  145000  Nelson Street, Cross Roads   \n\n                                                  gcode outcode_from_gcode  \\\n2347  (Nelson Street, Admiral Town, Cross Roads, Kin...       Corporation,   \n\n     outcode_address  \n2347    Corporation,  ",
      "text/html": "<div>\n<style scoped>\n    .dataframe tbody tr th:only-of-type {\n        vertical-align: middle;\n    }\n\n    .dataframe tbody tr th {\n        vertical-align: top;\n    }\n\n    .dataframe thead th {\n        text-align: right;\n    }\n</style>\n<table border=\"1\" class=\"dataframe\">\n  <thead>\n    <tr style=\"text-align: right;\">\n      <th></th>\n      <th>url</th>\n      <th>address</th>\n      <th>property_type</th>\n      <th>bedrooms</th>\n      <th>bathrooms</th>\n      <th>tenure</th>\n      <th>nearest_station</th>\n      <th>price</th>\n      <th>cleaned_address</th>\n      <th>gcode</th>\n      <th>outcode_from_gcode</th>\n      <th>outcode_address</th>\n    </tr>\n  </thead>\n  <tbody>\n    <tr>\n      <th>2347</th>\n      <td>https://www.rightmove.co.uk/properties/1315703...</td>\n      <td>Nelson Street, Cross Roads</td>\n      <td>Terraced</td>\n      <td>3</td>\n      <td>1</td>\n      <td>Freehold</td>\n      <td>2.7</td>\n      <td>145000</td>\n      <td>Nelson Street, Cross Roads</td>\n      <td>(Nelson Street, Admiral Town, Cross Roads, Kin...</td>\n      <td>Corporation,</td>\n      <td>Corporation,</td>\n    </tr>\n  </tbody>\n</table>\n</div>"
     },
     "execution_count": 1607,
     "metadata": {},
     "output_type": "execute_result"
    }
   ],
   "source": [
    "properties3copy[properties3copy['outcode_address'] == 'Corporation,']"
   ],
   "metadata": {
    "collapsed": false
   }
  },
  {
   "cell_type": "code",
   "execution_count": 1608,
   "outputs": [],
   "source": [
    "properties3copy.at[2347, 'outcode_address'] = 'BD22'"
   ],
   "metadata": {
    "collapsed": false
   }
  },
  {
   "cell_type": "code",
   "execution_count": 1609,
   "outputs": [
    {
     "data": {
      "text/plain": "                                                    url  \\\n3831  https://www.rightmove.co.uk/properties/1271181...   \n\n                                        address property_type  bedrooms  \\\n3831  St James Sq HX37HL and Back Clough HX37HH      Terraced         1   \n\n      bathrooms    tenure  nearest_station   price  \\\n3831          1  Freehold              1.7  137150   \n\n                                cleaned_address gcode outcode_from_gcode  \\\n3831  St James Sq HX37HL and Back Clough HX37HH  None               None   \n\n     outcode_address  \n3831            HX37  ",
      "text/html": "<div>\n<style scoped>\n    .dataframe tbody tr th:only-of-type {\n        vertical-align: middle;\n    }\n\n    .dataframe tbody tr th {\n        vertical-align: top;\n    }\n\n    .dataframe thead th {\n        text-align: right;\n    }\n</style>\n<table border=\"1\" class=\"dataframe\">\n  <thead>\n    <tr style=\"text-align: right;\">\n      <th></th>\n      <th>url</th>\n      <th>address</th>\n      <th>property_type</th>\n      <th>bedrooms</th>\n      <th>bathrooms</th>\n      <th>tenure</th>\n      <th>nearest_station</th>\n      <th>price</th>\n      <th>cleaned_address</th>\n      <th>gcode</th>\n      <th>outcode_from_gcode</th>\n      <th>outcode_address</th>\n    </tr>\n  </thead>\n  <tbody>\n    <tr>\n      <th>3831</th>\n      <td>https://www.rightmove.co.uk/properties/1271181...</td>\n      <td>St James Sq HX37HL and Back Clough HX37HH</td>\n      <td>Terraced</td>\n      <td>1</td>\n      <td>1</td>\n      <td>Freehold</td>\n      <td>1.7</td>\n      <td>137150</td>\n      <td>St James Sq HX37HL and Back Clough HX37HH</td>\n      <td>None</td>\n      <td>None</td>\n      <td>HX37</td>\n    </tr>\n  </tbody>\n</table>\n</div>"
     },
     "execution_count": 1609,
     "metadata": {},
     "output_type": "execute_result"
    }
   ],
   "source": [
    "properties3copy[properties3copy['outcode_address'] == 'HX37']"
   ],
   "metadata": {
    "collapsed": false
   }
  },
  {
   "cell_type": "code",
   "execution_count": 1610,
   "outputs": [],
   "source": [
    "properties3copy.at[3831, 'outcode_address'] = 'HX3'"
   ],
   "metadata": {
    "collapsed": false
   }
  },
  {
   "cell_type": "code",
   "execution_count": 1612,
   "outputs": [
    {
     "data": {
      "text/plain": "                                                    url  \\\n3786  https://www.rightmove.co.uk/properties/8569129...   \n\n                     address  property_type  bedrooms  bathrooms    tenure  \\\n3786  Norwood Green, Halifax  Semi-Detached         3          1  Freehold   \n\n      nearest_station   price         cleaned_address  \\\n3786              1.6  400000  Norwood Green, Halifax   \n\n                                                  gcode outcode_from_gcode  \\\n3786  (Southey Green Road/Halifax Road, Southey Gree...                 S5   \n\n     outcode_address  \n3786              S5  ",
      "text/html": "<div>\n<style scoped>\n    .dataframe tbody tr th:only-of-type {\n        vertical-align: middle;\n    }\n\n    .dataframe tbody tr th {\n        vertical-align: top;\n    }\n\n    .dataframe thead th {\n        text-align: right;\n    }\n</style>\n<table border=\"1\" class=\"dataframe\">\n  <thead>\n    <tr style=\"text-align: right;\">\n      <th></th>\n      <th>url</th>\n      <th>address</th>\n      <th>property_type</th>\n      <th>bedrooms</th>\n      <th>bathrooms</th>\n      <th>tenure</th>\n      <th>nearest_station</th>\n      <th>price</th>\n      <th>cleaned_address</th>\n      <th>gcode</th>\n      <th>outcode_from_gcode</th>\n      <th>outcode_address</th>\n    </tr>\n  </thead>\n  <tbody>\n    <tr>\n      <th>3786</th>\n      <td>https://www.rightmove.co.uk/properties/8569129...</td>\n      <td>Norwood Green, Halifax</td>\n      <td>Semi-Detached</td>\n      <td>3</td>\n      <td>1</td>\n      <td>Freehold</td>\n      <td>1.6</td>\n      <td>400000</td>\n      <td>Norwood Green, Halifax</td>\n      <td>(Southey Green Road/Halifax Road, Southey Gree...</td>\n      <td>S5</td>\n      <td>S5</td>\n    </tr>\n  </tbody>\n</table>\n</div>"
     },
     "execution_count": 1612,
     "metadata": {},
     "output_type": "execute_result"
    }
   ],
   "source": [
    "properties3copy[properties3copy['outcode_address'] == 'S5']"
   ],
   "metadata": {
    "collapsed": false
   }
  },
  {
   "cell_type": "code",
   "execution_count": 1613,
   "outputs": [],
   "source": [
    "properties3copy.at[3786, 'outcode_address'] = 'HX3'"
   ],
   "metadata": {
    "collapsed": false
   }
  },
  {
   "cell_type": "code",
   "execution_count": 1614,
   "outputs": [
    {
     "data": {
      "text/plain": "                                                    url             address  \\\n3746  https://www.rightmove.co.uk/properties/1295439...  Green Way, Halifax   \n\n      property_type  bedrooms  bathrooms    tenure  nearest_station   price  \\\n3746  Semi-Detached         3          2  Freehold              3.2  200000   \n\n         cleaned_address                                              gcode  \\\n3746  Green Way, Halifax  (Halifax, Greenwood Way, Chelmsley Wood, Coles...   \n\n     outcode_from_gcode outcode_address  \n3746                B37             B37  ",
      "text/html": "<div>\n<style scoped>\n    .dataframe tbody tr th:only-of-type {\n        vertical-align: middle;\n    }\n\n    .dataframe tbody tr th {\n        vertical-align: top;\n    }\n\n    .dataframe thead th {\n        text-align: right;\n    }\n</style>\n<table border=\"1\" class=\"dataframe\">\n  <thead>\n    <tr style=\"text-align: right;\">\n      <th></th>\n      <th>url</th>\n      <th>address</th>\n      <th>property_type</th>\n      <th>bedrooms</th>\n      <th>bathrooms</th>\n      <th>tenure</th>\n      <th>nearest_station</th>\n      <th>price</th>\n      <th>cleaned_address</th>\n      <th>gcode</th>\n      <th>outcode_from_gcode</th>\n      <th>outcode_address</th>\n    </tr>\n  </thead>\n  <tbody>\n    <tr>\n      <th>3746</th>\n      <td>https://www.rightmove.co.uk/properties/1295439...</td>\n      <td>Green Way, Halifax</td>\n      <td>Semi-Detached</td>\n      <td>3</td>\n      <td>2</td>\n      <td>Freehold</td>\n      <td>3.2</td>\n      <td>200000</td>\n      <td>Green Way, Halifax</td>\n      <td>(Halifax, Greenwood Way, Chelmsley Wood, Coles...</td>\n      <td>B37</td>\n      <td>B37</td>\n    </tr>\n  </tbody>\n</table>\n</div>"
     },
     "execution_count": 1614,
     "metadata": {},
     "output_type": "execute_result"
    }
   ],
   "source": [
    "properties3copy[properties3copy['outcode_address'] == 'B37']"
   ],
   "metadata": {
    "collapsed": false
   }
  },
  {
   "cell_type": "code",
   "execution_count": 1616,
   "outputs": [],
   "source": [
    "properties3copy.at[3746, 'outcode_address'] = 'HX2'"
   ],
   "metadata": {
    "collapsed": false
   }
  },
  {
   "cell_type": "code",
   "execution_count": 1618,
   "outputs": [
    {
     "data": {
      "text/plain": "                                                    url  \\\n3740  https://www.rightmove.co.uk/properties/1308812...   \n\n                      address  property_type  bedrooms  bathrooms    tenure  \\\n3740  Beechwood Road, Halifax  Semi-Detached         3          1  Freehold   \n\n      nearest_station   price          cleaned_address  \\\n3740              2.2  220000  Beechwood Road, Halifax   \n\n                                                  gcode outcode_from_gcode  \\\n3740  (Beechwood Road, Halifax Mobile Home Estates, ...     Massachusetts,   \n\n     outcode_address  \n3740  Massachusetts,  ",
      "text/html": "<div>\n<style scoped>\n    .dataframe tbody tr th:only-of-type {\n        vertical-align: middle;\n    }\n\n    .dataframe tbody tr th {\n        vertical-align: top;\n    }\n\n    .dataframe thead th {\n        text-align: right;\n    }\n</style>\n<table border=\"1\" class=\"dataframe\">\n  <thead>\n    <tr style=\"text-align: right;\">\n      <th></th>\n      <th>url</th>\n      <th>address</th>\n      <th>property_type</th>\n      <th>bedrooms</th>\n      <th>bathrooms</th>\n      <th>tenure</th>\n      <th>nearest_station</th>\n      <th>price</th>\n      <th>cleaned_address</th>\n      <th>gcode</th>\n      <th>outcode_from_gcode</th>\n      <th>outcode_address</th>\n    </tr>\n  </thead>\n  <tbody>\n    <tr>\n      <th>3740</th>\n      <td>https://www.rightmove.co.uk/properties/1308812...</td>\n      <td>Beechwood Road, Halifax</td>\n      <td>Semi-Detached</td>\n      <td>3</td>\n      <td>1</td>\n      <td>Freehold</td>\n      <td>2.2</td>\n      <td>220000</td>\n      <td>Beechwood Road, Halifax</td>\n      <td>(Beechwood Road, Halifax Mobile Home Estates, ...</td>\n      <td>Massachusetts,</td>\n      <td>Massachusetts,</td>\n    </tr>\n  </tbody>\n</table>\n</div>"
     },
     "execution_count": 1618,
     "metadata": {},
     "output_type": "execute_result"
    }
   ],
   "source": [
    "properties3copy[properties3copy['outcode_address'] == 'Massachusetts,']"
   ],
   "metadata": {
    "collapsed": false
   }
  },
  {
   "cell_type": "code",
   "execution_count": 1619,
   "outputs": [],
   "source": [
    "properties3copy.at[3740, 'outcode_address'] = 'HX2'"
   ],
   "metadata": {
    "collapsed": false
   }
  },
  {
   "cell_type": "code",
   "execution_count": 1620,
   "outputs": [
    {
     "data": {
      "text/plain": "                                                    url  \\\n1905  https://www.rightmove.co.uk/properties/1300989...   \n\n                       address  property_type  bedrooms  bathrooms    tenure  \\\n1905  Hillcrest Road, Thornton  Semi-Detached         3          1  Freehold   \n\n      nearest_station   price           cleaned_address  \\\n1905              3.8  190000  Hillcrest Road, Thornton   \n\n                                                  gcode outcode_from_gcode  \\\n1905  (Hillcrest Road, Great Crosby, Thornton, Sefto...                L23   \n\n     outcode_address  \n1905             L23  ",
      "text/html": "<div>\n<style scoped>\n    .dataframe tbody tr th:only-of-type {\n        vertical-align: middle;\n    }\n\n    .dataframe tbody tr th {\n        vertical-align: top;\n    }\n\n    .dataframe thead th {\n        text-align: right;\n    }\n</style>\n<table border=\"1\" class=\"dataframe\">\n  <thead>\n    <tr style=\"text-align: right;\">\n      <th></th>\n      <th>url</th>\n      <th>address</th>\n      <th>property_type</th>\n      <th>bedrooms</th>\n      <th>bathrooms</th>\n      <th>tenure</th>\n      <th>nearest_station</th>\n      <th>price</th>\n      <th>cleaned_address</th>\n      <th>gcode</th>\n      <th>outcode_from_gcode</th>\n      <th>outcode_address</th>\n    </tr>\n  </thead>\n  <tbody>\n    <tr>\n      <th>1905</th>\n      <td>https://www.rightmove.co.uk/properties/1300989...</td>\n      <td>Hillcrest Road, Thornton</td>\n      <td>Semi-Detached</td>\n      <td>3</td>\n      <td>1</td>\n      <td>Freehold</td>\n      <td>3.8</td>\n      <td>190000</td>\n      <td>Hillcrest Road, Thornton</td>\n      <td>(Hillcrest Road, Great Crosby, Thornton, Sefto...</td>\n      <td>L23</td>\n      <td>L23</td>\n    </tr>\n  </tbody>\n</table>\n</div>"
     },
     "execution_count": 1620,
     "metadata": {},
     "output_type": "execute_result"
    }
   ],
   "source": [
    "properties3copy[properties3copy['outcode_address'] == 'L23']"
   ],
   "metadata": {
    "collapsed": false
   }
  },
  {
   "cell_type": "code",
   "execution_count": 1621,
   "outputs": [],
   "source": [
    "properties3copy.at[1905, 'outcode_address'] = 'BD13'"
   ],
   "metadata": {
    "collapsed": false
   }
  },
  {
   "cell_type": "code",
   "execution_count": 1622,
   "outputs": [
    {
     "data": {
      "text/plain": "WF4     141\nWF2     137\nLS15    119\nWF10    106\nLS25    104\n       ... \nLS22      5\nBD1       2\nLS2       2\nLS3       1\nLS23      1\nName: outcode_address, Length: 85, dtype: int64"
     },
     "execution_count": 1622,
     "metadata": {},
     "output_type": "execute_result"
    }
   ],
   "source": [
    "# Can see that the outcodes are all now valid leeds, bradford, halifax, huddersfield and wakefield outcodes\n",
    "properties3copy['outcode_address'].value_counts()"
   ],
   "metadata": {
    "collapsed": false
   }
  },
  {
   "cell_type": "code",
   "execution_count": 1623,
   "outputs": [],
   "source": [
    "# Rename the name of the outcode_address column now we have as many postcodes as possible acquired for it\n",
    "properties3copy.rename(columns={'outcode_address': 'outcode'}, inplace=True)"
   ],
   "metadata": {
    "collapsed": false
   }
  },
  {
   "cell_type": "code",
   "execution_count": 1624,
   "outputs": [
    {
     "data": {
      "text/plain": "                                                 url  \\\n0  https://www.rightmove.co.uk/properties/1315844...   \n1  https://www.rightmove.co.uk/properties/8604795...   \n2  https://www.rightmove.co.uk/properties/1326138...   \n3  https://www.rightmove.co.uk/properties/1311469...   \n4  https://www.rightmove.co.uk/properties/1322668...   \n\n                               address property_type  bedrooms  bathrooms  \\\n0                  Queen Square, Leeds      Detached         5          2   \n1  Archery Road, Leeds, West Yorkshire      Terraced         5          1   \n2                Hanover Square, Leeds      Terraced         6          3   \n3  Burley Wood Crescent, Burley, LEEDS      Terraced         3          1   \n4    The Village Street, Burley, Leeds      Detached         5          2   \n\n     tenure  nearest_station   price                      cleaned_address  \\\n0  Freehold              0.7  550000                  Queen Square, Leeds   \n1  Freehold              1.0  325000  Archery Road, Leeds, West Yorkshire   \n2  Freehold              0.8  450000                Hanover Square, Leeds   \n3  Freehold              0.5  220000  Burley Wood Crescent, Burley, LEEDS   \n4  Freehold              0.2  325000    The Village Street, Burley, Leeds   \n\n                                               gcode outcode_from_gcode  \\\n0  (Queen Square, Arena Quarter, Lovell Park, Lee...         Yorkshire,   \n1  (Archery Road, Arena Quarter, Woodhouse, Leeds...                LS2   \n2  (Hanover Square, Hyde Park, Leeds, West Yorksh...                LS3   \n3  (Burley Wood Crescent, Burley, Leeds, West Yor...                LS4   \n4  (The Village Street, Burley, Leeds, West Yorks...                LS4   \n\n  outcode  \n0     LS2  \n1     LS2  \n2     LS3  \n3     LS4  \n4     LS4  ",
      "text/html": "<div>\n<style scoped>\n    .dataframe tbody tr th:only-of-type {\n        vertical-align: middle;\n    }\n\n    .dataframe tbody tr th {\n        vertical-align: top;\n    }\n\n    .dataframe thead th {\n        text-align: right;\n    }\n</style>\n<table border=\"1\" class=\"dataframe\">\n  <thead>\n    <tr style=\"text-align: right;\">\n      <th></th>\n      <th>url</th>\n      <th>address</th>\n      <th>property_type</th>\n      <th>bedrooms</th>\n      <th>bathrooms</th>\n      <th>tenure</th>\n      <th>nearest_station</th>\n      <th>price</th>\n      <th>cleaned_address</th>\n      <th>gcode</th>\n      <th>outcode_from_gcode</th>\n      <th>outcode</th>\n    </tr>\n  </thead>\n  <tbody>\n    <tr>\n      <th>0</th>\n      <td>https://www.rightmove.co.uk/properties/1315844...</td>\n      <td>Queen Square, Leeds</td>\n      <td>Detached</td>\n      <td>5</td>\n      <td>2</td>\n      <td>Freehold</td>\n      <td>0.7</td>\n      <td>550000</td>\n      <td>Queen Square, Leeds</td>\n      <td>(Queen Square, Arena Quarter, Lovell Park, Lee...</td>\n      <td>Yorkshire,</td>\n      <td>LS2</td>\n    </tr>\n    <tr>\n      <th>1</th>\n      <td>https://www.rightmove.co.uk/properties/8604795...</td>\n      <td>Archery Road, Leeds, West Yorkshire</td>\n      <td>Terraced</td>\n      <td>5</td>\n      <td>1</td>\n      <td>Freehold</td>\n      <td>1.0</td>\n      <td>325000</td>\n      <td>Archery Road, Leeds, West Yorkshire</td>\n      <td>(Archery Road, Arena Quarter, Woodhouse, Leeds...</td>\n      <td>LS2</td>\n      <td>LS2</td>\n    </tr>\n    <tr>\n      <th>2</th>\n      <td>https://www.rightmove.co.uk/properties/1326138...</td>\n      <td>Hanover Square, Leeds</td>\n      <td>Terraced</td>\n      <td>6</td>\n      <td>3</td>\n      <td>Freehold</td>\n      <td>0.8</td>\n      <td>450000</td>\n      <td>Hanover Square, Leeds</td>\n      <td>(Hanover Square, Hyde Park, Leeds, West Yorksh...</td>\n      <td>LS3</td>\n      <td>LS3</td>\n    </tr>\n    <tr>\n      <th>3</th>\n      <td>https://www.rightmove.co.uk/properties/1311469...</td>\n      <td>Burley Wood Crescent, Burley, LEEDS</td>\n      <td>Terraced</td>\n      <td>3</td>\n      <td>1</td>\n      <td>Freehold</td>\n      <td>0.5</td>\n      <td>220000</td>\n      <td>Burley Wood Crescent, Burley, LEEDS</td>\n      <td>(Burley Wood Crescent, Burley, Leeds, West Yor...</td>\n      <td>LS4</td>\n      <td>LS4</td>\n    </tr>\n    <tr>\n      <th>4</th>\n      <td>https://www.rightmove.co.uk/properties/1322668...</td>\n      <td>The Village Street, Burley, Leeds</td>\n      <td>Detached</td>\n      <td>5</td>\n      <td>2</td>\n      <td>Freehold</td>\n      <td>0.2</td>\n      <td>325000</td>\n      <td>The Village Street, Burley, Leeds</td>\n      <td>(The Village Street, Burley, Leeds, West Yorks...</td>\n      <td>LS4</td>\n      <td>LS4</td>\n    </tr>\n  </tbody>\n</table>\n</div>"
     },
     "execution_count": 1624,
     "metadata": {},
     "output_type": "execute_result"
    }
   ],
   "source": [
    "# Observe the change\n",
    "properties3copy.head()"
   ],
   "metadata": {
    "collapsed": false
   }
  },
  {
   "cell_type": "code",
   "execution_count": 1625,
   "outputs": [
    {
     "data": {
      "text/plain": "                    null  percent\ngcode               1315   28.825\noutcode_from_gcode  1315   28.825\noutcode              553   12.122\nurl                    0    0.000\naddress                0    0.000\nproperty_type          0    0.000\nbedrooms               0    0.000\nbathrooms              0    0.000\ntenure                 0    0.000\nnearest_station        0    0.000\nprice                  0    0.000\ncleaned_address        0    0.000",
      "text/html": "<div>\n<style scoped>\n    .dataframe tbody tr th:only-of-type {\n        vertical-align: middle;\n    }\n\n    .dataframe tbody tr th {\n        vertical-align: top;\n    }\n\n    .dataframe thead th {\n        text-align: right;\n    }\n</style>\n<table border=\"1\" class=\"dataframe\">\n  <thead>\n    <tr style=\"text-align: right;\">\n      <th></th>\n      <th>null</th>\n      <th>percent</th>\n    </tr>\n  </thead>\n  <tbody>\n    <tr>\n      <th>gcode</th>\n      <td>1315</td>\n      <td>28.825</td>\n    </tr>\n    <tr>\n      <th>outcode_from_gcode</th>\n      <td>1315</td>\n      <td>28.825</td>\n    </tr>\n    <tr>\n      <th>outcode</th>\n      <td>553</td>\n      <td>12.122</td>\n    </tr>\n    <tr>\n      <th>url</th>\n      <td>0</td>\n      <td>0.000</td>\n    </tr>\n    <tr>\n      <th>address</th>\n      <td>0</td>\n      <td>0.000</td>\n    </tr>\n    <tr>\n      <th>property_type</th>\n      <td>0</td>\n      <td>0.000</td>\n    </tr>\n    <tr>\n      <th>bedrooms</th>\n      <td>0</td>\n      <td>0.000</td>\n    </tr>\n    <tr>\n      <th>bathrooms</th>\n      <td>0</td>\n      <td>0.000</td>\n    </tr>\n    <tr>\n      <th>tenure</th>\n      <td>0</td>\n      <td>0.000</td>\n    </tr>\n    <tr>\n      <th>nearest_station</th>\n      <td>0</td>\n      <td>0.000</td>\n    </tr>\n    <tr>\n      <th>price</th>\n      <td>0</td>\n      <td>0.000</td>\n    </tr>\n    <tr>\n      <th>cleaned_address</th>\n      <td>0</td>\n      <td>0.000</td>\n    </tr>\n  </tbody>\n</table>\n</div>"
     },
     "execution_count": 1625,
     "metadata": {},
     "output_type": "execute_result"
    }
   ],
   "source": [
    "# Look at the number of nulls left for outcode again\n",
    "null_vals(properties3copy)"
   ],
   "metadata": {
    "collapsed": false
   }
  },
  {
   "cell_type": "code",
   "execution_count": 1626,
   "outputs": [
    {
     "data": {
      "text/plain": "4009"
     },
     "execution_count": 1626,
     "metadata": {},
     "output_type": "execute_result"
    }
   ],
   "source": [
    "# How many rows have an outcode value\n",
    "properties3copy['outcode'].value_counts().sum()"
   ],
   "metadata": {
    "collapsed": false
   }
  },
  {
   "cell_type": "code",
   "execution_count": 1627,
   "outputs": [],
   "source": [
    "# Save a copy of the dataframe now before dropping the nulls\n",
    "# properties3copy.to_csv('properties_with_outcode_nulls.csv', index=False)"
   ],
   "metadata": {
    "collapsed": false
   }
  },
  {
   "cell_type": "code",
   "execution_count": 1628,
   "outputs": [],
   "source": [
    "# Let's drop rows with nulls from outcode column as 553 rows is a lot to manually go and retrieve by inspecting each listing\n",
    "properties3copy.dropna(\n",
    "    axis = 0,\n",
    "    how = 'any',\n",
    "    subset = ['outcode'],\n",
    "    inplace = True\n",
    ")"
   ],
   "metadata": {
    "collapsed": false
   }
  },
  {
   "cell_type": "code",
   "execution_count": 1643,
   "outputs": [
    {
     "data": {
      "text/plain": "                    null  percent\ngcode                762   19.007\noutcode_from_gcode   762   19.007\nurl                    0    0.000\naddress                0    0.000\nproperty_type          0    0.000\nbedrooms               0    0.000\nbathrooms              0    0.000\ntenure                 0    0.000\nnearest_station        0    0.000\nprice                  0    0.000\ncleaned_address        0    0.000\noutcode                0    0.000",
      "text/html": "<div>\n<style scoped>\n    .dataframe tbody tr th:only-of-type {\n        vertical-align: middle;\n    }\n\n    .dataframe tbody tr th {\n        vertical-align: top;\n    }\n\n    .dataframe thead th {\n        text-align: right;\n    }\n</style>\n<table border=\"1\" class=\"dataframe\">\n  <thead>\n    <tr style=\"text-align: right;\">\n      <th></th>\n      <th>null</th>\n      <th>percent</th>\n    </tr>\n  </thead>\n  <tbody>\n    <tr>\n      <th>gcode</th>\n      <td>762</td>\n      <td>19.007</td>\n    </tr>\n    <tr>\n      <th>outcode_from_gcode</th>\n      <td>762</td>\n      <td>19.007</td>\n    </tr>\n    <tr>\n      <th>url</th>\n      <td>0</td>\n      <td>0.000</td>\n    </tr>\n    <tr>\n      <th>address</th>\n      <td>0</td>\n      <td>0.000</td>\n    </tr>\n    <tr>\n      <th>property_type</th>\n      <td>0</td>\n      <td>0.000</td>\n    </tr>\n    <tr>\n      <th>bedrooms</th>\n      <td>0</td>\n      <td>0.000</td>\n    </tr>\n    <tr>\n      <th>bathrooms</th>\n      <td>0</td>\n      <td>0.000</td>\n    </tr>\n    <tr>\n      <th>tenure</th>\n      <td>0</td>\n      <td>0.000</td>\n    </tr>\n    <tr>\n      <th>nearest_station</th>\n      <td>0</td>\n      <td>0.000</td>\n    </tr>\n    <tr>\n      <th>price</th>\n      <td>0</td>\n      <td>0.000</td>\n    </tr>\n    <tr>\n      <th>cleaned_address</th>\n      <td>0</td>\n      <td>0.000</td>\n    </tr>\n    <tr>\n      <th>outcode</th>\n      <td>0</td>\n      <td>0.000</td>\n    </tr>\n  </tbody>\n</table>\n</div>"
     },
     "execution_count": 1643,
     "metadata": {},
     "output_type": "execute_result"
    }
   ],
   "source": [
    "# Can see no nulls now for outcode\n",
    "null_vals(properties3copy)"
   ],
   "metadata": {
    "collapsed": false
   }
  },
  {
   "cell_type": "code",
   "execution_count": 1644,
   "outputs": [],
   "source": [
    "# Lets one hot encode the outcode column now and see if outcode has an effect on price\n",
    "propertiesonehotencoded = pd.get_dummies(properties3copy, prefix='Outcode', columns=['outcode'])"
   ],
   "metadata": {
    "collapsed": false
   }
  },
  {
   "cell_type": "code",
   "execution_count": 1654,
   "outputs": [
    {
     "data": {
      "text/plain": "                 bedrooms  bathrooms  nearest_station     price  Outcode_BD1  \\\nbedrooms         1.000000   0.550568         0.006587  0.648043     0.046856   \nbathrooms        0.550568   1.000000         0.037405  0.557707     0.037948   \nnearest_station  0.006587   0.037405         1.000000  0.059540    -0.025562   \nprice            0.648043   0.557707         0.059540  1.000000    -0.014769   \nOutcode_BD1      0.046856   0.037948        -0.025562 -0.014769     1.000000   \n...                   ...        ...              ...       ...          ...   \nOutcode_WF5     -0.000514   0.017988         0.153509  0.031024    -0.003106   \nOutcode_WF6     -0.004686  -0.014004        -0.115992 -0.059847    -0.003106   \nOutcode_WF7      0.040700   0.052420        -0.044015  0.001485    -0.002271   \nOutcode_WF8      0.030236   0.047304        -0.112518  0.011314    -0.003366   \nOutcode_WF9      0.001112   0.001171        -0.029498 -0.035264    -0.002271   \n\n                 Outcode_BD10  Outcode_BD11  Outcode_BD12  Outcode_BD13  \\\nbedrooms             0.009056     -0.012682      0.000548      0.010639   \nbathrooms            0.017342     -0.024277     -0.018195      0.007488   \nnearest_station     -0.050126      0.110275     -0.059228      0.293526   \nprice               -0.000224     -0.011495     -0.032818     -0.033204   \nOutcode_BD1         -0.002433     -0.001542     -0.001940     -0.002846   \n...                       ...           ...           ...           ...   \nOutcode_WF5         -0.015140     -0.009593     -0.012070     -0.017706   \nOutcode_WF6         -0.015140     -0.009593     -0.012070     -0.017706   \nOutcode_WF7         -0.011071     -0.007014     -0.008826     -0.012947   \nOutcode_WF8         -0.016411     -0.010398     -0.013084     -0.019192   \nOutcode_WF9         -0.011071     -0.007014     -0.008826     -0.012947   \n\n                 Outcode_BD14  ...  Outcode_WF16  Outcode_WF17  Outcode_WF2  \\\nbedrooms             0.009454  ...      0.011214      0.011733     0.024937   \nbathrooms           -0.002680  ...     -0.014837      0.003381     0.034596   \nnearest_station      0.119173  ...      0.056483      0.002414    -0.057875   \nprice               -0.017204  ...     -0.014285     -0.025035     0.039766   \nOutcode_BD1         -0.001660  ...     -0.001582     -0.003424    -0.004202   \n...                       ...  ...           ...           ...          ...   \nOutcode_WF5         -0.010326  ...     -0.009843     -0.021304    -0.026148   \nOutcode_WF6         -0.010326  ...     -0.009843     -0.021304    -0.026148   \nOutcode_WF7         -0.007551  ...     -0.007198     -0.015578    -0.019120   \nOutcode_WF8         -0.011193  ...     -0.010669     -0.023092    -0.028343   \nOutcode_WF9         -0.007551  ...     -0.007198     -0.015578    -0.019120   \n\n                 Outcode_WF3  Outcode_WF4  Outcode_WF5  Outcode_WF6  \\\nbedrooms            0.016496     0.018964    -0.000514    -0.004686   \nbathrooms           0.032496     0.023941     0.017988    -0.014004   \nnearest_station     0.022812     0.256631     0.153509    -0.115992   \nprice               0.029783     0.019379     0.031024    -0.059847   \nOutcode_BD1        -0.003188    -0.004266    -0.003106    -0.003106   \n...                      ...          ...          ...          ...   \nOutcode_WF5        -0.019836    -0.026541     1.000000    -0.019324   \nOutcode_WF6        -0.019836    -0.026541    -0.019324     1.000000   \nOutcode_WF7        -0.014505    -0.019408    -0.014130    -0.014130   \nOutcode_WF8        -0.021501    -0.028769    -0.020946    -0.020946   \nOutcode_WF9        -0.014505    -0.019408    -0.014130    -0.014130   \n\n                 Outcode_WF7  Outcode_WF8  Outcode_WF9  \nbedrooms            0.040700     0.030236     0.001112  \nbathrooms           0.052420     0.047304     0.001171  \nnearest_station    -0.044015    -0.112518    -0.029498  \nprice               0.001485     0.011314    -0.035264  \nOutcode_BD1        -0.002271    -0.003366    -0.002271  \n...                      ...          ...          ...  \nOutcode_WF5        -0.014130    -0.020946    -0.014130  \nOutcode_WF6        -0.014130    -0.020946    -0.014130  \nOutcode_WF7         1.000000    -0.015316    -0.010333  \nOutcode_WF8        -0.015316     1.000000    -0.015316  \nOutcode_WF9        -0.010333    -0.015316     1.000000  \n\n[89 rows x 89 columns]",
      "text/html": "<div>\n<style scoped>\n    .dataframe tbody tr th:only-of-type {\n        vertical-align: middle;\n    }\n\n    .dataframe tbody tr th {\n        vertical-align: top;\n    }\n\n    .dataframe thead th {\n        text-align: right;\n    }\n</style>\n<table border=\"1\" class=\"dataframe\">\n  <thead>\n    <tr style=\"text-align: right;\">\n      <th></th>\n      <th>bedrooms</th>\n      <th>bathrooms</th>\n      <th>nearest_station</th>\n      <th>price</th>\n      <th>Outcode_BD1</th>\n      <th>Outcode_BD10</th>\n      <th>Outcode_BD11</th>\n      <th>Outcode_BD12</th>\n      <th>Outcode_BD13</th>\n      <th>Outcode_BD14</th>\n      <th>...</th>\n      <th>Outcode_WF16</th>\n      <th>Outcode_WF17</th>\n      <th>Outcode_WF2</th>\n      <th>Outcode_WF3</th>\n      <th>Outcode_WF4</th>\n      <th>Outcode_WF5</th>\n      <th>Outcode_WF6</th>\n      <th>Outcode_WF7</th>\n      <th>Outcode_WF8</th>\n      <th>Outcode_WF9</th>\n    </tr>\n  </thead>\n  <tbody>\n    <tr>\n      <th>bedrooms</th>\n      <td>1.000000</td>\n      <td>0.550568</td>\n      <td>0.006587</td>\n      <td>0.648043</td>\n      <td>0.046856</td>\n      <td>0.009056</td>\n      <td>-0.012682</td>\n      <td>0.000548</td>\n      <td>0.010639</td>\n      <td>0.009454</td>\n      <td>...</td>\n      <td>0.011214</td>\n      <td>0.011733</td>\n      <td>0.024937</td>\n      <td>0.016496</td>\n      <td>0.018964</td>\n      <td>-0.000514</td>\n      <td>-0.004686</td>\n      <td>0.040700</td>\n      <td>0.030236</td>\n      <td>0.001112</td>\n    </tr>\n    <tr>\n      <th>bathrooms</th>\n      <td>0.550568</td>\n      <td>1.000000</td>\n      <td>0.037405</td>\n      <td>0.557707</td>\n      <td>0.037948</td>\n      <td>0.017342</td>\n      <td>-0.024277</td>\n      <td>-0.018195</td>\n      <td>0.007488</td>\n      <td>-0.002680</td>\n      <td>...</td>\n      <td>-0.014837</td>\n      <td>0.003381</td>\n      <td>0.034596</td>\n      <td>0.032496</td>\n      <td>0.023941</td>\n      <td>0.017988</td>\n      <td>-0.014004</td>\n      <td>0.052420</td>\n      <td>0.047304</td>\n      <td>0.001171</td>\n    </tr>\n    <tr>\n      <th>nearest_station</th>\n      <td>0.006587</td>\n      <td>0.037405</td>\n      <td>1.000000</td>\n      <td>0.059540</td>\n      <td>-0.025562</td>\n      <td>-0.050126</td>\n      <td>0.110275</td>\n      <td>-0.059228</td>\n      <td>0.293526</td>\n      <td>0.119173</td>\n      <td>...</td>\n      <td>0.056483</td>\n      <td>0.002414</td>\n      <td>-0.057875</td>\n      <td>0.022812</td>\n      <td>0.256631</td>\n      <td>0.153509</td>\n      <td>-0.115992</td>\n      <td>-0.044015</td>\n      <td>-0.112518</td>\n      <td>-0.029498</td>\n    </tr>\n    <tr>\n      <th>price</th>\n      <td>0.648043</td>\n      <td>0.557707</td>\n      <td>0.059540</td>\n      <td>1.000000</td>\n      <td>-0.014769</td>\n      <td>-0.000224</td>\n      <td>-0.011495</td>\n      <td>-0.032818</td>\n      <td>-0.033204</td>\n      <td>-0.017204</td>\n      <td>...</td>\n      <td>-0.014285</td>\n      <td>-0.025035</td>\n      <td>0.039766</td>\n      <td>0.029783</td>\n      <td>0.019379</td>\n      <td>0.031024</td>\n      <td>-0.059847</td>\n      <td>0.001485</td>\n      <td>0.011314</td>\n      <td>-0.035264</td>\n    </tr>\n    <tr>\n      <th>Outcode_BD1</th>\n      <td>0.046856</td>\n      <td>0.037948</td>\n      <td>-0.025562</td>\n      <td>-0.014769</td>\n      <td>1.000000</td>\n      <td>-0.002433</td>\n      <td>-0.001542</td>\n      <td>-0.001940</td>\n      <td>-0.002846</td>\n      <td>-0.001660</td>\n      <td>...</td>\n      <td>-0.001582</td>\n      <td>-0.003424</td>\n      <td>-0.004202</td>\n      <td>-0.003188</td>\n      <td>-0.004266</td>\n      <td>-0.003106</td>\n      <td>-0.003106</td>\n      <td>-0.002271</td>\n      <td>-0.003366</td>\n      <td>-0.002271</td>\n    </tr>\n    <tr>\n      <th>...</th>\n      <td>...</td>\n      <td>...</td>\n      <td>...</td>\n      <td>...</td>\n      <td>...</td>\n      <td>...</td>\n      <td>...</td>\n      <td>...</td>\n      <td>...</td>\n      <td>...</td>\n      <td>...</td>\n      <td>...</td>\n      <td>...</td>\n      <td>...</td>\n      <td>...</td>\n      <td>...</td>\n      <td>...</td>\n      <td>...</td>\n      <td>...</td>\n      <td>...</td>\n      <td>...</td>\n    </tr>\n    <tr>\n      <th>Outcode_WF5</th>\n      <td>-0.000514</td>\n      <td>0.017988</td>\n      <td>0.153509</td>\n      <td>0.031024</td>\n      <td>-0.003106</td>\n      <td>-0.015140</td>\n      <td>-0.009593</td>\n      <td>-0.012070</td>\n      <td>-0.017706</td>\n      <td>-0.010326</td>\n      <td>...</td>\n      <td>-0.009843</td>\n      <td>-0.021304</td>\n      <td>-0.026148</td>\n      <td>-0.019836</td>\n      <td>-0.026541</td>\n      <td>1.000000</td>\n      <td>-0.019324</td>\n      <td>-0.014130</td>\n      <td>-0.020946</td>\n      <td>-0.014130</td>\n    </tr>\n    <tr>\n      <th>Outcode_WF6</th>\n      <td>-0.004686</td>\n      <td>-0.014004</td>\n      <td>-0.115992</td>\n      <td>-0.059847</td>\n      <td>-0.003106</td>\n      <td>-0.015140</td>\n      <td>-0.009593</td>\n      <td>-0.012070</td>\n      <td>-0.017706</td>\n      <td>-0.010326</td>\n      <td>...</td>\n      <td>-0.009843</td>\n      <td>-0.021304</td>\n      <td>-0.026148</td>\n      <td>-0.019836</td>\n      <td>-0.026541</td>\n      <td>-0.019324</td>\n      <td>1.000000</td>\n      <td>-0.014130</td>\n      <td>-0.020946</td>\n      <td>-0.014130</td>\n    </tr>\n    <tr>\n      <th>Outcode_WF7</th>\n      <td>0.040700</td>\n      <td>0.052420</td>\n      <td>-0.044015</td>\n      <td>0.001485</td>\n      <td>-0.002271</td>\n      <td>-0.011071</td>\n      <td>-0.007014</td>\n      <td>-0.008826</td>\n      <td>-0.012947</td>\n      <td>-0.007551</td>\n      <td>...</td>\n      <td>-0.007198</td>\n      <td>-0.015578</td>\n      <td>-0.019120</td>\n      <td>-0.014505</td>\n      <td>-0.019408</td>\n      <td>-0.014130</td>\n      <td>-0.014130</td>\n      <td>1.000000</td>\n      <td>-0.015316</td>\n      <td>-0.010333</td>\n    </tr>\n    <tr>\n      <th>Outcode_WF8</th>\n      <td>0.030236</td>\n      <td>0.047304</td>\n      <td>-0.112518</td>\n      <td>0.011314</td>\n      <td>-0.003366</td>\n      <td>-0.016411</td>\n      <td>-0.010398</td>\n      <td>-0.013084</td>\n      <td>-0.019192</td>\n      <td>-0.011193</td>\n      <td>...</td>\n      <td>-0.010669</td>\n      <td>-0.023092</td>\n      <td>-0.028343</td>\n      <td>-0.021501</td>\n      <td>-0.028769</td>\n      <td>-0.020946</td>\n      <td>-0.020946</td>\n      <td>-0.015316</td>\n      <td>1.000000</td>\n      <td>-0.015316</td>\n    </tr>\n    <tr>\n      <th>Outcode_WF9</th>\n      <td>0.001112</td>\n      <td>0.001171</td>\n      <td>-0.029498</td>\n      <td>-0.035264</td>\n      <td>-0.002271</td>\n      <td>-0.011071</td>\n      <td>-0.007014</td>\n      <td>-0.008826</td>\n      <td>-0.012947</td>\n      <td>-0.007551</td>\n      <td>...</td>\n      <td>-0.007198</td>\n      <td>-0.015578</td>\n      <td>-0.019120</td>\n      <td>-0.014505</td>\n      <td>-0.019408</td>\n      <td>-0.014130</td>\n      <td>-0.014130</td>\n      <td>-0.010333</td>\n      <td>-0.015316</td>\n      <td>1.000000</td>\n    </tr>\n  </tbody>\n</table>\n<p>89 rows × 89 columns</p>\n</div>"
     },
     "execution_count": 1654,
     "metadata": {},
     "output_type": "execute_result"
    }
   ],
   "source": [
    "# Not worth doing a heatmap so will look at correlation matrix\n",
    "# None show a strong correlation with price - that's a bit disappointing\n",
    "propertiesonehotencoded.corr()"
   ],
   "metadata": {
    "collapsed": false
   }
  },
  {
   "cell_type": "code",
   "execution_count": 1671,
   "outputs": [],
   "source": [
    "# Let's see the effect property type and the other features have on price after all the cleaning done above\n",
    "proptypeohe = pd.get_dummies(properties3copy, prefix='Prop_Type', columns=['property_type'])"
   ],
   "metadata": {
    "collapsed": false
   }
  },
  {
   "cell_type": "code",
   "execution_count": 1672,
   "outputs": [
    {
     "data": {
      "text/plain": "<Figure size 1080x720 with 2 Axes>",
      "image/png": "[encoded data removed]"
     },
     "metadata": {},
     "output_type": "display_data"
    }
   ],
   "source": [
    "# Plot a heatmap\n",
    "# Can see a strong positive correlation between detached properties and price, negligible with semi-detached and a strong negative correlation between terraced and price\n",
    "plt.figure(figsize = (15, 10))\n",
    "sns.heatmap(proptypeohe.corr(), annot = True)\n",
    "plt.show()"
   ],
   "metadata": {
    "collapsed": false
   }
  },
  {
   "cell_type": "code",
   "execution_count": 1664,
   "outputs": [],
   "source": [
    "# This will be my dataset for modelling\n",
    "cleaneddataset = properties3copy.copy()\n",
    "cleaneddataset.reset_index(drop=True, inplace=True)"
   ],
   "metadata": {
    "collapsed": false
   }
  },
  {
   "cell_type": "code",
   "execution_count": 1665,
   "outputs": [],
   "source": [
    "# Save this dataset ready for modelling\n",
    "# cleaneddataset.to_csv('dataset_for_modelling.csv', index=False)"
   ],
   "metadata": {
    "collapsed": false
   }
  },
  {
   "cell_type": "code",
   "execution_count": 1669,
   "outputs": [
    {
     "data": {
      "text/plain": "  property_type  bedrooms  bathrooms  nearest_station   price outcode\n0      Detached         5          2              0.7  550000     LS2\n1      Terraced         5          1              1.0  325000     LS2\n2      Terraced         6          3              0.8  450000     LS3\n3      Terraced         3          1              0.5  220000     LS4\n4      Detached         5          2              0.2  325000     LS4",
      "text/html": "<div>\n<style scoped>\n    .dataframe tbody tr th:only-of-type {\n        vertical-align: middle;\n    }\n\n    .dataframe tbody tr th {\n        vertical-align: top;\n    }\n\n    .dataframe thead th {\n        text-align: right;\n    }\n</style>\n<table border=\"1\" class=\"dataframe\">\n  <thead>\n    <tr style=\"text-align: right;\">\n      <th></th>\n      <th>property_type</th>\n      <th>bedrooms</th>\n      <th>bathrooms</th>\n      <th>nearest_station</th>\n      <th>price</th>\n      <th>outcode</th>\n    </tr>\n  </thead>\n  <tbody>\n    <tr>\n      <th>0</th>\n      <td>Detached</td>\n      <td>5</td>\n      <td>2</td>\n      <td>0.7</td>\n      <td>550000</td>\n      <td>LS2</td>\n    </tr>\n    <tr>\n      <th>1</th>\n      <td>Terraced</td>\n      <td>5</td>\n      <td>1</td>\n      <td>1.0</td>\n      <td>325000</td>\n      <td>LS2</td>\n    </tr>\n    <tr>\n      <th>2</th>\n      <td>Terraced</td>\n      <td>6</td>\n      <td>3</td>\n      <td>0.8</td>\n      <td>450000</td>\n      <td>LS3</td>\n    </tr>\n    <tr>\n      <th>3</th>\n      <td>Terraced</td>\n      <td>3</td>\n      <td>1</td>\n      <td>0.5</td>\n      <td>220000</td>\n      <td>LS4</td>\n    </tr>\n    <tr>\n      <th>4</th>\n      <td>Detached</td>\n      <td>5</td>\n      <td>2</td>\n      <td>0.2</td>\n      <td>325000</td>\n      <td>LS4</td>\n    </tr>\n  </tbody>\n</table>\n</div>"
     },
     "execution_count": 1669,
     "metadata": {},
     "output_type": "execute_result"
    }
   ],
   "source": [
    "# Let's show the final dataset I will be using\n",
    "cleaneddataset.drop(columns=['url', 'address', 'tenure', 'cleaned_address', 'gcode', 'outcode_from_gcode'], inplace=True)\n",
    "cleaneddataset.head()"
   ],
   "metadata": {
    "collapsed": false
   }
  },
  {
   "cell_type": "code",
   "execution_count": 1678,
   "outputs": [
    {
     "data": {
      "text/plain": "      property_type  bedrooms  bathrooms  nearest_station   price outcode\n0          Detached         5          2              0.7  550000     LS2\n1          Terraced         5          1              1.0  325000     LS2\n2          Terraced         6          3              0.8  450000     LS3\n3          Terraced         3          1              0.5  220000     LS4\n4          Detached         5          2              0.2  325000     LS4\n...             ...       ...        ...              ...     ...     ...\n4004       Terraced         3          1              1.5  160000     HD9\n4005       Terraced         2          1              1.6  150000     HD9\n4006       Terraced         2          1              2.8  150000     HD9\n4007  Semi-Detached         2          1              3.4  150000     HD9\n4008       Terraced         2          1              0.5  148000     HD9\n\n[4009 rows x 6 columns]",
      "text/html": "<div>\n<style scoped>\n    .dataframe tbody tr th:only-of-type {\n        vertical-align: middle;\n    }\n\n    .dataframe tbody tr th {\n        vertical-align: top;\n    }\n\n    .dataframe thead th {\n        text-align: right;\n    }\n</style>\n<table border=\"1\" class=\"dataframe\">\n  <thead>\n    <tr style=\"text-align: right;\">\n      <th></th>\n      <th>property_type</th>\n      <th>bedrooms</th>\n      <th>bathrooms</th>\n      <th>nearest_station</th>\n      <th>price</th>\n      <th>outcode</th>\n    </tr>\n  </thead>\n  <tbody>\n    <tr>\n      <th>0</th>\n      <td>Detached</td>\n      <td>5</td>\n      <td>2</td>\n      <td>0.7</td>\n      <td>550000</td>\n      <td>LS2</td>\n    </tr>\n    <tr>\n      <th>1</th>\n      <td>Terraced</td>\n      <td>5</td>\n      <td>1</td>\n      <td>1.0</td>\n      <td>325000</td>\n      <td>LS2</td>\n    </tr>\n    <tr>\n      <th>2</th>\n      <td>Terraced</td>\n      <td>6</td>\n      <td>3</td>\n      <td>0.8</td>\n      <td>450000</td>\n      <td>LS3</td>\n    </tr>\n    <tr>\n      <th>3</th>\n      <td>Terraced</td>\n      <td>3</td>\n      <td>1</td>\n      <td>0.5</td>\n      <td>220000</td>\n      <td>LS4</td>\n    </tr>\n    <tr>\n      <th>4</th>\n      <td>Detached</td>\n      <td>5</td>\n      <td>2</td>\n      <td>0.2</td>\n      <td>325000</td>\n      <td>LS4</td>\n    </tr>\n    <tr>\n      <th>...</th>\n      <td>...</td>\n      <td>...</td>\n      <td>...</td>\n      <td>...</td>\n      <td>...</td>\n      <td>...</td>\n    </tr>\n    <tr>\n      <th>4004</th>\n      <td>Terraced</td>\n      <td>3</td>\n      <td>1</td>\n      <td>1.5</td>\n      <td>160000</td>\n      <td>HD9</td>\n    </tr>\n    <tr>\n      <th>4005</th>\n      <td>Terraced</td>\n      <td>2</td>\n      <td>1</td>\n      <td>1.6</td>\n      <td>150000</td>\n      <td>HD9</td>\n    </tr>\n    <tr>\n      <th>4006</th>\n      <td>Terraced</td>\n      <td>2</td>\n      <td>1</td>\n      <td>2.8</td>\n      <td>150000</td>\n      <td>HD9</td>\n    </tr>\n    <tr>\n      <th>4007</th>\n      <td>Semi-Detached</td>\n      <td>2</td>\n      <td>1</td>\n      <td>3.4</td>\n      <td>150000</td>\n      <td>HD9</td>\n    </tr>\n    <tr>\n      <th>4008</th>\n      <td>Terraced</td>\n      <td>2</td>\n      <td>1</td>\n      <td>0.5</td>\n      <td>148000</td>\n      <td>HD9</td>\n    </tr>\n  </tbody>\n</table>\n<p>4009 rows × 6 columns</p>\n</div>"
     },
     "execution_count": 1678,
     "metadata": {},
     "output_type": "execute_result"
    }
   ],
   "source": [
    "cleaneddataset"
   ],
   "metadata": {
    "collapsed": false
   }
  },
  {
   "cell_type": "code",
   "execution_count": 1670,
   "outputs": [
    {
     "data": {
      "text/plain": "4009"
     },
     "execution_count": 1670,
     "metadata": {},
     "output_type": "execute_result"
    }
   ],
   "source": [
    "# Remaining dataset - Has 4009 rows, will utilise 5 of these features to train model and one target feature of price\n",
    "cleaneddataset.shape[0]"
   ],
   "metadata": {
    "collapsed": false
   }
  }
 ],
 "metadata": {
  "kernelspec": {
   "display_name": "Python 3",
   "language": "python",
   "name": "python3"
  },
  "language_info": {
   "codemirror_mode": {
    "name": "ipython",
    "version": 2
   },
   "file_extension": ".py",
   "mimetype": "text/x-python",
   "name": "python",
   "nbconvert_exporter": "python",
   "pygments_lexer": "ipython2",
   "version": "2.7.6"
  }
 },
 "nbformat": 4,
 "nbformat_minor": 0
}
