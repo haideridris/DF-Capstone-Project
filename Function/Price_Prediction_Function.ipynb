{
 "cells": [
  {
   "cell_type": "code",
   "execution_count": 284,
   "metadata": {
    "collapsed": true
   },
   "outputs": [],
   "source": [
    "import pickle\n",
    "import pandas as pd"
   ]
  },
  {
   "cell_type": "markdown",
   "source": [
    "# Load in the models"
   ],
   "metadata": {
    "collapsed": false
   }
  },
  {
   "cell_type": "code",
   "execution_count": 285,
   "outputs": [],
   "source": [
    "lrlow_model = pickle.load(open('../Function/lrmodel_low.pkl', 'rb'))\n",
    "lrhigh_model = pickle.load(open('../Function/lrmodel_high.pkl', 'rb'))"
   ],
   "metadata": {
    "collapsed": false
   }
  },
  {
   "cell_type": "markdown",
   "source": [
    "# Construct function"
   ],
   "metadata": {
    "collapsed": false
   }
  },
  {
   "cell_type": "code",
   "execution_count": 286,
   "outputs": [],
   "source": [
    "def predict_house_price(outcode_value, property_type, no_bedrooms, no_bathrooms, price_range):\n",
    "\n",
    "    lowdf = pd.DataFrame(columns=[\n",
    "                        'property_type_Terraced', 'bedrooms', 'bathrooms', 'outcode_LS15',\n",
    "                        'outcode_BD4','outcode_HX1', 'outcode_BD3', 'outcode_BD8',\n",
    "                        'propery_type_Semi-Detached','outcode_LS26', 'outcode_LS19',\n",
    "                        'outcode_LS18', 'outcode_LS4', 'outcode_LS28', 'outcode_LS29',\n",
    "                        'outcode_LS25', 'outcode_LS20', 'outcode_BD5', 'outcode_HD4',\n",
    "                        'outcode_WF9','outcode_BD24','outcode_HD9','outcode_BD6',\n",
    "                        'outcode_BD21', 'outcode_BD7', 'outcode_WF11', 'outcode_LS6',\n",
    "                        'outcode_LS7', 'outcode_LS5', 'outcode_WF3', 'outcode_LS21',\n",
    "                        'outcode_HX7', 'outcode_LS17', 'outcode_LS13', 'outcode_BD16',\n",
    "                        'outcode_BD18', 'outcode_HD8', 'outcode_HD7', 'outcode_LS27',\n",
    "                        'outcode_BD23', 'outcode_BD11', 'outcode_BD20', 'outcode_LS22',\n",
    "                        'outcode_LS16', 'outcode_BD17', 'outcode_WF5', 'outcode_LS24',\n",
    "                        'const'])\n",
    "\n",
    "    highdf = pd.DataFrame(columns=[\n",
    "                            'bedrooms', 'property_type_Semi-Detached', 'property_type_Terraced',\n",
    "                            'outcode_LS29', 'outcode_LS17', 'bathrooms','outcode_WF10','outcode_LS8',\n",
    "                            'outcode_LS16', 'outcode_LS18', 'outcode_HD9', 'outcode_LS15',\n",
    "                            'outcode_BD17', 'outcode_LS10','outcode_BD4', 'outcode_BD6',\n",
    "                            'outcode_LS6', 'outcode_LS7', 'outcode_BD5', 'outcode_LS28',\n",
    "                            'outcode_LS20', 'outcode_HD8', 'outcode_BD23', 'outcode_WF6',\n",
    "                            'outcode_LS21', 'const'])\n",
    "\n",
    "    if price_range == 'Lower':\n",
    "\n",
    "        lowdf.at[0] = 0\n",
    "        lowdf.at[0, 'const'] = 1.0\n",
    "        lowdf.at[0, 'bedrooms'] = no_bedrooms\n",
    "        lowdf.at[0, 'bathrooms'] = no_bathrooms\n",
    "        if property_type == 'Terraced':\n",
    "            lowdf.at[0, 'property_type_Terraced'] = 1\n",
    "        if property_type == 'Semi-Detached':\n",
    "            lowdf.at[0, 'property_type_Semi-Detached'] = 1\n",
    "\n",
    "        # Get a list of all the columns in dataframe\n",
    "        lowdfcols = list(lowdf.columns)\n",
    "        # Loop through the columns\n",
    "        for i in lowdfcols:\n",
    "            # If the column is equal to the outcode value inputted by the user and prefixed with outcode, assign this column a value of 1\n",
    "            outcode_col = 'outcode_'+outcode_value\n",
    "            if outcode_col == i:\n",
    "                lowdf.at[0, outcode_col] = 1\n",
    "\n",
    "        low_model_prediction = lrlow_model.predict(lowdf)\n",
    "        return low_model_prediction[0]\n",
    "\n",
    "    elif price_range == 'Upper':\n",
    "\n",
    "        highdf.at[0] = 0\n",
    "        if property_type == 'Terraced':\n",
    "            lowdf.at[0, 'property_type_Terraced'] = 1\n",
    "        if property_type == 'Semi-Detached':\n",
    "            lowdf.at[0, 'property_type_Semi-Detached'] = 1\n",
    "        highdf.at[0, 'const'] = 1.0\n",
    "        highdf.at[0, 'bedrooms'] = no_bedrooms\n",
    "        highdf.at[0, 'bathrooms'] = no_bathrooms\n",
    "\n",
    "        # Get a list of all the columns in dataframe\n",
    "        highdfcols = list(highdf.columns)\n",
    "        # Loop through the columns\n",
    "        for i in highdfcols:\n",
    "            # If the column is equal to the outcode value inputted by the user and prefixed with outcode, assign this column a value of 1\n",
    "            outcode_col = 'outcode_'+outcode_value\n",
    "            if outcode_col == i:\n",
    "                lowdf.at[0, outcode_col] = 1\n",
    "\n",
    "        high_model_prediction = lrhigh_model.predict(highdf)\n",
    "        return high_model_prediction[0]\n"
   ],
   "metadata": {
    "collapsed": false
   }
  },
  {
   "cell_type": "code",
   "execution_count": 287,
   "outputs": [],
   "source": [
    "# Improve this to prevent taking LS1 postcode\n",
    "def user_input():\n",
    "    outcode_value = str(input('What Postcode outcode is your property located within?'))\n",
    "    property_type = str(input('What type of property do you have? Options: Terraced, Semi-Detached or Detached'))\n",
    "    no_bedrooms = int(input('What number of bedrooms does your property have?'))\n",
    "    no_bathrooms = int(input('What number of bathrooms does your property have?'))\n",
    "    price_range = str(input('Please enter what price range you anticipate your property falls within?\\n Type Lower for within £10000-£250,000 \\n Type Upper for within £250001-£570000'))\n",
    "    prediction_value = predict_house_price(outcode_value, property_type, no_bedrooms, no_bathrooms, price_range)\n",
    "    output = 'Your property is worth £'+ str(round(prediction_value,2))\n",
    "    return output"
   ],
   "metadata": {
    "collapsed": false
   }
  },
  {
   "cell_type": "code",
   "execution_count": 290,
   "outputs": [
    {
     "data": {
      "text/plain": "'Your property is worth £238414.77'"
     },
     "execution_count": 290,
     "metadata": {},
     "output_type": "execute_result"
    }
   ],
   "source": [
    "user_input()"
   ],
   "metadata": {
    "collapsed": false
   }
  },
  {
   "cell_type": "markdown",
   "source": [
    "## Some Test cases"
   ],
   "metadata": {
    "collapsed": false
   }
  },
  {
   "cell_type": "markdown",
   "source": [
    "Property with prediction in lower price range\n",
    "LS7\n",
    "Terraced\n",
    "3 bedrooms\n",
    "3 bathrooms\n",
    "238414.77251457048\n",
    "\n",
    "Property with prediction in higher price range\n",
    "LS25\n",
    "Detached\n",
    "5 bedrooms\n",
    "2 bathrooms\n",
    "431798.449523"
   ],
   "metadata": {
    "collapsed": false
   }
  }
 ],
 "metadata": {
  "kernelspec": {
   "display_name": "Python 3",
   "language": "python",
   "name": "python3"
  },
  "language_info": {
   "codemirror_mode": {
    "name": "ipython",
    "version": 2
   },
   "file_extension": ".py",
   "mimetype": "text/x-python",
   "name": "python",
   "nbconvert_exporter": "python",
   "pygments_lexer": "ipython2",
   "version": "2.7.6"
  }
 },
 "nbformat": 4,
 "nbformat_minor": 0
}
